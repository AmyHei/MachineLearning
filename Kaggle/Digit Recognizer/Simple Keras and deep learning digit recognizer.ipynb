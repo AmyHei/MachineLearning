{
 "cells": [
  {
   "cell_type": "markdown",
   "metadata": {
    "_uuid": "ab687b49ad4821c20d0cf58580ddbee262a5826c"
   },
   "source": [
    "### Dependencies"
   ]
  },
  {
   "cell_type": "code",
   "execution_count": 1,
   "metadata": {
    "_uuid": "8f2839f25d086af736a60e9eeb907d3b93b6e0e5",
    "_cell_guid": "b1076dfc-b9ad-4769-8c92-a6c4dae69d19",
    "trusted": true,
    "_kg_hide-input": true,
    "_kg_hide-output": true
   },
   "outputs": [
    {
     "name": "stderr",
     "output_type": "stream",
     "text": [
      "Using TensorFlow backend.\n"
     ]
    }
   ],
   "source": [
    "import numpy as np\n",
    "import pandas as pd\n",
    "import seaborn as sns\n",
    "from seaborn import countplot\n",
    "import matplotlib.pyplot as plt\n",
    "from keras import optimizers\n",
    "from keras.layers import Dense, Dropout, Flatten, Conv2D, MaxPool2D, Activation, BatchNormalization\n",
    "from keras.models import Sequential\n",
    "from keras.preprocessing.image import ImageDataGenerator\n",
    "from sklearn.model_selection import train_test_split\n",
    "from sklearn.metrics import confusion_matrix"
   ]
  },
  {
   "cell_type": "markdown",
   "metadata": {
    "_uuid": "e8dae2362b2cec6977a2a2fae792955d3d8428cb"
   },
   "source": [
    "### Auxiliar functions"
   ]
  },
  {
   "cell_type": "code",
   "execution_count": 2,
   "metadata": {
    "trusted": true,
    "_uuid": "a9ea3b0f994f8d2b2fedd091f8cc3e1fe9d0b5dc",
    "_kg_hide-input": true,
    "_kg_hide-output": true
   },
   "outputs": [],
   "source": [
    "def plot_metrics_primary(acc, val_acc, loss, val_loss):\n",
    "    fig, (ax1, ax2) = plt.subplots(1, 2, sharex='col', figsize=(20,7))\n",
    "\n",
    "    ax1.plot(acc, label='Train Accuracy')\n",
    "    ax1.plot(val_acc, label='Validation accuracy')\n",
    "    ax1.legend(loc='best')\n",
    "    ax1.set_title('Accuracy')\n",
    "\n",
    "    ax2.plot(loss, label='Train loss')\n",
    "    ax2.plot(val_loss, label='Validation loss')\n",
    "    ax2.legend(loc='best')\n",
    "    ax2.set_title('Loss')\n",
    "\n",
    "    plt.xlabel('Epochs')\n",
    "    \n",
    "    \n",
    "def plot_confusion_matrix(cnf_matrix, labels): \n",
    "    cnf_matrix_norm = cnf_matrix.astype('float') / cnf_matrix.sum(axis=1)[:, np.newaxis]\n",
    "    df_cm = pd.DataFrame(cnf_matrix_norm, index=labels, columns=labels)\n",
    "    plt.figure(figsize=(20,7))\n",
    "    sns.heatmap(df_cm, annot=True, fmt='.2f', cmap=\"Blues\")"
   ]
  },
  {
   "cell_type": "markdown",
   "metadata": {
    "_uuid": "78cb4f7b332e076828efe07c336cc976c5861f6f"
   },
   "source": [
    "### Parameters"
   ]
  },
  {
   "cell_type": "code",
   "execution_count": 3,
   "metadata": {
    "_cell_guid": "79c7e3d0-c299-4dcb-8224-4455121ee9b0",
    "_uuid": "d629ff2d2480ee46fbb7e2d37f6b5fab8052498a",
    "trusted": true
   },
   "outputs": [],
   "source": [
    "TRAIN_PATH = '../input/train.csv'\n",
    "TEST_PATH = '../input/test.csv'\n",
    "SUBMISSION_NAME = 'submission.csv'\n",
    "\n",
    "# Model parameters\n",
    "BATCH_SIZE = 64\n",
    "EPOCHS = 45\n",
    "LEARNING_RATE = 0.001\n",
    "HEIGHT = 28\n",
    "WIDTH = 28\n",
    "CANAL = 1\n",
    "N_CLASSES = 10"
   ]
  },
  {
   "cell_type": "markdown",
   "metadata": {
    "_uuid": "f91c93b6141d160b3b2f63a2b12ecfe186e44277"
   },
   "source": [
    "### Load data"
   ]
  },
  {
   "cell_type": "code",
   "execution_count": 4,
   "metadata": {
    "trusted": true,
    "_uuid": "9c5c17d8ad649fe9f2f54753b8de96ee6378cbc9"
   },
   "outputs": [],
   "source": [
    "train = pd.read_csv(TRAIN_PATH)\n",
    "test = pd.read_csv(TEST_PATH)\n",
    "labels = train['label']\n",
    "train = train.drop(['label'], axis=1)"
   ]
  },
  {
   "cell_type": "markdown",
   "metadata": {
    "_uuid": "5bd936f36c010701e87111c2df40f4f0c52aea85"
   },
   "source": [
    "### Let's take a look at the data"
   ]
  },
  {
   "cell_type": "code",
   "execution_count": 5,
   "metadata": {
    "trusted": true,
    "_uuid": "f072a8d5218ebf5f865bd66224e6c462b44c358d",
    "_kg_hide-input": true
   },
   "outputs": [
    {
     "data": {
      "text/html": [
       "<div>\n<style scoped>\n    .dataframe tbody tr th:only-of-type {\n        vertical-align: middle;\n    }\n\n    .dataframe tbody tr th {\n        vertical-align: top;\n    }\n\n    .dataframe thead th {\n        text-align: right;\n    }\n</style>\n<table border=\"1\" class=\"dataframe\">\n  <thead>\n    <tr style=\"text-align: right;\">\n      <th></th>\n      <th>pixel0</th>\n      <th>pixel1</th>\n      <th>pixel2</th>\n      <th>pixel3</th>\n      <th>pixel4</th>\n      <th>pixel5</th>\n      <th>pixel6</th>\n      <th>pixel7</th>\n      <th>pixel8</th>\n      <th>pixel9</th>\n      <th>pixel10</th>\n      <th>pixel11</th>\n      <th>pixel12</th>\n      <th>pixel13</th>\n      <th>pixel14</th>\n      <th>pixel15</th>\n      <th>pixel16</th>\n      <th>pixel17</th>\n      <th>pixel18</th>\n      <th>pixel19</th>\n      <th>pixel20</th>\n      <th>pixel21</th>\n      <th>pixel22</th>\n      <th>pixel23</th>\n      <th>pixel24</th>\n      <th>pixel25</th>\n      <th>pixel26</th>\n      <th>pixel27</th>\n      <th>pixel28</th>\n      <th>pixel29</th>\n      <th>pixel30</th>\n      <th>pixel31</th>\n      <th>pixel32</th>\n      <th>pixel33</th>\n      <th>pixel34</th>\n      <th>pixel35</th>\n      <th>pixel36</th>\n      <th>pixel37</th>\n      <th>pixel38</th>\n      <th>pixel39</th>\n      <th>...</th>\n      <th>pixel744</th>\n      <th>pixel745</th>\n      <th>pixel746</th>\n      <th>pixel747</th>\n      <th>pixel748</th>\n      <th>pixel749</th>\n      <th>pixel750</th>\n      <th>pixel751</th>\n      <th>pixel752</th>\n      <th>pixel753</th>\n      <th>pixel754</th>\n      <th>pixel755</th>\n      <th>pixel756</th>\n      <th>pixel757</th>\n      <th>pixel758</th>\n      <th>pixel759</th>\n      <th>pixel760</th>\n      <th>pixel761</th>\n      <th>pixel762</th>\n      <th>pixel763</th>\n      <th>pixel764</th>\n      <th>pixel765</th>\n      <th>pixel766</th>\n      <th>pixel767</th>\n      <th>pixel768</th>\n      <th>pixel769</th>\n      <th>pixel770</th>\n      <th>pixel771</th>\n      <th>pixel772</th>\n      <th>pixel773</th>\n      <th>pixel774</th>\n      <th>pixel775</th>\n      <th>pixel776</th>\n      <th>pixel777</th>\n      <th>pixel778</th>\n      <th>pixel779</th>\n      <th>pixel780</th>\n      <th>pixel781</th>\n      <th>pixel782</th>\n      <th>pixel783</th>\n    </tr>\n  </thead>\n  <tbody>\n    <tr>\n      <th>0</th>\n      <td>0</td>\n      <td>0</td>\n      <td>0</td>\n      <td>0</td>\n      <td>0</td>\n      <td>0</td>\n      <td>0</td>\n      <td>0</td>\n      <td>0</td>\n      <td>0</td>\n      <td>0</td>\n      <td>0</td>\n      <td>0</td>\n      <td>0</td>\n      <td>0</td>\n      <td>0</td>\n      <td>0</td>\n      <td>0</td>\n      <td>0</td>\n      <td>0</td>\n      <td>0</td>\n      <td>0</td>\n      <td>0</td>\n      <td>0</td>\n      <td>0</td>\n      <td>0</td>\n      <td>0</td>\n      <td>0</td>\n      <td>0</td>\n      <td>0</td>\n      <td>0</td>\n      <td>0</td>\n      <td>0</td>\n      <td>0</td>\n      <td>0</td>\n      <td>0</td>\n      <td>0</td>\n      <td>0</td>\n      <td>0</td>\n      <td>0</td>\n      <td>...</td>\n      <td>0</td>\n      <td>0</td>\n      <td>0</td>\n      <td>0</td>\n      <td>0</td>\n      <td>0</td>\n      <td>0</td>\n      <td>0</td>\n      <td>0</td>\n      <td>0</td>\n      <td>0</td>\n      <td>0</td>\n      <td>0</td>\n      <td>0</td>\n      <td>0</td>\n      <td>0</td>\n      <td>0</td>\n      <td>0</td>\n      <td>0</td>\n      <td>0</td>\n      <td>0</td>\n      <td>0</td>\n      <td>0</td>\n      <td>0</td>\n      <td>0</td>\n      <td>0</td>\n      <td>0</td>\n      <td>0</td>\n      <td>0</td>\n      <td>0</td>\n      <td>0</td>\n      <td>0</td>\n      <td>0</td>\n      <td>0</td>\n      <td>0</td>\n      <td>0</td>\n      <td>0</td>\n      <td>0</td>\n      <td>0</td>\n      <td>0</td>\n    </tr>\n    <tr>\n      <th>1</th>\n      <td>0</td>\n      <td>0</td>\n      <td>0</td>\n      <td>0</td>\n      <td>0</td>\n      <td>0</td>\n      <td>0</td>\n      <td>0</td>\n      <td>0</td>\n      <td>0</td>\n      <td>0</td>\n      <td>0</td>\n      <td>0</td>\n      <td>0</td>\n      <td>0</td>\n      <td>0</td>\n      <td>0</td>\n      <td>0</td>\n      <td>0</td>\n      <td>0</td>\n      <td>0</td>\n      <td>0</td>\n      <td>0</td>\n      <td>0</td>\n      <td>0</td>\n      <td>0</td>\n      <td>0</td>\n      <td>0</td>\n      <td>0</td>\n      <td>0</td>\n      <td>0</td>\n      <td>0</td>\n      <td>0</td>\n      <td>0</td>\n      <td>0</td>\n      <td>0</td>\n      <td>0</td>\n      <td>0</td>\n      <td>0</td>\n      <td>0</td>\n      <td>...</td>\n      <td>0</td>\n      <td>0</td>\n      <td>0</td>\n      <td>0</td>\n      <td>0</td>\n      <td>0</td>\n      <td>0</td>\n      <td>0</td>\n      <td>0</td>\n      <td>0</td>\n      <td>0</td>\n      <td>0</td>\n      <td>0</td>\n      <td>0</td>\n      <td>0</td>\n      <td>0</td>\n      <td>0</td>\n      <td>0</td>\n      <td>0</td>\n      <td>0</td>\n      <td>0</td>\n      <td>0</td>\n      <td>0</td>\n      <td>0</td>\n      <td>0</td>\n      <td>0</td>\n      <td>0</td>\n      <td>0</td>\n      <td>0</td>\n      <td>0</td>\n      <td>0</td>\n      <td>0</td>\n      <td>0</td>\n      <td>0</td>\n      <td>0</td>\n      <td>0</td>\n      <td>0</td>\n      <td>0</td>\n      <td>0</td>\n      <td>0</td>\n    </tr>\n    <tr>\n      <th>2</th>\n      <td>0</td>\n      <td>0</td>\n      <td>0</td>\n      <td>0</td>\n      <td>0</td>\n      <td>0</td>\n      <td>0</td>\n      <td>0</td>\n      <td>0</td>\n      <td>0</td>\n      <td>0</td>\n      <td>0</td>\n      <td>0</td>\n      <td>0</td>\n      <td>0</td>\n      <td>0</td>\n      <td>0</td>\n      <td>0</td>\n      <td>0</td>\n      <td>0</td>\n      <td>0</td>\n      <td>0</td>\n      <td>0</td>\n      <td>0</td>\n      <td>0</td>\n      <td>0</td>\n      <td>0</td>\n      <td>0</td>\n      <td>0</td>\n      <td>0</td>\n      <td>0</td>\n      <td>0</td>\n      <td>0</td>\n      <td>0</td>\n      <td>0</td>\n      <td>0</td>\n      <td>0</td>\n      <td>0</td>\n      <td>0</td>\n      <td>0</td>\n      <td>...</td>\n      <td>0</td>\n      <td>0</td>\n      <td>0</td>\n      <td>0</td>\n      <td>0</td>\n      <td>0</td>\n      <td>0</td>\n      <td>0</td>\n      <td>0</td>\n      <td>0</td>\n      <td>0</td>\n      <td>0</td>\n      <td>0</td>\n      <td>0</td>\n      <td>0</td>\n      <td>0</td>\n      <td>0</td>\n      <td>0</td>\n      <td>0</td>\n      <td>0</td>\n      <td>0</td>\n      <td>0</td>\n      <td>0</td>\n      <td>0</td>\n      <td>0</td>\n      <td>0</td>\n      <td>0</td>\n      <td>0</td>\n      <td>0</td>\n      <td>0</td>\n      <td>0</td>\n      <td>0</td>\n      <td>0</td>\n      <td>0</td>\n      <td>0</td>\n      <td>0</td>\n      <td>0</td>\n      <td>0</td>\n      <td>0</td>\n      <td>0</td>\n    </tr>\n    <tr>\n      <th>3</th>\n      <td>0</td>\n      <td>0</td>\n      <td>0</td>\n      <td>0</td>\n      <td>0</td>\n      <td>0</td>\n      <td>0</td>\n      <td>0</td>\n      <td>0</td>\n      <td>0</td>\n      <td>0</td>\n      <td>0</td>\n      <td>0</td>\n      <td>0</td>\n      <td>0</td>\n      <td>0</td>\n      <td>0</td>\n      <td>0</td>\n      <td>0</td>\n      <td>0</td>\n      <td>0</td>\n      <td>0</td>\n      <td>0</td>\n      <td>0</td>\n      <td>0</td>\n      <td>0</td>\n      <td>0</td>\n      <td>0</td>\n      <td>0</td>\n      <td>0</td>\n      <td>0</td>\n      <td>0</td>\n      <td>0</td>\n      <td>0</td>\n      <td>0</td>\n      <td>0</td>\n      <td>0</td>\n      <td>0</td>\n      <td>0</td>\n      <td>0</td>\n      <td>...</td>\n      <td>0</td>\n      <td>0</td>\n      <td>0</td>\n      <td>0</td>\n      <td>0</td>\n      <td>0</td>\n      <td>0</td>\n      <td>0</td>\n      <td>0</td>\n      <td>0</td>\n      <td>0</td>\n      <td>0</td>\n      <td>0</td>\n      <td>0</td>\n      <td>0</td>\n      <td>0</td>\n      <td>0</td>\n      <td>0</td>\n      <td>0</td>\n      <td>0</td>\n      <td>0</td>\n      <td>0</td>\n      <td>0</td>\n      <td>0</td>\n      <td>0</td>\n      <td>0</td>\n      <td>0</td>\n      <td>0</td>\n      <td>0</td>\n      <td>0</td>\n      <td>0</td>\n      <td>0</td>\n      <td>0</td>\n      <td>0</td>\n      <td>0</td>\n      <td>0</td>\n      <td>0</td>\n      <td>0</td>\n      <td>0</td>\n      <td>0</td>\n    </tr>\n    <tr>\n      <th>4</th>\n      <td>0</td>\n      <td>0</td>\n      <td>0</td>\n      <td>0</td>\n      <td>0</td>\n      <td>0</td>\n      <td>0</td>\n      <td>0</td>\n      <td>0</td>\n      <td>0</td>\n      <td>0</td>\n      <td>0</td>\n      <td>0</td>\n      <td>0</td>\n      <td>0</td>\n      <td>0</td>\n      <td>0</td>\n      <td>0</td>\n      <td>0</td>\n      <td>0</td>\n      <td>0</td>\n      <td>0</td>\n      <td>0</td>\n      <td>0</td>\n      <td>0</td>\n      <td>0</td>\n      <td>0</td>\n      <td>0</td>\n      <td>0</td>\n      <td>0</td>\n      <td>0</td>\n      <td>0</td>\n      <td>0</td>\n      <td>0</td>\n      <td>0</td>\n      <td>0</td>\n      <td>0</td>\n      <td>0</td>\n      <td>0</td>\n      <td>0</td>\n      <td>...</td>\n      <td>0</td>\n      <td>0</td>\n      <td>0</td>\n      <td>0</td>\n      <td>0</td>\n      <td>0</td>\n      <td>0</td>\n      <td>0</td>\n      <td>0</td>\n      <td>0</td>\n      <td>0</td>\n      <td>0</td>\n      <td>0</td>\n      <td>0</td>\n      <td>0</td>\n      <td>0</td>\n      <td>0</td>\n      <td>0</td>\n      <td>0</td>\n      <td>0</td>\n      <td>0</td>\n      <td>0</td>\n      <td>0</td>\n      <td>0</td>\n      <td>0</td>\n      <td>0</td>\n      <td>0</td>\n      <td>0</td>\n      <td>0</td>\n      <td>0</td>\n      <td>0</td>\n      <td>0</td>\n      <td>0</td>\n      <td>0</td>\n      <td>0</td>\n      <td>0</td>\n      <td>0</td>\n      <td>0</td>\n      <td>0</td>\n      <td>0</td>\n    </tr>\n  </tbody>\n</table>\n</div>"
      ],
      "text/plain": [
       "   pixel0  pixel1  pixel2    ...     pixel781  pixel782  pixel783\n0       0       0       0    ...            0         0         0\n1       0       0       0    ...            0         0         0\n2       0       0       0    ...            0         0         0\n3       0       0       0    ...            0         0         0\n4       0       0       0    ...            0         0         0\n\n[5 rows x 784 columns]"
      ]
     },
     "execution_count": 5,
     "metadata": {},
     "output_type": "execute_result"
    }
   ],
   "source": [
    "train.head(5)"
   ]
  },
  {
   "cell_type": "code",
   "execution_count": 6,
   "metadata": {
    "trusted": true,
    "_uuid": "a1a89d69bf199447df484bd83e87ad58937ff84e",
    "_kg_hide-input": true
   },
   "outputs": [
    {
     "data": {
      "text/plain": [
       "(42000, 784)"
      ]
     },
     "execution_count": 6,
     "metadata": {},
     "output_type": "execute_result"
    }
   ],
   "source": [
    "train.shape"
   ]
  },
  {
   "cell_type": "markdown",
   "metadata": {
    "_uuid": "6539d92aba554059f35648692f6413290bc37afc"
   },
   "source": [
    "As we can see we have 42000 records on the train data, and our data is just a bunch of pixels (784 per image to be more exactly), each image comes as a 28x28 matrix of pixels.\n\nLet's take a look at our train data by label category."
   ]
  },
  {
   "cell_type": "code",
   "execution_count": 7,
   "metadata": {
    "trusted": true,
    "_uuid": "ae43eb726cf17e0cfff5d9cb8142e03501e008f1",
    "_kg_hide-input": true
   },
   "outputs": [
    {
     "data": {
      "text/plain": [
       "<matplotlib.axes._subplots.AxesSubplot at 0x7faca4d84208>"
      ]
     },
     "execution_count": 7,
     "metadata": {},
     "output_type": "execute_result"
    },
    {
     "data": {
      "image/png": "[encoded data removed]",
      "text/plain": [
       "<Figure size 432x288 with 1 Axes>"
      ]
     },
     "metadata": {
      "needs_background": "light"
     },
     "output_type": "display_data"
    }
   ],
   "source": [
    "countplot(labels)"
   ]
  },
  {
   "cell_type": "code",
   "execution_count": 8,
   "metadata": {
    "trusted": true,
    "_uuid": "caa30bdb2f9e50210529dbceddbe37abfc342f4f",
    "_kg_hide-input": true
   },
   "outputs": [
    {
     "data": {
      "text/plain": [
       "1    4684\n7    4401\n3    4351\n9    4188\n2    4177\n6    4137\n0    4132\n4    4072\n8    4063\n5    3795\nName: label, dtype: int64"
      ]
     },
     "execution_count": 8,
     "metadata": {},
     "output_type": "execute_result"
    }
   ],
   "source": [
    "labels.value_counts()"
   ]
  },
  {
   "cell_type": "markdown",
   "metadata": {
    "_uuid": "8211e517f110d9fc5a14a501dd451418a77a38b9"
   },
   "source": [
    "We have less labels 5 but luckily we won't have to deal with highly imbalanced data, this will make our work easier."
   ]
  },
  {
   "cell_type": "markdown",
   "metadata": {
    "_uuid": "a06c428f44eecbfd8bd1525a74ebf2581602eb2a"
   },
   "source": [
    "### Reshape data"
   ]
  },
  {
   "cell_type": "code",
   "execution_count": 9,
   "metadata": {
    "trusted": true,
    "_uuid": "010de6bd3f415b5f05cf901828af9b953ec5b146"
   },
   "outputs": [],
   "source": [
    "# Reshape image in 3 dimensions (height, width, canal)\n",
    "train = train.values.reshape(-1,HEIGHT,WIDTH,CANAL)\n",
    "test = test.values.reshape(-1,HEIGHT,WIDTH,CANAL)\n",
    "# Turn labels into np arrays\n",
    "labels = labels.values"
   ]
  },
  {
   "cell_type": "code",
   "execution_count": 10,
   "metadata": {
    "trusted": true,
    "_uuid": "95923655ee18e97c9c8b4e1dcf8f0b55f6db9126"
   },
   "outputs": [
    {
     "data": {
      "text/plain": [
       "(42000, 28, 28, 1)"
      ]
     },
     "execution_count": 10,
     "metadata": {},
     "output_type": "execute_result"
    }
   ],
   "source": [
    "train.shape"
   ]
  },
  {
   "cell_type": "markdown",
   "metadata": {
    "_uuid": "bae59f1b06f210e5d86e13b6fe6ab66b558a4e27"
   },
   "source": [
    "Would be better to visualize some of the records as a images."
   ]
  },
  {
   "cell_type": "code",
   "execution_count": 11,
   "metadata": {
    "trusted": true,
    "_uuid": "fbf587357c47f70db3681672096897bc20fcb5dc",
    "_kg_hide-input": true
   },
   "outputs": [
    {
     "data": {
      "image/png": "[encoded data removed]",
      "text/plain": [
       "<Figure size 432x288 with 8 Axes>"
      ]
     },
     "metadata": {
      "needs_background": "light"
     },
     "output_type": "display_data"
    }
   ],
   "source": [
    "for i in range(9):\n",
    "    plt.subplot(330 + (i+1))\n",
    "    plt.imshow(train[i][:,:,0], cmap=plt.get_cmap('gray'))\n",
    "    plt.tight_layout()\n",
    "    plt.title(labels[i]);"
   ]
  },
  {
   "cell_type": "markdown",
   "metadata": {
    "_uuid": "a8b5649dd5db29f6650e50509fde60afc977b730"
   },
   "source": [
    "For a human label these would be a easy task, but can our model perform well enought?"
   ]
  },
  {
   "cell_type": "markdown",
   "metadata": {
    "_uuid": "15c49c2f60ead9b6cb9a377646bc63b81d70ff1c"
   },
   "source": [
    "### One-hot encode the labels"
   ]
  },
  {
   "cell_type": "code",
   "execution_count": 12,
   "metadata": {
    "trusted": true,
    "_uuid": "163b94e9fb8b086199ee663c8fa4990f839c20a0"
   },
   "outputs": [
    {
     "name": "stderr",
     "output_type": "stream",
     "text": [
      "/opt/conda/lib/python3.6/site-packages/ipykernel_launcher.py:1: FutureWarning: Method .as_matrix will be removed in a future version. Use .values instead.\n  \"\"\"Entry point for launching an IPython kernel.\n"
     ]
    }
   ],
   "source": [
    "labels = pd.get_dummies(labels).as_matrix()"
   ]
  },
  {
   "cell_type": "markdown",
   "metadata": {
    "_uuid": "f48f98e0aea228972e5f191d747f053045e8ce15"
   },
   "source": [
    "### Normalize data\n* Normalizing data should improve our model convergence time."
   ]
  },
  {
   "cell_type": "code",
   "execution_count": 13,
   "metadata": {
    "trusted": true,
    "_uuid": "1d3bc2797a39d800af702edb51574a13cc2e75b9"
   },
   "outputs": [],
   "source": [
    "train = train / 255.0\n",
    "test = test / 255.0"
   ]
  },
  {
   "cell_type": "markdown",
   "metadata": {
    "_uuid": "87d72ef70d1c448811c55b64e322c2dbe5640d02"
   },
   "source": [
    "### Split data in train and validation (90% ~ 10%)"
   ]
  },
  {
   "cell_type": "code",
   "execution_count": 14,
   "metadata": {
    "trusted": true,
    "_uuid": "3853224b767c94c194ddb82e3534b2df37528163"
   },
   "outputs": [],
   "source": [
    "x_train, x_val, y_train, y_val = train_test_split(train, labels, test_size=0.1, random_state=1)"
   ]
  },
  {
   "cell_type": "markdown",
   "metadata": {
    "_uuid": "ad7167a00430f3603259628fc635affe647c338a"
   },
   "source": [
    "### Data augmentation\n* Data augmentation is used to create more data from the current set we have, here, using the Keras API for data augmentation (ImageDataGenerator), we can generate more samples while feeding the model, the new data is created adding some noise to the real data.\n* In this case data augmentation seems to be very useful, as we saw most of the data seems to be the original one but with a bit of distortion."
   ]
  },
  {
   "cell_type": "code",
   "execution_count": 15,
   "metadata": {
    "trusted": true,
    "_uuid": "9774228bea9af8e20f571c4dffe66dc256f7dfca"
   },
   "outputs": [],
   "source": [
    "datagen = ImageDataGenerator(\n",
    "        featurewise_center=False,  # set input mean to 0 over the dataset\n",
    "        samplewise_center=False,  # set each sample mean to 0\n",
    "        featurewise_std_normalization=False,  # divide inputs by std of the dataset\n",
    "        samplewise_std_normalization=False,  # divide each input by its std\n",
    "        zca_whitening=False,  # apply ZCA whitening\n",
    "        horizontal_flip=False,  # randomly flip images\n",
    "        vertical_flip=False,  # randomly flip images\n",
    "        rotation_range=15,  # randomly rotate images in the range (degrees, 0 to 180)\n",
    "        zoom_range = 0.15, # Randomly zoom image \n",
    "        width_shift_range=0.15,  # randomly shift images horizontally (fraction of total width)\n",
    "        height_shift_range=0.15)  # randomly shift images vertically (fraction of total height)\n",
    "\n",
    "datagen.fit(x_train)"
   ]
  },
  {
   "cell_type": "markdown",
   "metadata": {
    "_uuid": "654d260d26398abafd353d7ce8f01032fc595d86"
   },
   "source": [
    "### Model"
   ]
  },
  {
   "cell_type": "code",
   "execution_count": 16,
   "metadata": {
    "trusted": true,
    "_uuid": "7ee3da8b687719b3a3de90473db89ee7357033d2"
   },
   "outputs": [],
   "source": [
    "model = Sequential()\n",
    "\n",
    "model.add(Conv2D(filters=32, kernel_size=(5,5),padding='Same', input_shape=(HEIGHT, WIDTH, CANAL)))\n",
    "model.add(BatchNormalization())\n",
    "model.add(Activation('relu'))\n",
    "model.add(Conv2D(filters=32, kernel_size=(5,5),padding='Same'))\n",
    "model.add(BatchNormalization())\n",
    "model.add(Activation('relu'))\n",
    "model.add(MaxPool2D(pool_size=(2,2)))\n",
    "model.add(Dropout(0.25))\n",
    "\n",
    "model.add(Conv2D(filters=64, kernel_size=(3,3),padding='Same'))\n",
    "model.add(BatchNormalization())\n",
    "model.add(Activation('relu'))\n",
    "model.add(Conv2D(filters=64, kernel_size=(3,3),padding='Same'))\n",
    "model.add(BatchNormalization())\n",
    "model.add(Activation('relu'))\n",
    "model.add(MaxPool2D(pool_size=(2,2), strides=(2,2)))\n",
    "model.add(Dropout(0.25))\n",
    "\n",
    "model.add(Flatten())\n",
    "\n",
    "model.add(Dense(256))\n",
    "model.add(BatchNormalization())\n",
    "model.add(Activation('relu'))\n",
    "model.add(Dropout(0.5))\n",
    "\n",
    "model.add(Dense(N_CLASSES, activation = \"softmax\"))\n",
    "\n",
    "optimizer = optimizers.adam(lr=LEARNING_RATE)\n",
    "model.compile(optimizer=optimizer , loss=\"categorical_crossentropy\", metrics=[\"accuracy\"])"
   ]
  },
  {
   "cell_type": "markdown",
   "metadata": {
    "_uuid": "51a2becc651915d509e0cb3c1802f1f41c805754"
   },
   "source": [
    "Let's take a look at our model parameters:"
   ]
  },
  {
   "cell_type": "code",
   "execution_count": 17,
   "metadata": {
    "trusted": true,
    "_uuid": "89c221a6aa89cca6dfea87290c15c2eb6a9a13ca",
    "_kg_hide-input": true
   },
   "outputs": [
    {
     "name": "stdout",
     "output_type": "stream",
     "text": [
      "Dataset size: 42000\nEpochs: 45\nLearning rate: 0.001\nBatch size: 64\nInput dimension: (28, 28, 1)\n"
     ]
    }
   ],
   "source": [
    "print('Dataset size: %s' % train.shape[0])\n",
    "print('Epochs: %s' % EPOCHS)\n",
    "print('Learning rate: %s' % LEARNING_RATE)\n",
    "print('Batch size: %s' % BATCH_SIZE)\n",
    "print('Input dimension: (%s, %s, %s)' % (HEIGHT, WIDTH, CANAL))"
   ]
  },
  {
   "cell_type": "code",
   "execution_count": 18,
   "metadata": {
    "trusted": true,
    "_uuid": "872713ee93dba73c3e6be5461748ca44c732e8b8"
   },
   "outputs": [
    {
     "data": {
      "text/plain": [
       "(28, 28, 1)"
      ]
     },
     "execution_count": 18,
     "metadata": {},
     "output_type": "execute_result"
    }
   ],
   "source": [
    "x_train[0].shape"
   ]
  },
  {
   "cell_type": "code",
   "execution_count": 19,
   "metadata": {
    "trusted": true,
    "_uuid": "c8d680342129fee2737123609fcfc9460c916f98"
   },
   "outputs": [
    {
     "name": "stdout",
     "output_type": "stream",
     "text": [
      "Epoch 1/45\n - 22s - loss: 0.4241 - acc: 0.8675 - val_loss: 0.0662 - val_acc: 0.9793\nEpoch 2/45\n - 17s - loss: 0.1469 - acc: 0.9562 - val_loss: 0.0379 - val_acc: 0.9876\nEpoch 3/45\n - 17s - loss: 0.1139 - acc: 0.9668 - val_loss: 0.0704 - val_acc: 0.9776\nEpoch 4/45\n - 17s - loss: 0.0932 - acc: 0.9714 - val_loss: 0.0372 - val_acc: 0.9881\nEpoch 5/45\n - 17s - loss: 0.0900 - acc: 0.9730 - val_loss: 0.0305 - val_acc: 0.9893\nEpoch 6/45\n - 17s - loss: 0.0794 - acc: 0.9754 - val_loss: 0.0292 - val_acc: 0.9905\nEpoch 7/45\n - 17s - loss: 0.0725 - acc: 0.9779 - val_loss: 0.0440 - val_acc: 0.9860\nEpoch 8/45\n - 17s - loss: 0.0687 - acc: 0.9793 - val_loss: 0.0253 - val_acc: 0.9929\nEpoch 9/45\n - 18s - loss: 0.0648 - acc: 0.9802 - val_loss: 0.0236 - val_acc: 0.9921\nEpoch 10/45\n - 17s - loss: 0.0616 - acc: 0.9813 - val_loss: 0.0204 - val_acc: 0.9936\nEpoch 11/45\n - 17s - loss: 0.0597 - acc: 0.9821 - val_loss: 0.0242 - val_acc: 0.9933\nEpoch 12/45\n - 17s - loss: 0.0546 - acc: 0.9830 - val_loss: 0.0230 - val_acc: 0.9924\nEpoch 13/45\n - 17s - loss: 0.0576 - acc: 0.9827 - val_loss: 0.0344 - val_acc: 0.9881\nEpoch 14/45\n - 17s - loss: 0.0518 - acc: 0.9842 - val_loss: 0.0216 - val_acc: 0.9938\nEpoch 15/45\n - 17s - loss: 0.0488 - acc: 0.9851 - val_loss: 0.0224 - val_acc: 0.9938\nEpoch 16/45\n - 17s - loss: 0.0485 - acc: 0.9848 - val_loss: 0.0251 - val_acc: 0.9933\nEpoch 17/45\n - 17s - loss: 0.0458 - acc: 0.9856 - val_loss: 0.0208 - val_acc: 0.9943\nEpoch 18/45\n - 17s - loss: 0.0467 - acc: 0.9854 - val_loss: 0.0247 - val_acc: 0.9924\nEpoch 19/45\n - 17s - loss: 0.0426 - acc: 0.9863 - val_loss: 0.0248 - val_acc: 0.9914\nEpoch 20/45\n - 17s - loss: 0.0447 - acc: 0.9860 - val_loss: 0.0198 - val_acc: 0.9940\nEpoch 21/45\n - 17s - loss: 0.0392 - acc: 0.9877 - val_loss: 0.0180 - val_acc: 0.9936\nEpoch 22/45\n - 17s - loss: 0.0403 - acc: 0.9880 - val_loss: 0.0172 - val_acc: 0.9938\nEpoch 23/45\n - 17s - loss: 0.0449 - acc: 0.9868 - val_loss: 0.0203 - val_acc: 0.9940\nEpoch 24/45\n - 17s - loss: 0.0367 - acc: 0.9895 - val_loss: 0.0206 - val_acc: 0.9940\nEpoch 25/45\n - 17s - loss: 0.0394 - acc: 0.9881 - val_loss: 0.0186 - val_acc: 0.9940\nEpoch 26/45\n - 17s - loss: 0.0376 - acc: 0.9891 - val_loss: 0.0185 - val_acc: 0.9936\nEpoch 27/45\n - 17s - loss: 0.0360 - acc: 0.9883 - val_loss: 0.0177 - val_acc: 0.9945\nEpoch 28/45\n - 17s - loss: 0.0376 - acc: 0.9885 - val_loss: 0.0232 - val_acc: 0.9936\nEpoch 29/45\n - 17s - loss: 0.0358 - acc: 0.9888 - val_loss: 0.0216 - val_acc: 0.9924\nEpoch 30/45\n - 17s - loss: 0.0327 - acc: 0.9895 - val_loss: 0.0212 - val_acc: 0.9938\nEpoch 31/45\n - 17s - loss: 0.0345 - acc: 0.9899 - val_loss: 0.0266 - val_acc: 0.9938\nEpoch 32/45\n - 17s - loss: 0.0361 - acc: 0.9889 - val_loss: 0.0269 - val_acc: 0.9933\nEpoch 33/45\n - 18s - loss: 0.0322 - acc: 0.9904 - val_loss: 0.0219 - val_acc: 0.9940\nEpoch 34/45\n - 17s - loss: 0.0325 - acc: 0.9902 - val_loss: 0.0215 - val_acc: 0.9938\nEpoch 35/45\n - 17s - loss: 0.0331 - acc: 0.9897 - val_loss: 0.0162 - val_acc: 0.9952\nEpoch 36/45\n - 17s - loss: 0.0329 - acc: 0.9901 - val_loss: 0.0211 - val_acc: 0.9936\nEpoch 37/45\n - 17s - loss: 0.0307 - acc: 0.9907 - val_loss: 0.0192 - val_acc: 0.9950\nEpoch 38/45\n - 17s - loss: 0.0301 - acc: 0.9907 - val_loss: 0.0201 - val_acc: 0.9950\nEpoch 39/45\n - 17s - loss: 0.0320 - acc: 0.9903 - val_loss: 0.0188 - val_acc: 0.9955\nEpoch 40/45\n - 17s - loss: 0.0298 - acc: 0.9904 - val_loss: 0.0176 - val_acc: 0.9933\nEpoch 41/45\n - 17s - loss: 0.0290 - acc: 0.9911 - val_loss: 0.0175 - val_acc: 0.9945\nEpoch 42/45\n - 17s - loss: 0.0303 - acc: 0.9914 - val_loss: 0.0224 - val_acc: 0.9931\nEpoch 43/45\n - 17s - loss: 0.0292 - acc: 0.9910 - val_loss: 0.0298 - val_acc: 0.9921\nEpoch 44/45\n - 18s - loss: 0.0270 - acc: 0.9916 - val_loss: 0.0204 - val_acc: 0.9945\nEpoch 45/45\n - 17s - loss: 0.0296 - acc: 0.9907 - val_loss: 0.0196 - val_acc: 0.9955\n"
     ]
    }
   ],
   "source": [
    "history = model.fit_generator(datagen.flow(x_train,y_train, batch_size=BATCH_SIZE),\n",
    "                              epochs=EPOCHS, validation_data=(x_val, y_val),\n",
    "                              verbose=2, steps_per_epoch=x_train.shape[0] // BATCH_SIZE)"
   ]
  },
  {
   "cell_type": "markdown",
   "metadata": {
    "trusted": true,
    "_uuid": "afd37bd2ba37387d2f393d5e9dacd8d4d9d27f24"
   },
   "source": [
    "Let's take a look at our model loss and accuracy training graph."
   ]
  },
  {
   "cell_type": "code",
   "execution_count": 20,
   "metadata": {
    "trusted": true,
    "_uuid": "781f97c05ce86622fc1dfc2e9481795ac616fbc0",
    "_kg_hide-input": true
   },
   "outputs": [
    {
     "data": {
      "image/png": "[encoded data removed]",
      "text/plain": [
       "<Figure size 1440x504 with 2 Axes>"
      ]
     },
     "metadata": {
      "needs_background": "light"
     },
     "output_type": "display_data"
    }
   ],
   "source": [
    "plot_metrics_primary(history.history['acc'], history.history['val_acc'], history.history['loss'], history.history['val_loss'])"
   ]
  },
  {
   "cell_type": "markdown",
   "metadata": {
    "_uuid": "b0dd5983ec488b7086c90afceccd8ce0e427756e"
   },
   "source": [
    "A good way to evaluate a classification model is to take a look at the model confusion matrix, this way we can have a better insight on what our model is getting right and what not."
   ]
  },
  {
   "cell_type": "code",
   "execution_count": 21,
   "metadata": {
    "trusted": true,
    "_uuid": "622fd8c7ea62ba78106a91f474123dd8e8731af6",
    "_kg_hide-input": true
   },
   "outputs": [
    {
     "data": {
      "image/png": "[encoded data removed]",
      "text/plain": [
       "<Figure size 1440x504 with 2 Axes>"
      ]
     },
     "metadata": {
      "needs_background": "light"
     },
     "output_type": "display_data"
    }
   ],
   "source": [
    "cnf_matrix = confusion_matrix(np.argmax(y_val, axis=1), model.predict_classes(x_val))\n",
    "plot_confusion_matrix(cnf_matrix, range(10))"
   ]
  },
  {
   "cell_type": "markdown",
   "metadata": {
    "_uuid": "35136b972266fff51988c545ec4c6a1e7cf9be84"
   },
   "source": [
    "It seems we had pretty good results, we don't have any big confusion between labels, nice!\n\nFinally let's predict the test data and output our predictions."
   ]
  },
  {
   "cell_type": "code",
   "execution_count": 22,
   "metadata": {
    "trusted": true,
    "_uuid": "6781b1dd6eac0f908b95062e2ae4eaa4c9e540b1"
   },
   "outputs": [],
   "source": [
    "predictions = model.predict_classes(test)"
   ]
  },
  {
   "cell_type": "code",
   "execution_count": 25,
   "metadata": {
    "trusted": true,
    "_uuid": "7cfd5286743b9b33a7849d9cf35c85eb26b7727f"
   },
   "outputs": [
    {
     "data": {
      "text/html": [
       "<div>\n<style scoped>\n    .dataframe tbody tr th:only-of-type {\n        vertical-align: middle;\n    }\n\n    .dataframe tbody tr th {\n        vertical-align: top;\n    }\n\n    .dataframe thead th {\n        text-align: right;\n    }\n</style>\n<table border=\"1\" class=\"dataframe\">\n  <thead>\n    <tr style=\"text-align: right;\">\n      <th></th>\n      <th>ImageId</th>\n      <th>Label</th>\n    </tr>\n  </thead>\n  <tbody>\n    <tr>\n      <th>0</th>\n      <td>1</td>\n      <td>2</td>\n    </tr>\n    <tr>\n      <th>1</th>\n      <td>2</td>\n      <td>0</td>\n    </tr>\n    <tr>\n      <th>2</th>\n      <td>3</td>\n      <td>9</td>\n    </tr>\n    <tr>\n      <th>3</th>\n      <td>4</td>\n      <td>0</td>\n    </tr>\n    <tr>\n      <th>4</th>\n      <td>5</td>\n      <td>3</td>\n    </tr>\n    <tr>\n      <th>5</th>\n      <td>6</td>\n      <td>7</td>\n    </tr>\n    <tr>\n      <th>6</th>\n      <td>7</td>\n      <td>0</td>\n    </tr>\n    <tr>\n      <th>7</th>\n      <td>8</td>\n      <td>3</td>\n    </tr>\n    <tr>\n      <th>8</th>\n      <td>9</td>\n      <td>0</td>\n    </tr>\n    <tr>\n      <th>9</th>\n      <td>10</td>\n      <td>3</td>\n    </tr>\n  </tbody>\n</table>\n</div>"
      ],
      "text/plain": [
       "   ImageId  Label\n0        1      2\n1        2      0\n2        3      9\n3        4      0\n4        5      3\n5        6      7\n6        7      0\n7        8      3\n8        9      0\n9       10      3"
      ]
     },
     "execution_count": 25,
     "metadata": {},
     "output_type": "execute_result"
    }
   ],
   "source": [
    "submission = pd.DataFrame({\"ImageId\": list(range(1, len(predictions) + 1)), \"Label\": predictions})\n",
    "submission.to_csv(SUBMISSION_NAME, index=False)\n",
    "submission.head(10)"
   ]
  }
 ],
 "metadata": {
  "kernelspec": {
   "display_name": "Python 3",
   "language": "python",
   "name": "python3"
  },
  "language_info": {
   "name": "python",
   "version": "3.6.6",
   "mimetype": "text/x-python",
   "codemirror_mode": {
    "name": "ipython",
    "version": 3
   },
   "pygments_lexer": "ipython3",
   "nbconvert_exporter": "python",
   "file_extension": ".py"
  }
 },
 "nbformat": 4,
 "nbformat_minor": 1
}
