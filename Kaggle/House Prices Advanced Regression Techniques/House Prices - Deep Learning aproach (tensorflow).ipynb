{
  "cells": [
    {
      "metadata": {
        "_uuid": "8f2839f25d086af736a60e9eeb907d3b93b6e0e5",
        "_cell_guid": "b1076dfc-b9ad-4769-8c92-a6c4dae69d19"
      },
      "cell_type": "markdown",
      "source": "# House Prices - Deep Learning aproach\n\n### obs: this code is from my github(https://github.com/dimitreOliveira/HousePrices) that's why it's so modular\n### obs2: kernel with the EDA and data pre process at https://www.kaggle.com/dimitreoliveira/house-prices-eda-first-kernel"
    },
    {
      "metadata": {
        "collapsed": true,
        "_uuid": "d629ff2d2480ee46fbb7e2d37f6b5fab8052498a",
        "_cell_guid": "79c7e3d0-c299-4dcb-8224-4455121ee9b0"
      },
      "cell_type": "markdown",
      "source": "> ### DEPENDENCIES"
    },
    {
      "metadata": {
        "_uuid": "cd89d6e5fefa7122cf06659443b14b68f823893d",
        "_cell_guid": "f5976028-5c8f-4fa2-84cd-254b41aa9f32",
        "trusted": true,
        "_kg_hide-input": true,
        "_kg_hide-output": true
      },
      "cell_type": "code",
      "source": "import csv\nimport numpy as np\nimport pandas as pd\nimport tensorflow as tf\nimport matplotlib.pyplot as plt\nfrom tensorflow.python.framework import ops\nfrom sklearn.model_selection import train_test_split\nfrom sklearn import preprocessing",
      "execution_count": 1,
      "outputs": []
    },
    {
      "metadata": {
        "_uuid": "c05ced8ccd3da1cf77fff7cb9d38a214cd3808e9",
        "_cell_guid": "ae091b94-4f8c-47f6-965e-40979d3215bc"
      },
      "cell_type": "markdown",
      "source": "### DATASET METHODS"
    },
    {
      "metadata": {
        "_uuid": "3710648b7931f2114069d3a682aa953aead4976c",
        "_cell_guid": "cb500f08-6792-4bad-acfc-c875b25f5bf8",
        "trusted": true,
        "_kg_hide-input": true
      },
      "cell_type": "code",
      "source": "def load_data(train_path, test_path):\n    \"\"\"\n    method for data loading\n    :param train_path: path for the train set file\n    :param test_path: path for the test set file\n    :return: a 'pandas' array for each set\n    \"\"\"\n\n    train_data = pd.read_csv(train_path)\n    test_data = pd.read_csv(test_path)\n\n    print(\"number of training examples = \" + str(train_data.shape[0]))\n    print(\"number of test examples = \" + str(test_data.shape[0]))\n    print(\"train shape: \" + str(train_data.shape))\n    print(\"test shape: \" + str(test_data.shape))\n\n    return train_data, test_data\n\n\ndef output_submission(test_ids, predictions, id_column, predction_column, file_name):\n    \"\"\"\n    :param test_ids: vector with test dataset ids\n    :param predictions: vector with test dataset predictions\n    :param id_column: name of the output id column\n    :param predction_column: name of the output predction column\n    :param file_name: string for the output file name\n    :return: output a csv with ids ands predictions\n    \"\"\"\n\n    print('Outputting submission...')\n    with open('submissions/' + file_name, 'w') as submission:\n        writer = csv.writer(submission)\n        writer.writerow([id_column, predction_column])\n        for test_id, test_prediction in zip(test_ids, predictions):\n            writer.writerow([test_id, test_prediction])\n    print('Output complete')\n\n\ndef pre_process_data(df):\n    \"\"\"\n    Perform a number of pre process functions on the data set\n    :param df: pandas data frame\n    :return: processed data frame\n    \"\"\"\n    # one-hot encode categorical values\n    df = pd.get_dummies(df)\n\n    return df\n\n\ndef mini_batches(train_set, train_labels, mini_batch_size):\n    \"\"\"\n    Generate mini batches from the data set (data and labels)\n    :param train_set: data set with the examples\n    :param train_labels: data set with the labels\n    :param mini_batch_size: mini batch size\n    :return: mini batches\n    \"\"\"\n    set_size = train_set.shape[0]\n    batches = []\n    num_complete_minibatches = set_size // mini_batch_size\n\n    for k in range(0, num_complete_minibatches):\n        mini_batch_x = train_set[k * mini_batch_size: (k + 1) * mini_batch_size]\n        mini_batch_y = train_labels[k * mini_batch_size: (k + 1) * mini_batch_size]\n        mini_batch = (mini_batch_x, mini_batch_y)\n        batches.append(mini_batch)\n\n    # Handling the end case (last mini-batch < mini_batch_size)\n    if set_size % mini_batch_size != 0:\n        mini_batch_x = train_set[(set_size - (set_size % mini_batch_size)):]\n        mini_batch_y = train_labels[(set_size - (set_size % mini_batch_size)):]\n        mini_batch = (mini_batch_x, mini_batch_y)\n        batches.append(mini_batch)\n\n    return batches",
      "execution_count": 2,
      "outputs": []
    },
    {
      "metadata": {
        "_uuid": "e93b79a4b690f60d176930edfa532cceebe62b25",
        "_cell_guid": "5529f316-9cad-42b5-b9f1-272ada900424"
      },
      "cell_type": "markdown",
      "source": "### AUXILIARY MODEL METHODS"
    },
    {
      "metadata": {
        "_uuid": "2e46cf19d65c5d99e29edbd4d4e84d23543e99c9",
        "_cell_guid": "37ce988d-3875-4fa8-b7a5-fcbe85c9ef80",
        "trusted": true,
        "_kg_hide-input": true
      },
      "cell_type": "code",
      "source": "def create_placeholders(input_size, output_size):\n    \"\"\"\n    Creates the placeholders for the tensorflow session.\n    :param input_size: scalar, input size\n    :param output_size: scalar, output size\n    :return: X  placeholder for the data input, of shape [None, input_size] and dtype \"float\"\n    :return: Y placeholder for the input labels, of shape [None, output_size] and dtype \"float\"\n    \"\"\"\n\n    x = tf.placeholder(shape=(None, input_size), dtype=tf.float32, name=\"X\")\n    y = tf.placeholder(shape=(None, output_size), dtype=tf.float32, name=\"Y\")\n\n    return x, y\n\n\ndef forward_propagation(x, parameters, keep_prob=1.0, hidden_activation='relu'):\n    \"\"\"\n    Implement forward propagation with dropout for the [LINEAR->RELU]*(L-1)->LINEAR-> computation\n    :param x: data, pandas array of shape (input size, number of examples)\n    :param parameters: output of initialize_parameters()\n    :param keep_prob: probability to keep each node of the layer\n    :param hidden_activation: activation function of the hidden layers\n    :return: last LINEAR value\n    \"\"\"\n\n    a_dropout = x\n    n_layers = len(parameters) // 2  # number of layers in the neural network\n\n    for l in range(1, n_layers):\n        a_prev = a_dropout\n        a_dropout = linear_activation_forward(a_prev, parameters['w%s' % l], parameters['b%s' % l], hidden_activation)\n\n        if keep_prob < 1.0:\n            a_dropout = tf.nn.dropout(a_dropout, keep_prob)\n\n    al = tf.matmul(a_dropout, parameters['w%s' % n_layers]) + parameters['b%s' % n_layers]\n\n    return al\n\n\ndef linear_activation_forward(a_prev, w, b, activation):\n    \"\"\"\n    Implement the forward propagation for the LINEAR->ACTIVATION layer\n    :param a_prev: activations from previous layer (or input data): (size of previous layer, number of examples)\n    :param w: weights matrix: numpy array of shape (size of current layer, size of previous layer)\n    :param b: bias vector, numpy array of shape (size of the current layer, 1)\n    :param activation: the activation to be used in this layer, stored as a text string: \"sigmoid\" or \"relu\"\n    :return: the output of the activation function, also called the post-activation value\n    \"\"\"\n\n    a = None\n    if activation == \"sigmoid\":\n        z = tf.matmul(a_prev, w) + b\n        a = tf.nn.sigmoid(z)\n\n    elif activation == \"relu\":\n        z = tf.matmul(a_prev, w) + b\n        a = tf.nn.relu(z)\n\n    elif activation == \"leaky relu\":\n        z = tf.matmul(a_prev, w) + b\n        a = tf.nn.leaky_relu(z)\n\n    return a\n\n\ndef initialize_parameters(layer_dims):\n    \"\"\"\n    :param layer_dims: python array (list) containing the dimensions of each layer in our network\n    :return: python dictionary containing your parameters \"w1\", \"b1\", ..., \"wn\", \"bn\":\n                    Wl -- weight matrix of shape (layer_dims[l], layer_dims[l-1])\n                    bl -- bias vector of shape (layer_dims[l], 1)\n    \"\"\"\n\n    parameters = {}\n    n_layers = len(layer_dims)\n\n    for l in range(1, n_layers):\n        parameters['w' + str(l)] = tf.get_variable('w' + str(l), [layer_dims[l - 1], layer_dims[l]],\n                                                   initializer=tf.contrib.layers.xavier_initializer())\n        parameters['b' + str(l)] = tf.get_variable('b' + str(l), [layer_dims[l]], initializer=tf.zeros_initializer())\n\n    return parameters\n\n\ndef compute_cost(z3, y):\n    \"\"\"\n    :param z3: output of forward propagation (output of the last LINEAR unit)\n    :param y: \"true\" labels vector placeholder, same shape as Z3\n    :return: Tensor of the cost function (RMSE as it is a regression)\n    \"\"\"\n\n    cost = tf.sqrt(tf.reduce_mean(tf.square(y - z3)))\n\n    return cost\n\n\ndef predict(data, parameters):\n    \"\"\"\n    make a prediction based on a data set and parameters\n    :param data: based data set\n    :param parameters: based parameters\n    :return: array of predictions\n    \"\"\"\n\n    init = tf.global_variables_initializer()\n    with tf.Session() as sess:\n        sess.run(init)\n\n        dataset = tf.cast(tf.constant(data), tf.float32)\n        fw_prop_result = forward_propagation(dataset, parameters)\n        prediction = fw_prop_result.eval()\n\n    return prediction\n\n\ndef rmse(predictions, labels):\n    \"\"\"\n    calculate cost between two data sets\n    :param predictions: data set of predictions\n    :param labels: data set of labels (real values)\n    :return: percentage of correct predictions\n    \"\"\"\n\n    prediction_size = predictions.shape[0]\n    prediction_cost = np.sqrt(np.sum(np.square(labels - predictions)) / prediction_size)\n\n    return prediction_cost\n\n\ndef rmsle(predictions, labels):\n    \"\"\"\n    calculate cost between two data sets\n    :param predictions: data set of predictions\n    :param labels: data set of labels (real values)\n    :return: percentage of correct predictions\n    \"\"\"\n\n    prediction_size = predictions.shape[0]\n    prediction_cost = np.sqrt(np.sum(np.square(np.log(predictions + 1) - np.log(labels + 1))) / prediction_size)\n\n    return prediction_cost\n\n\ndef l2_regularizer(cost, l2_beta, parameters, n_layers):\n    \"\"\"\n    Function to apply l2 regularization to the model\n    :param cost: usual cost of the model\n    :param l2_beta: beta value used for the normalization\n    :param parameters: parameters from the model (used to get weights values)\n    :param n_layers: number of layers of the model\n    :return: cost updated\n    \"\"\"\n\n    regularizer = 0\n    for i in range(1, n_layers):\n        regularizer += tf.nn.l2_loss(parameters['w%s' % i])\n\n    cost = tf.reduce_mean(cost + l2_beta * regularizer)\n\n    return cost\n\n\ndef build_submission_name(layers_dims, num_epochs, lr_decay,\n                          learning_rate, l2_beta, keep_prob, minibatch_size, num_examples):\n    \"\"\"\n    builds a string (submission file name), based on the model parameters\n    :param layers_dims: model layers dimensions\n    :param num_epochs: model number of epochs\n    :param lr_decay: model learning rate decay\n    :param learning_rate: model learning rate\n    :param l2_beta: beta used on l2 normalization\n    :param keep_prob: keep probability used on dropout normalization\n    :param minibatch_size: model mini batch size (0 to do not use mini batches)\n    :param num_examples: number of model examples (training data)\n    :return: built string\n    \"\"\"\n    submission_name = 'ly{}-epoch{}.csv' \\\n        .format(layers_dims, num_epochs)\n\n    if lr_decay != 0:\n        submission_name = 'lrdc{}-'.format(lr_decay) + submission_name\n    else:\n        submission_name = 'lr{}-'.format(learning_rate) + submission_name\n\n    if l2_beta > 0:\n        submission_name = 'l2{}-'.format(l2_beta) + submission_name\n\n    if keep_prob < 1:\n        submission_name = 'dk{}-'.format(keep_prob) + submission_name\n\n    if minibatch_size != num_examples:\n        submission_name = 'mb{}-'.format(minibatch_size) + submission_name\n\n    return submission_name\n\n\ndef plot_model_cost(train_costs, validation_costs, submission_name):\n    \"\"\"\n    :param train_costs: array with the costs from the model training\n    :param validation_costs: array with the costs from the model validation\n    :param submission_name: name of the submission (used for the plot title)\n    :return:\n    \"\"\"\n    plt.plot(np.squeeze(train_costs), label='Train cost')\n    plt.plot(np.squeeze(validation_costs), label='Validation cost')\n    plt.ylabel('cost')\n    plt.xlabel('iterations (per tens)')\n    plt.title(\"Model: \" + submission_name)\n    plt.legend()\n    plt.show()",
      "execution_count": 3,
      "outputs": []
    },
    {
      "metadata": {
        "_uuid": "867e8eacabcf858711bafcaa51fbf67bb9b74851",
        "_cell_guid": "c28e3fdf-69d1-444f-85d6-72d8f112d9f9"
      },
      "cell_type": "markdown",
      "source": "### MODEL"
    },
    {
      "metadata": {
        "_uuid": "3f3f275f6a5cf860d80a579ac12d9659dee52dd4",
        "_cell_guid": "8b2052cb-a73e-4d3f-a039-e868ec963044",
        "trusted": true,
        "_kg_hide-input": true
      },
      "cell_type": "code",
      "source": "def model(train_set, train_labels, validation_set, validation_labels, layers_dims, learning_rate=0.01, num_epochs=1001,\n          print_cost=True, plot_cost=True, l2_beta=0., keep_prob=1.0, hidden_activation='relu', return_best=False,\n          minibatch_size=0, lr_decay=0):\n    \"\"\"\n    :param train_set: training set\n    :param train_labels: training labels\n    :param validation_set: validation set\n    :param validation_labels: validation labels\n    :param layers_dims: array with the layer for the model\n    :param learning_rate: learning rate of the optimization\n    :param num_epochs: number of epochs of the optimization loop\n    :param print_cost: True to print the cost every 500 epochs\n    :param plot_cost: True to plot the train and validation cost\n    :param l2_beta: beta parameter for the l2 regularization\n    :param keep_prob: probability to keep each node of each hidden layer (dropout)\n    :param hidden_activation: activation function to be used on the hidden layers\n    :param return_best: True to return the highest params from all epochs\n    :param minibatch_size: size of th mini batch\n    :param lr_decay: if != 0, sets de learning rate decay on each epoch\n    :return parameters: parameters learnt by the model. They can then be used to predict.\n    :return submission_name: name for the trained model\n    \"\"\"\n\n    ops.reset_default_graph()  # to be able to rerun the model without overwriting tf variables\n\n    input_size = layers_dims[0]\n    output_size = layers_dims[-1]\n    num_examples = train_set.shape[0]\n    n_layers = len(layers_dims)\n    train_costs = []\n    validation_costs = []\n    best_iteration = [float('inf'), 0]\n    best_params = None\n\n    if minibatch_size == 0 or minibatch_size > num_examples:\n        minibatch_size = num_examples\n\n    num_minibatches = num_examples // minibatch_size\n\n    if num_minibatches == 0:\n        num_minibatches = 1\n\n    submission_name = build_submission_name(layers_dims, num_epochs, lr_decay, learning_rate, l2_beta, keep_prob,\n                                            minibatch_size, num_examples)\n\n    x, y = create_placeholders(input_size, output_size)\n    tf_valid_dataset = tf.cast(tf.constant(validation_set), tf.float32)\n    parameters = initialize_parameters(layers_dims)\n\n    fw_output_train = forward_propagation(x, parameters, keep_prob, hidden_activation)\n    train_cost = compute_cost(fw_output_train, y)\n\n    fw_output_valid = forward_propagation(tf_valid_dataset, parameters, keep_prob, hidden_activation)\n    validation_cost = compute_cost(fw_output_valid, validation_labels)\n\n    if l2_beta > 0:\n        train_cost = l2_regularizer(train_cost, l2_beta, parameters, n_layers)\n        validation_cost = l2_regularizer(validation_cost, l2_beta, parameters, n_layers)\n\n    if lr_decay != 0:\n        global_step = tf.Variable(0, trainable=False)\n        learning_rate = tf.train.inverse_time_decay(learning_rate, global_step=global_step, decay_rate=lr_decay,\n                                                    decay_steps=1)\n        optimizer = tf.train.AdamOptimizer(learning_rate).minimize(train_cost, global_step=global_step)\n    else:\n        optimizer = tf.train.AdamOptimizer(learning_rate).minimize(train_cost)\n\n    init = tf.global_variables_initializer()\n\n    with tf.Session() as sess:\n        sess.run(init)\n\n        for epoch in range(num_epochs):\n            train_epoch_cost = 0.\n            validation_epoch_cost = 0.\n\n            minibatches = mini_batches(train_set, train_labels, minibatch_size)\n\n            for minibatch in minibatches:\n                (minibatch_X, minibatch_Y) = minibatch\n                feed_dict = {x: minibatch_X, y: minibatch_Y}\n\n                _, minibatch_train_cost, minibatch_validation_cost = sess.run(\n                    [optimizer, train_cost, validation_cost], feed_dict=feed_dict)\n\n                train_epoch_cost += minibatch_train_cost / num_minibatches\n                validation_epoch_cost += minibatch_validation_cost / num_minibatches\n\n            if print_cost is True and epoch % 500 == 0:\n                print(\"Train cost after epoch %i: %f\" % (epoch, train_epoch_cost))\n                print(\"Validation cost after epoch %i: %f\" % (epoch, validation_epoch_cost))\n\n            if plot_cost is True and epoch % 10 == 0:\n                train_costs.append(train_epoch_cost)\n                validation_costs.append(validation_epoch_cost)\n\n            if return_best is True and validation_epoch_cost < best_iteration[0]:\n                best_iteration[0] = validation_epoch_cost\n                best_iteration[1] = epoch\n                best_params = sess.run(parameters)\n\n        if return_best is True:\n            parameters = best_params\n        else:\n            parameters = sess.run(parameters)\n\n        print(\"Parameters have been trained, getting metrics...\")\n\n        train_rmse = rmse(predict(train_set, parameters), train_labels)\n        validation_rmse = rmse(predict(validation_set, parameters), validation_labels)\n        train_rmsle = rmsle(predict(train_set, parameters), train_labels)\n        validation_rmsle = rmsle(predict(validation_set, parameters), validation_labels)\n\n        print('Train rmse: {:.4f}'.format(train_rmse))\n        print('Validation rmse: {:.4f}'.format(validation_rmse))\n        print('Train rmsle: {:.4f}'.format(train_rmsle))\n        print('Validation rmsle: {:.4f}'.format(validation_rmsle))\n\n        submission_name = 'tr_cost-{:.2f}-vd_cost{:.2f}-'.format(train_rmse, validation_rmse) + submission_name\n\n        if return_best is True:\n            print('Lowest rmse: {:.2f} at epoch {}'.format(best_iteration[0], best_iteration[1]))\n\n        if plot_cost is True:\n            plot_model_cost(train_costs, validation_costs, submission_name)\n\n        return parameters, submission_name",
      "execution_count": 4,
      "outputs": []
    },
    {
      "metadata": {
        "_uuid": "e09f3dec7634495cecf3ebf10d97e9026fecab2a",
        "_cell_guid": "59489594-c3b3-4726-959d-9700d6eab01b"
      },
      "cell_type": "markdown",
      "source": "### Load data"
    },
    {
      "metadata": {
        "_uuid": "d17fd06ff48989b8a590e107ab61dcafe9b5acaa",
        "_cell_guid": "e2f05348-2fc9-46ff-99bc-e8e9411707b5",
        "trusted": true
      },
      "cell_type": "code",
      "source": "TRAIN_PATH = '../input/houseprices-log/train_cleaned.csv'\nTEST_PATH = '../input/houseprices-log/test_cleaned.csv'\n\ntrain, test = load_data(TRAIN_PATH, TEST_PATH)\n\n# get the labels values\ntrain_raw_labels = train['SalePrice'].to_frame().as_matrix()",
      "execution_count": 5,
      "outputs": [
        {
          "output_type": "stream",
          "text": "number of training examples = 1460\nnumber of test examples = 1459\ntrain shape: (1460, 48)\ntest shape: (1459, 47)\n",
          "name": "stdout"
        },
        {
          "output_type": "stream",
          "text": "/opt/conda/lib/python3.6/site-packages/ipykernel_launcher.py:7: FutureWarning: Method .as_matrix will be removed in a future version. Use .values instead.\n  import sys\n",
          "name": "stderr"
        }
      ]
    },
    {
      "metadata": {
        "_uuid": "4f601881317ca1db93b3c130c3b472d08c118050"
      },
      "cell_type": "markdown",
      "source": "### Pre process data"
    },
    {
      "metadata": {
        "_uuid": "e6c464a0d8c6b7f914c6f4b51d078bdf2cb0c39c",
        "_cell_guid": "775ff346-2b93-4ec5-9ca4-bff789220d86",
        "trusted": true
      },
      "cell_type": "code",
      "source": "# pre process data sets\ntrain_pre = pre_process_data(train)\ntest_pre = pre_process_data(test)\n\n# drop unwanted columns\ntrain_pre = train_pre.drop(['Id', 'SalePrice'], axis=1)\ntest_pre = test_pre.drop(['Id'], axis=1)\n\n# align both data sets (by outer join), to make they have the same amount of features,\n# this is required because of the mismatched categorical values in train and test sets\ntrain_pre, test_pre = train_pre.align(test_pre, join='outer', axis=1)\n\n# replace the nan values added by align for 0\ntrain_pre.replace(to_replace=np.nan, value=0, inplace=True)\ntest_pre.replace(to_replace=np.nan, value=0, inplace=True)\n\ntrain_pre = train_pre.as_matrix().astype(np.float)\ntest_pre = test_pre.as_matrix().astype(np.float)",
      "execution_count": 6,
      "outputs": [
        {
          "output_type": "stream",
          "text": "/opt/conda/lib/python3.6/site-packages/ipykernel_launcher.py:17: FutureWarning: Method .as_matrix will be removed in a future version. Use .values instead.\n/opt/conda/lib/python3.6/site-packages/ipykernel_launcher.py:18: FutureWarning: Method .as_matrix will be removed in a future version. Use .values instead.\n",
          "name": "stderr"
        }
      ]
    },
    {
      "metadata": {
        "_uuid": "1cf4c62d309b7009b369ca28ae36fbaf83c7fe20"
      },
      "cell_type": "markdown",
      "source": "### Normalize data"
    },
    {
      "metadata": {
        "_uuid": "7fe684fb86c5733fd06f0a4fbe97cc16a9e5a942",
        "_cell_guid": "ae8f5eda-877e-4ccc-9e23-abd3ee032da6",
        "trusted": true
      },
      "cell_type": "code",
      "source": "# scale values\nstandard_scaler = preprocessing.StandardScaler()\ntrain_pre = standard_scaler.fit_transform(train_pre)\ntest_pre = standard_scaler.fit_transform(test_pre)\n\nX_train, X_valid, Y_train, Y_valid = train_test_split(train_pre, train_raw_labels, test_size=0.3, random_state=1)",
      "execution_count": 7,
      "outputs": []
    },
    {
      "metadata": {
        "_uuid": "4285232cdfd7670167d3ea873e77c3555c6cfda7"
      },
      "cell_type": "markdown",
      "source": "### Model parameters"
    },
    {
      "metadata": {
        "_uuid": "01acd7dbf464be0e63325450f3734cd8793040b6",
        "_cell_guid": "58ad99ea-34a0-4c13-9b9a-02d8259f74e6",
        "trusted": true
      },
      "cell_type": "code",
      "source": "# hyperparameters\ninput_size = train_pre.shape[1]\noutput_size = 1\nnum_epochs = 14001\nlearning_rate = 0.0001\nlayers_dims = [input_size, 512, 256, 64, output_size]",
      "execution_count": 8,
      "outputs": []
    },
    {
      "metadata": {
        "_uuid": "8f92bcfdf90732eec5f2766b13dec33fa8640915"
      },
      "cell_type": "markdown",
      "source": "### Train model"
    },
    {
      "metadata": {
        "_uuid": "639b2f204bdb9cdfaf3897e3e6a799c014a82198",
        "_cell_guid": "ce543556-7ebb-4a14-84b9-d86c65c5f9ad",
        "trusted": true
      },
      "cell_type": "code",
      "source": "parameters, submission_name = model(X_train, Y_train, X_valid, Y_valid, layers_dims, num_epochs=num_epochs,\n                                    learning_rate=learning_rate, print_cost=True, plot_cost=True, l2_beta=10,\n                                    keep_prob=0.7, minibatch_size=0, return_best=True)",
      "execution_count": 9,
      "outputs": [
        {
          "output_type": "stream",
          "text": "Train cost after epoch 0: 3565.748291\nValidation cost after epoch 0: 3565.670410\nTrain cost after epoch 500: 672.915710\nValidation cost after epoch 500: 672.898010\nTrain cost after epoch 1000: 109.199242\nValidation cost after epoch 1000: 109.174149\nTrain cost after epoch 1500: 25.126644\nValidation cost after epoch 1500: 25.099518\nTrain cost after epoch 2000: 14.130481\nValidation cost after epoch 2000: 14.101989\nTrain cost after epoch 2500: 12.356677\nValidation cost after epoch 2500: 12.331275\nTrain cost after epoch 3000: 11.871288\nValidation cost after epoch 3000: 11.845230\nTrain cost after epoch 3500: 11.635536\nValidation cost after epoch 3500: 11.605295\nTrain cost after epoch 4000: 11.483928\nValidation cost after epoch 4000: 11.457842\nTrain cost after epoch 4500: 11.360120\nValidation cost after epoch 4500: 11.331917\nTrain cost after epoch 5000: 11.242018\nValidation cost after epoch 5000: 11.209178\nTrain cost after epoch 5500: 11.105302\nValidation cost after epoch 5500: 11.083327\nTrain cost after epoch 6000: 10.955854\nValidation cost after epoch 6000: 10.913585\nTrain cost after epoch 6500: 10.763983\nValidation cost after epoch 6500: 10.759089\nTrain cost after epoch 7000: 10.531131\nValidation cost after epoch 7000: 10.499773\nTrain cost after epoch 7500: 10.224388\nValidation cost after epoch 7500: 10.185071\nTrain cost after epoch 8000: 9.735615\nValidation cost after epoch 8000: 9.720192\nTrain cost after epoch 8500: 8.777569\nValidation cost after epoch 8500: 8.757874\nTrain cost after epoch 9000: 8.104570\nValidation cost after epoch 9000: 8.109306\nTrain cost after epoch 9500: 7.580853\nValidation cost after epoch 9500: 7.619916\nTrain cost after epoch 10000: 7.256435\nValidation cost after epoch 10000: 7.219717\nTrain cost after epoch 10500: 6.922760\nValidation cost after epoch 10500: 6.910447\nTrain cost after epoch 11000: 6.668257\nValidation cost after epoch 11000: 6.615467\nTrain cost after epoch 11500: 6.264089\nValidation cost after epoch 11500: 6.299759\nTrain cost after epoch 12000: 6.064107\nValidation cost after epoch 12000: 5.986809\nTrain cost after epoch 12500: 5.835266\nValidation cost after epoch 12500: 5.876351\nTrain cost after epoch 13000: 5.601692\nValidation cost after epoch 13000: 5.626175\nTrain cost after epoch 13500: 5.396188\nValidation cost after epoch 13500: 5.323574\nTrain cost after epoch 14000: 5.240619\nValidation cost after epoch 14000: 5.215782\nParameters have been trained, getting metrics...\nTrain rmse: 0.9361\nValidation rmse: 0.9331\nTrain rmsle: 0.0735\nValidation rmsle: 0.0732\nLowest rmse: 5.09 at epoch 13973\n",
          "name": "stdout"
        },
        {
          "output_type": "display_data",
          "data": {
            "text/plain": "<Figure size 432x288 with 1 Axes>",
            "image/png": "[encoded data removed]"
          },
          "metadata": {
            "needs_background": "light"
          }
        }
      ]
    },
    {
      "metadata": {
        "_uuid": "81f21a7ac28ec33af50f46e0e40ea845a0401e78"
      },
      "cell_type": "markdown",
      "source": "### Make predictions"
    },
    {
      "metadata": {
        "_uuid": "520356c9b6a40bf3b4e3c3701ceb6e861b4f41dc",
        "_cell_guid": "97efe509-bbe8-4452-b7eb-9f8128e705d3",
        "trusted": true
      },
      "cell_type": "code",
      "source": "prediction = list(map(lambda val: float(val), predict(test_pre, parameters)))\nprediction = list(map(lambda val: np.expm1(val), prediction))",
      "execution_count": 10,
      "outputs": []
    },
    {
      "metadata": {
        "trusted": true,
        "_uuid": "4fc5374700f553cdb789b70676bc88c2fe50c9e1"
      },
      "cell_type": "code",
      "source": "submission = pd.DataFrame({\"Id\":test.Id.values})\nsubmission[\"SalePrice\"] = prediction\nsubmission.to_csv(\"submission.csv\", index=False)",
      "execution_count": 11,
      "outputs": []
    }
  ],
  "metadata": {
    "kernelspec": {
      "display_name": "Python 3",
      "language": "python",
      "name": "python3"
    },
    "language_info": {
      "name": "python",
      "version": "3.6.6",
      "mimetype": "text/x-python",
      "codemirror_mode": {
        "name": "ipython",
        "version": 3
      },
      "pygments_lexer": "ipython3",
      "nbconvert_exporter": "python",
      "file_extension": ".py"
    }
  },
  "nbformat": 4,
  "nbformat_minor": 1
}