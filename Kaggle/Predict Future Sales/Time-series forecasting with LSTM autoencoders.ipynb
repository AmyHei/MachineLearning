{
  "cells": [
    {
      "metadata": {
        "_uuid": "63920a788e6a0b5bb7c681717885ab6bf20b8413"
      },
      "cell_type": "markdown",
      "source": "<h1><center>Time-series forecasting with deep learning & LSTM autoencoders</center></h1>\n\n* #### The purpose of this work is to show one way time-series data can be effiently encoded to lower dimensions, to be used into non time-series models.\n* #### Here I'll encode a time-series of size 12 (12 months) to a single value and use it on a MLP deep learning model, instead of using the time-series on a LSTM model that could be the regular approach.\n* #### The first part of the data preparation is from my other kernel [Model stacking, feature engineering and EDA](https://www.kaggle.com/dimitreoliveira/model-stacking-feature-engineering-and-eda).\n* #### This work was inspired by this Machinelearningmastery post [A Gentle Introduction to LSTM Autoencoders](https://machinelearningmastery.com/lstm-autoencoders/), make sure to check out."
    },
    {
      "metadata": {
        "_uuid": "a40fdd9863be8fe7c5799345ece1e1174d9e6730"
      },
      "cell_type": "markdown",
      "source": "<h2><center>Predict future sales</center></h2>\n\nWe are asking you to predict total sales for every product and store in the next month. By solving this competition you will be able to apply and enhance your data science skills.\n\nYou are provided with daily historical sales data. The task is to forecast the total amount of products sold in every shop for the test set. Note that the list of shops and products slightly changes every month. Creating a robust model that can handle such situations is part of the challenge.\n\n#### Data fields description:\n* ID - an Id that represents a (Shop, Item) tuple within the test set\n* shop_id - unique identifier of a shop\n* item_id - unique identifier of a product\n* item_category_id - unique identifier of item category\n* date_block_num - a consecutive month number, used for convenience. January 2013 is 0, February 2013 is 1,..., October 2015 is 33\n* date - date in format dd/mm/yyyy\n* item_cnt_day - number of products sold. You are predicting a monthly amount of this measure\n* item_price - current price of an item\n* item_name - name of item\n* shop_name - name of shop\n* item_category_name - name of item category\n\n### Dependencies"
    },
    {
      "metadata": {
        "trusted": true,
        "_uuid": "60785124984e36422c50287be4d6b1d7944af345",
        "_kg_hide-input": false,
        "_kg_hide-output": true
      },
      "cell_type": "code",
      "source": "import warnings\nimport numpy as np\nimport pandas as pd\nimport matplotlib.pyplot as plt\nfrom keras import optimizers\nfrom keras.utils import plot_model\nfrom keras.models import Sequential, Model\nfrom keras.layers import Dense, LSTM, Dropout, RepeatVector, TimeDistributed\nfrom sklearn.metrics import mean_squared_error\nfrom sklearn.model_selection import train_test_split\n\n%matplotlib inline\npd.set_option('display.float_format', lambda x: '%.2f' % x)\nwarnings.filterwarnings(\"ignore\")",
      "execution_count": 1,
      "outputs": [
        {
          "output_type": "stream",
          "text": "Using TensorFlow backend.\n",
          "name": "stderr"
        }
      ]
    },
    {
      "metadata": {
        "_uuid": "0dc8d7422c27df8c88b6b8493c2967da432300a8"
      },
      "cell_type": "markdown",
      "source": "### Loading data"
    },
    {
      "metadata": {
        "trusted": true,
        "_uuid": "1902600704b6188ec08cd65ae0df9b6541b02a6c"
      },
      "cell_type": "code",
      "source": "test = pd.read_csv('../input/test.csv', dtype={'ID': 'int32', 'shop_id': 'int32', \n                                                  'item_id': 'int32'})\nitem_categories = pd.read_csv('../input/item_categories.csv', \n                              dtype={'item_category_name': 'str', 'item_category_id': 'int32'})\nitems = pd.read_csv('../input/items.csv', dtype={'item_name': 'str', 'item_id': 'int32', \n                                                 'item_category_id': 'int32'})\nshops = pd.read_csv('../input/shops.csv', dtype={'shop_name': 'str', 'shop_id': 'int32'})\nsales = pd.read_csv('../input/sales_train.csv', parse_dates=['date'], \n                    dtype={'date': 'str', 'date_block_num': 'int32', 'shop_id': 'int32', \n                      'item_id': 'int32', 'item_price': 'float32', 'item_cnt_day': 'int32'})",
      "execution_count": 2,
      "outputs": []
    },
    {
      "metadata": {
        "_uuid": "c7670299c9ebef79ffb9daca617fc8773d2d68e7"
      },
      "cell_type": "markdown",
      "source": "### Join data sets"
    },
    {
      "metadata": {
        "trusted": true,
        "_uuid": "203e9c8159e3f7b9369624eb070b15b255b64003"
      },
      "cell_type": "code",
      "source": "train = sales.join(items, on='item_id', rsuffix='_').join(shops, on='shop_id', rsuffix='_').join(item_categories, on='item_category_id', rsuffix='_').drop(['item_id_', 'shop_id_', 'item_category_id_'], axis=1)",
      "execution_count": 3,
      "outputs": []
    },
    {
      "metadata": {
        "_uuid": "8e398989c1b07623db13744c9dc7118a8102996d"
      },
      "cell_type": "markdown",
      "source": "### Let's take a look at the raw data"
    },
    {
      "metadata": {
        "_kg_hide-input": true,
        "trusted": true,
        "_uuid": "eaa4c16a64104e983e0c6eeded7e6e60a3b843f0"
      },
      "cell_type": "code",
      "source": "print('Train rows: ', train.shape[0])\nprint('Train columns: ', train.shape[1])",
      "execution_count": 4,
      "outputs": [
        {
          "output_type": "stream",
          "text": "Train rows:  2935849\nTrain columns:  10\n",
          "name": "stdout"
        }
      ]
    },
    {
      "metadata": {
        "trusted": true,
        "_uuid": "3e68b564c7d50dc0c50635a50eca1d84c1ed2c58",
        "_kg_hide-input": true
      },
      "cell_type": "code",
      "source": "train.head().T",
      "execution_count": 5,
      "outputs": [
        {
          "output_type": "execute_result",
          "execution_count": 5,
          "data": {
            "text/plain": "                                         0                   ...                                                           4\ndate                   2013-02-01 00:00:00                   ...                                         2013-01-15 00:00:00\ndate_block_num                           0                   ...                                                           0\nshop_id                                 59                   ...                                                          25\nitem_id                              22154                   ...                                                        2555\nitem_price                          999.00                   ...                                                     1099.00\nitem_cnt_day                             1                   ...                                                           1\nitem_name                ЯВЛЕНИЕ 2012 (BD)                   ...                     DEEP PURPLE 30 Very Best Of 2CD (Фирм.)\nitem_category_id                        37                   ...                                                          56\nshop_name           Ярославль ТЦ \"Альтаир\"                   ...                                         Москва ТРК \"Атриум\"\nitem_category_name          Кино - Blu-Ray                   ...                         Музыка - CD фирменного производства\n\n[10 rows x 5 columns]",
            "text/html": "<div>\n<style scoped>\n    .dataframe tbody tr th:only-of-type {\n        vertical-align: middle;\n    }\n\n    .dataframe tbody tr th {\n        vertical-align: top;\n    }\n\n    .dataframe thead th {\n        text-align: right;\n    }\n</style>\n<table border=\"1\" class=\"dataframe\">\n  <thead>\n    <tr style=\"text-align: right;\">\n      <th></th>\n      <th>0</th>\n      <th>1</th>\n      <th>2</th>\n      <th>3</th>\n      <th>4</th>\n    </tr>\n  </thead>\n  <tbody>\n    <tr>\n      <th>date</th>\n      <td>2013-02-01 00:00:00</td>\n      <td>2013-03-01 00:00:00</td>\n      <td>2013-05-01 00:00:00</td>\n      <td>2013-06-01 00:00:00</td>\n      <td>2013-01-15 00:00:00</td>\n    </tr>\n    <tr>\n      <th>date_block_num</th>\n      <td>0</td>\n      <td>0</td>\n      <td>0</td>\n      <td>0</td>\n      <td>0</td>\n    </tr>\n    <tr>\n      <th>shop_id</th>\n      <td>59</td>\n      <td>25</td>\n      <td>25</td>\n      <td>25</td>\n      <td>25</td>\n    </tr>\n    <tr>\n      <th>item_id</th>\n      <td>22154</td>\n      <td>2552</td>\n      <td>2552</td>\n      <td>2554</td>\n      <td>2555</td>\n    </tr>\n    <tr>\n      <th>item_price</th>\n      <td>999.00</td>\n      <td>899.00</td>\n      <td>899.00</td>\n      <td>1709.05</td>\n      <td>1099.00</td>\n    </tr>\n    <tr>\n      <th>item_cnt_day</th>\n      <td>1</td>\n      <td>1</td>\n      <td>-1</td>\n      <td>1</td>\n      <td>1</td>\n    </tr>\n    <tr>\n      <th>item_name</th>\n      <td>ЯВЛЕНИЕ 2012 (BD)</td>\n      <td>DEEP PURPLE  The House Of Blue Light  LP</td>\n      <td>DEEP PURPLE  The House Of Blue Light  LP</td>\n      <td>DEEP PURPLE  Who Do You Think We Are  LP</td>\n      <td>DEEP PURPLE 30 Very Best Of 2CD (Фирм.)</td>\n    </tr>\n    <tr>\n      <th>item_category_id</th>\n      <td>37</td>\n      <td>58</td>\n      <td>58</td>\n      <td>58</td>\n      <td>56</td>\n    </tr>\n    <tr>\n      <th>shop_name</th>\n      <td>Ярославль ТЦ \"Альтаир\"</td>\n      <td>Москва ТРК \"Атриум\"</td>\n      <td>Москва ТРК \"Атриум\"</td>\n      <td>Москва ТРК \"Атриум\"</td>\n      <td>Москва ТРК \"Атриум\"</td>\n    </tr>\n    <tr>\n      <th>item_category_name</th>\n      <td>Кино - Blu-Ray</td>\n      <td>Музыка - Винил</td>\n      <td>Музыка - Винил</td>\n      <td>Музыка - Винил</td>\n      <td>Музыка - CD фирменного производства</td>\n    </tr>\n  </tbody>\n</table>\n</div>"
          },
          "metadata": {}
        }
      ]
    },
    {
      "metadata": {
        "trusted": true,
        "_uuid": "cac7bdfa7c47826d361d567e699cd3d8c8900224",
        "_kg_hide-input": true
      },
      "cell_type": "code",
      "source": "train.describe()",
      "execution_count": 6,
      "outputs": [
        {
          "output_type": "execute_result",
          "execution_count": 6,
          "data": {
            "text/plain": "       date_block_num        ...         item_category_id\ncount      2935849.00        ...               2935849.00\nmean            14.57        ...                    40.00\nstd              9.42        ...                    17.10\nmin              0.00        ...                     0.00\n25%              7.00        ...                    28.00\n50%             14.00        ...                    40.00\n75%             23.00        ...                    55.00\nmax             33.00        ...                    83.00\n\n[8 rows x 6 columns]",
            "text/html": "<div>\n<style scoped>\n    .dataframe tbody tr th:only-of-type {\n        vertical-align: middle;\n    }\n\n    .dataframe tbody tr th {\n        vertical-align: top;\n    }\n\n    .dataframe thead th {\n        text-align: right;\n    }\n</style>\n<table border=\"1\" class=\"dataframe\">\n  <thead>\n    <tr style=\"text-align: right;\">\n      <th></th>\n      <th>date_block_num</th>\n      <th>shop_id</th>\n      <th>item_id</th>\n      <th>item_price</th>\n      <th>item_cnt_day</th>\n      <th>item_category_id</th>\n    </tr>\n  </thead>\n  <tbody>\n    <tr>\n      <th>count</th>\n      <td>2935849.00</td>\n      <td>2935849.00</td>\n      <td>2935849.00</td>\n      <td>2935849.00</td>\n      <td>2935849.00</td>\n      <td>2935849.00</td>\n    </tr>\n    <tr>\n      <th>mean</th>\n      <td>14.57</td>\n      <td>33.00</td>\n      <td>10197.23</td>\n      <td>890.62</td>\n      <td>1.24</td>\n      <td>40.00</td>\n    </tr>\n    <tr>\n      <th>std</th>\n      <td>9.42</td>\n      <td>16.23</td>\n      <td>6324.30</td>\n      <td>1726.44</td>\n      <td>2.62</td>\n      <td>17.10</td>\n    </tr>\n    <tr>\n      <th>min</th>\n      <td>0.00</td>\n      <td>0.00</td>\n      <td>0.00</td>\n      <td>-1.00</td>\n      <td>-22.00</td>\n      <td>0.00</td>\n    </tr>\n    <tr>\n      <th>25%</th>\n      <td>7.00</td>\n      <td>22.00</td>\n      <td>4476.00</td>\n      <td>249.00</td>\n      <td>1.00</td>\n      <td>28.00</td>\n    </tr>\n    <tr>\n      <th>50%</th>\n      <td>14.00</td>\n      <td>31.00</td>\n      <td>9343.00</td>\n      <td>399.00</td>\n      <td>1.00</td>\n      <td>40.00</td>\n    </tr>\n    <tr>\n      <th>75%</th>\n      <td>23.00</td>\n      <td>47.00</td>\n      <td>15684.00</td>\n      <td>999.00</td>\n      <td>1.00</td>\n      <td>55.00</td>\n    </tr>\n    <tr>\n      <th>max</th>\n      <td>33.00</td>\n      <td>59.00</td>\n      <td>22169.00</td>\n      <td>307980.00</td>\n      <td>2169.00</td>\n      <td>83.00</td>\n    </tr>\n  </tbody>\n</table>\n</div>"
          },
          "metadata": {}
        }
      ]
    },
    {
      "metadata": {
        "_uuid": "a652e387ae6ead95eff1d00b7c81592f4f771a3d"
      },
      "cell_type": "markdown",
      "source": "### Time period of the dataset"
    },
    {
      "metadata": {
        "trusted": true,
        "_uuid": "1fbb85b7b3fceb0d23a22717f0f4214afb46aba3",
        "_kg_hide-input": true
      },
      "cell_type": "code",
      "source": "print('Min date from train set: %s' % train['date'].min().date())\nprint('Max date from train set: %s' % train['date'].max().date())",
      "execution_count": 7,
      "outputs": [
        {
          "output_type": "stream",
          "text": "Min date from train set: 2013-01-01\nMax date from train set: 2015-12-10\n",
          "name": "stdout"
        }
      ]
    },
    {
      "metadata": {
        "_uuid": "5d8d4d0e33aa3debe590f277a6290086d4e96561"
      },
      "cell_type": "markdown",
      "source": "I'm leaving only the \"shop_id\" and \"item_id\" that exist in the test set to have more accurate results."
    },
    {
      "metadata": {
        "trusted": true,
        "_uuid": "7c147d419e724712336da759c111117f90b3f435"
      },
      "cell_type": "code",
      "source": "test_shop_ids = test['shop_id'].unique()\ntest_item_ids = test['item_id'].unique()\n# Only shops that exist in test set.\ntrain = train[train['shop_id'].isin(test_shop_ids)]\n# Only items that exist in test set.\ntrain = train[train['item_id'].isin(test_item_ids)]",
      "execution_count": 8,
      "outputs": []
    },
    {
      "metadata": {
        "_uuid": "7157a7ea84c7d7e024ce8518d4b6c646e6ca2cd4"
      },
      "cell_type": "markdown",
      "source": "### Data preprocessing\n* I'm dropping all features but \"item_cnt_day\" because I'll be using only it as a univariate time-series.\n* We are asked to predict total sales for every product and store in the next month, and our data is given by day, so let's aggregate the data by month.\n* Also I'm leaving only monthly \"item_cnt\" >= 0 and <= 20, as this seems to be the distributions of the test set."
    },
    {
      "metadata": {
        "trusted": true,
        "_uuid": "0cfa016f89affd460f056a8107cfc8f345773907"
      },
      "cell_type": "code",
      "source": "train_monthly = train[['date', 'date_block_num', 'shop_id', 'item_id', 'item_cnt_day']]\ntrain_monthly = train_monthly.sort_values('date').groupby(['date_block_num', 'shop_id', 'item_id'], as_index=False)\ntrain_monthly = train_monthly.agg({'item_cnt_day':['sum']})\ntrain_monthly.columns = ['date_block_num', 'shop_id', 'item_id', 'item_cnt']\ntrain_monthly = train_monthly.query('item_cnt >= 0 and item_cnt <= 20')\n# Label\ntrain_monthly['item_cnt_month'] = train_monthly.sort_values('date_block_num').groupby(['shop_id', 'item_id'])['item_cnt'].shift(-1)\ntrain_monthly.head(10).T",
      "execution_count": 9,
      "outputs": [
        {
          "output_type": "execute_result",
          "execution_count": 9,
          "data": {
            "text/plain": "                   0      1      2   ...         7       8       9\ndate_block_num  0.00   0.00   0.00   ...      0.00    0.00    0.00\nshop_id         2.00   2.00   2.00   ...      2.00    2.00    2.00\nitem_id        33.00 482.00 491.00   ...   1204.00 1224.00 1247.00\nitem_cnt        1.00   1.00   1.00   ...      1.00    1.00    1.00\nitem_cnt_month  2.00   1.00   1.00   ...       nan     nan     nan\n\n[5 rows x 10 columns]",
            "text/html": "<div>\n<style scoped>\n    .dataframe tbody tr th:only-of-type {\n        vertical-align: middle;\n    }\n\n    .dataframe tbody tr th {\n        vertical-align: top;\n    }\n\n    .dataframe thead th {\n        text-align: right;\n    }\n</style>\n<table border=\"1\" class=\"dataframe\">\n  <thead>\n    <tr style=\"text-align: right;\">\n      <th></th>\n      <th>0</th>\n      <th>1</th>\n      <th>2</th>\n      <th>3</th>\n      <th>4</th>\n      <th>5</th>\n      <th>6</th>\n      <th>7</th>\n      <th>8</th>\n      <th>9</th>\n    </tr>\n  </thead>\n  <tbody>\n    <tr>\n      <th>date_block_num</th>\n      <td>0.00</td>\n      <td>0.00</td>\n      <td>0.00</td>\n      <td>0.00</td>\n      <td>0.00</td>\n      <td>0.00</td>\n      <td>0.00</td>\n      <td>0.00</td>\n      <td>0.00</td>\n      <td>0.00</td>\n    </tr>\n    <tr>\n      <th>shop_id</th>\n      <td>2.00</td>\n      <td>2.00</td>\n      <td>2.00</td>\n      <td>2.00</td>\n      <td>2.00</td>\n      <td>2.00</td>\n      <td>2.00</td>\n      <td>2.00</td>\n      <td>2.00</td>\n      <td>2.00</td>\n    </tr>\n    <tr>\n      <th>item_id</th>\n      <td>33.00</td>\n      <td>482.00</td>\n      <td>491.00</td>\n      <td>839.00</td>\n      <td>1007.00</td>\n      <td>1010.00</td>\n      <td>1023.00</td>\n      <td>1204.00</td>\n      <td>1224.00</td>\n      <td>1247.00</td>\n    </tr>\n    <tr>\n      <th>item_cnt</th>\n      <td>1.00</td>\n      <td>1.00</td>\n      <td>1.00</td>\n      <td>1.00</td>\n      <td>3.00</td>\n      <td>1.00</td>\n      <td>2.00</td>\n      <td>1.00</td>\n      <td>1.00</td>\n      <td>1.00</td>\n    </tr>\n    <tr>\n      <th>item_cnt_month</th>\n      <td>2.00</td>\n      <td>1.00</td>\n      <td>1.00</td>\n      <td>1.00</td>\n      <td>1.00</td>\n      <td>1.00</td>\n      <td>1.00</td>\n      <td>nan</td>\n      <td>nan</td>\n      <td>nan</td>\n    </tr>\n  </tbody>\n</table>\n</div>"
          },
          "metadata": {}
        }
      ]
    },
    {
      "metadata": {
        "trusted": true,
        "_uuid": "03f937c371066e246a84e6739397d8affca3698d",
        "_kg_hide-input": true
      },
      "cell_type": "code",
      "source": "train_monthly.describe().T",
      "execution_count": 10,
      "outputs": [
        {
          "output_type": "execute_result",
          "execution_count": 10,
          "data": {
            "text/plain": "                   count     mean     std   ...        50%      75%      max\ndate_block_num 593829.00    20.18    9.14   ...      22.00    28.00    33.00\nshop_id        593829.00    32.07   16.90   ...      31.00    47.00    59.00\nitem_id        593829.00 10015.02 6181.82   ...    9171.00 15334.00 22167.00\nitem_cnt       593829.00     2.10    2.31   ...       1.00     2.00    20.00\nitem_cnt_month 482536.00     2.07    2.17   ...       1.00     2.00    20.00\n\n[5 rows x 8 columns]",
            "text/html": "<div>\n<style scoped>\n    .dataframe tbody tr th:only-of-type {\n        vertical-align: middle;\n    }\n\n    .dataframe tbody tr th {\n        vertical-align: top;\n    }\n\n    .dataframe thead th {\n        text-align: right;\n    }\n</style>\n<table border=\"1\" class=\"dataframe\">\n  <thead>\n    <tr style=\"text-align: right;\">\n      <th></th>\n      <th>count</th>\n      <th>mean</th>\n      <th>std</th>\n      <th>min</th>\n      <th>25%</th>\n      <th>50%</th>\n      <th>75%</th>\n      <th>max</th>\n    </tr>\n  </thead>\n  <tbody>\n    <tr>\n      <th>date_block_num</th>\n      <td>593829.00</td>\n      <td>20.18</td>\n      <td>9.14</td>\n      <td>0.00</td>\n      <td>13.00</td>\n      <td>22.00</td>\n      <td>28.00</td>\n      <td>33.00</td>\n    </tr>\n    <tr>\n      <th>shop_id</th>\n      <td>593829.00</td>\n      <td>32.07</td>\n      <td>16.90</td>\n      <td>2.00</td>\n      <td>19.00</td>\n      <td>31.00</td>\n      <td>47.00</td>\n      <td>59.00</td>\n    </tr>\n    <tr>\n      <th>item_id</th>\n      <td>593829.00</td>\n      <td>10015.02</td>\n      <td>6181.82</td>\n      <td>30.00</td>\n      <td>4418.00</td>\n      <td>9171.00</td>\n      <td>15334.00</td>\n      <td>22167.00</td>\n    </tr>\n    <tr>\n      <th>item_cnt</th>\n      <td>593829.00</td>\n      <td>2.10</td>\n      <td>2.31</td>\n      <td>0.00</td>\n      <td>1.00</td>\n      <td>1.00</td>\n      <td>2.00</td>\n      <td>20.00</td>\n    </tr>\n    <tr>\n      <th>item_cnt_month</th>\n      <td>482536.00</td>\n      <td>2.07</td>\n      <td>2.17</td>\n      <td>0.00</td>\n      <td>1.00</td>\n      <td>1.00</td>\n      <td>2.00</td>\n      <td>20.00</td>\n    </tr>\n  </tbody>\n</table>\n</div>"
          },
          "metadata": {}
        }
      ]
    },
    {
      "metadata": {
        "_uuid": "bf8d9e20db300f5b1253b4453320d4b61c27fcba"
      },
      "cell_type": "markdown",
      "source": "### Time-series processing\n* As I only need the \"item_cnt\" feature as a series, I can get that easily by just using a pivot operation.\n* This way I'll also get the missing months from each \"shop_id\" and \"item_id\", and then replace them with 0 (otherwise would be \"nan\"). "
    },
    {
      "metadata": {
        "trusted": true,
        "_uuid": "9eab7851850f95623ccccdbf000ece06d1bb8ff4"
      },
      "cell_type": "code",
      "source": "monthly_series = train_monthly.pivot_table(index=['shop_id', 'item_id'], columns='date_block_num',values='item_cnt', fill_value=0).reset_index()\nmonthly_series.head()",
      "execution_count": 11,
      "outputs": [
        {
          "output_type": "execute_result",
          "execution_count": 11,
          "data": {
            "text/plain": "date_block_num  shop_id  item_id  0  1  2  3  4 ...  27  28  29  30  31  32  33\n0                     2       30  0  0  1  0  0 ...   0   0   0   0   0   0   0\n1                     2       31  0  4  1  1  0 ...   0   0   0   0   0   0   1\n2                     2       32  0  0  0  0  0 ...   0   0   0   0   1   0   0\n3                     2       33  1  0  0  0  0 ...   1   1   0   1   0   1   0\n4                     2       53  0  0  0  0  0 ...   0   0   0   0   0   0   0\n\n[5 rows x 36 columns]",
            "text/html": "<div>\n<style scoped>\n    .dataframe tbody tr th:only-of-type {\n        vertical-align: middle;\n    }\n\n    .dataframe tbody tr th {\n        vertical-align: top;\n    }\n\n    .dataframe thead th {\n        text-align: right;\n    }\n</style>\n<table border=\"1\" class=\"dataframe\">\n  <thead>\n    <tr style=\"text-align: right;\">\n      <th>date_block_num</th>\n      <th>shop_id</th>\n      <th>item_id</th>\n      <th>0</th>\n      <th>1</th>\n      <th>2</th>\n      <th>3</th>\n      <th>4</th>\n      <th>5</th>\n      <th>6</th>\n      <th>7</th>\n      <th>8</th>\n      <th>9</th>\n      <th>10</th>\n      <th>11</th>\n      <th>12</th>\n      <th>13</th>\n      <th>14</th>\n      <th>15</th>\n      <th>16</th>\n      <th>17</th>\n      <th>18</th>\n      <th>19</th>\n      <th>20</th>\n      <th>21</th>\n      <th>22</th>\n      <th>23</th>\n      <th>24</th>\n      <th>25</th>\n      <th>26</th>\n      <th>27</th>\n      <th>28</th>\n      <th>29</th>\n      <th>30</th>\n      <th>31</th>\n      <th>32</th>\n      <th>33</th>\n    </tr>\n  </thead>\n  <tbody>\n    <tr>\n      <th>0</th>\n      <td>2</td>\n      <td>30</td>\n      <td>0</td>\n      <td>0</td>\n      <td>1</td>\n      <td>0</td>\n      <td>0</td>\n      <td>1</td>\n      <td>0</td>\n      <td>0</td>\n      <td>0</td>\n      <td>0</td>\n      <td>0</td>\n      <td>0</td>\n      <td>0</td>\n      <td>0</td>\n      <td>0</td>\n      <td>1</td>\n      <td>1</td>\n      <td>0</td>\n      <td>0</td>\n      <td>0</td>\n      <td>0</td>\n      <td>0</td>\n      <td>0</td>\n      <td>0</td>\n      <td>0</td>\n      <td>0</td>\n      <td>0</td>\n      <td>0</td>\n      <td>0</td>\n      <td>0</td>\n      <td>0</td>\n      <td>0</td>\n      <td>0</td>\n      <td>0</td>\n    </tr>\n    <tr>\n      <th>1</th>\n      <td>2</td>\n      <td>31</td>\n      <td>0</td>\n      <td>4</td>\n      <td>1</td>\n      <td>1</td>\n      <td>0</td>\n      <td>0</td>\n      <td>0</td>\n      <td>0</td>\n      <td>0</td>\n      <td>0</td>\n      <td>0</td>\n      <td>0</td>\n      <td>0</td>\n      <td>0</td>\n      <td>0</td>\n      <td>0</td>\n      <td>1</td>\n      <td>0</td>\n      <td>0</td>\n      <td>0</td>\n      <td>0</td>\n      <td>0</td>\n      <td>0</td>\n      <td>0</td>\n      <td>0</td>\n      <td>0</td>\n      <td>0</td>\n      <td>0</td>\n      <td>0</td>\n      <td>0</td>\n      <td>0</td>\n      <td>0</td>\n      <td>0</td>\n      <td>1</td>\n    </tr>\n    <tr>\n      <th>2</th>\n      <td>2</td>\n      <td>32</td>\n      <td>0</td>\n      <td>0</td>\n      <td>0</td>\n      <td>0</td>\n      <td>0</td>\n      <td>0</td>\n      <td>0</td>\n      <td>0</td>\n      <td>0</td>\n      <td>0</td>\n      <td>0</td>\n      <td>0</td>\n      <td>1</td>\n      <td>0</td>\n      <td>1</td>\n      <td>0</td>\n      <td>0</td>\n      <td>0</td>\n      <td>1</td>\n      <td>0</td>\n      <td>2</td>\n      <td>2</td>\n      <td>0</td>\n      <td>2</td>\n      <td>0</td>\n      <td>0</td>\n      <td>1</td>\n      <td>0</td>\n      <td>0</td>\n      <td>0</td>\n      <td>0</td>\n      <td>1</td>\n      <td>0</td>\n      <td>0</td>\n    </tr>\n    <tr>\n      <th>3</th>\n      <td>2</td>\n      <td>33</td>\n      <td>1</td>\n      <td>0</td>\n      <td>0</td>\n      <td>0</td>\n      <td>0</td>\n      <td>0</td>\n      <td>0</td>\n      <td>0</td>\n      <td>0</td>\n      <td>0</td>\n      <td>2</td>\n      <td>1</td>\n      <td>1</td>\n      <td>0</td>\n      <td>0</td>\n      <td>0</td>\n      <td>0</td>\n      <td>0</td>\n      <td>0</td>\n      <td>0</td>\n      <td>1</td>\n      <td>0</td>\n      <td>0</td>\n      <td>0</td>\n      <td>0</td>\n      <td>1</td>\n      <td>0</td>\n      <td>1</td>\n      <td>1</td>\n      <td>0</td>\n      <td>1</td>\n      <td>0</td>\n      <td>1</td>\n      <td>0</td>\n    </tr>\n    <tr>\n      <th>4</th>\n      <td>2</td>\n      <td>53</td>\n      <td>0</td>\n      <td>0</td>\n      <td>0</td>\n      <td>0</td>\n      <td>0</td>\n      <td>0</td>\n      <td>0</td>\n      <td>0</td>\n      <td>0</td>\n      <td>0</td>\n      <td>0</td>\n      <td>0</td>\n      <td>0</td>\n      <td>0</td>\n      <td>0</td>\n      <td>0</td>\n      <td>0</td>\n      <td>0</td>\n      <td>0</td>\n      <td>0</td>\n      <td>0</td>\n      <td>0</td>\n      <td>0</td>\n      <td>0</td>\n      <td>0</td>\n      <td>1</td>\n      <td>0</td>\n      <td>0</td>\n      <td>0</td>\n      <td>0</td>\n      <td>0</td>\n      <td>0</td>\n      <td>0</td>\n      <td>0</td>\n    </tr>\n  </tbody>\n</table>\n</div>"
          },
          "metadata": {}
        }
      ]
    },
    {
      "metadata": {
        "_uuid": "9cbe681a798f5c2d2183233e4c77db1721c41511"
      },
      "cell_type": "markdown",
      "source": "#### Currently I have one series (33 months) for each unique pair of \"shop_id\" and \"item_id\", but probably would be better to have multiple smaller series for each unique pair, so I'm generating multiple series of size 12 (one year) for each unique pair."
    },
    {
      "metadata": {
        "trusted": true,
        "_uuid": "dc9089997b7bb9342d5a26583c8722c81c951e4e"
      },
      "cell_type": "code",
      "source": "first_month = 0\nlast_month = 33\nserie_size = 12\ndata_series = []\n\nfor index, row in monthly_series.iterrows():\n    for month1 in range(0, ((last_month - (first_month + serie_size)) + 1), 21):\n        serie = [row['shop_id'], row['item_id']]\n        for month2 in range(serie_size + 1):\n            serie.append(row[month1 + first_month + month2])\n        data_series.append(serie)\n\ncolumns = ['shop_id', 'item_id']\n[columns.append(i) for i in range(serie_size)]\ncolumns.append('label')\n\ndata_series = pd.DataFrame(data_series, columns=columns)\ndata_series.head()",
      "execution_count": 12,
      "outputs": [
        {
          "output_type": "execute_result",
          "execution_count": 12,
          "data": {
            "text/plain": "   shop_id  item_id  0  1  2  3  4  5  6  7  8  9  10  11  label\n0        2       30  0  0  1  0  0  1  0  0  0  0   0   0      0\n1        2       30  0  0  0  0  0  0  0  0  0  0   0   0      0\n2        2       31  0  4  1  1  0  0  0  0  0  0   0   0      0\n3        2       31  0  0  0  0  0  0  0  0  0  0   0   0      1\n4        2       32  0  0  0  0  0  0  0  0  0  0   0   0      1",
            "text/html": "<div>\n<style scoped>\n    .dataframe tbody tr th:only-of-type {\n        vertical-align: middle;\n    }\n\n    .dataframe tbody tr th {\n        vertical-align: top;\n    }\n\n    .dataframe thead th {\n        text-align: right;\n    }\n</style>\n<table border=\"1\" class=\"dataframe\">\n  <thead>\n    <tr style=\"text-align: right;\">\n      <th></th>\n      <th>shop_id</th>\n      <th>item_id</th>\n      <th>0</th>\n      <th>1</th>\n      <th>2</th>\n      <th>3</th>\n      <th>4</th>\n      <th>5</th>\n      <th>6</th>\n      <th>7</th>\n      <th>8</th>\n      <th>9</th>\n      <th>10</th>\n      <th>11</th>\n      <th>label</th>\n    </tr>\n  </thead>\n  <tbody>\n    <tr>\n      <th>0</th>\n      <td>2</td>\n      <td>30</td>\n      <td>0</td>\n      <td>0</td>\n      <td>1</td>\n      <td>0</td>\n      <td>0</td>\n      <td>1</td>\n      <td>0</td>\n      <td>0</td>\n      <td>0</td>\n      <td>0</td>\n      <td>0</td>\n      <td>0</td>\n      <td>0</td>\n    </tr>\n    <tr>\n      <th>1</th>\n      <td>2</td>\n      <td>30</td>\n      <td>0</td>\n      <td>0</td>\n      <td>0</td>\n      <td>0</td>\n      <td>0</td>\n      <td>0</td>\n      <td>0</td>\n      <td>0</td>\n      <td>0</td>\n      <td>0</td>\n      <td>0</td>\n      <td>0</td>\n      <td>0</td>\n    </tr>\n    <tr>\n      <th>2</th>\n      <td>2</td>\n      <td>31</td>\n      <td>0</td>\n      <td>4</td>\n      <td>1</td>\n      <td>1</td>\n      <td>0</td>\n      <td>0</td>\n      <td>0</td>\n      <td>0</td>\n      <td>0</td>\n      <td>0</td>\n      <td>0</td>\n      <td>0</td>\n      <td>0</td>\n    </tr>\n    <tr>\n      <th>3</th>\n      <td>2</td>\n      <td>31</td>\n      <td>0</td>\n      <td>0</td>\n      <td>0</td>\n      <td>0</td>\n      <td>0</td>\n      <td>0</td>\n      <td>0</td>\n      <td>0</td>\n      <td>0</td>\n      <td>0</td>\n      <td>0</td>\n      <td>0</td>\n      <td>1</td>\n    </tr>\n    <tr>\n      <th>4</th>\n      <td>2</td>\n      <td>32</td>\n      <td>0</td>\n      <td>0</td>\n      <td>0</td>\n      <td>0</td>\n      <td>0</td>\n      <td>0</td>\n      <td>0</td>\n      <td>0</td>\n      <td>0</td>\n      <td>0</td>\n      <td>0</td>\n      <td>0</td>\n      <td>1</td>\n    </tr>\n  </tbody>\n</table>\n</div>"
          },
          "metadata": {}
        }
      ]
    },
    {
      "metadata": {
        "_uuid": "0edbab0817b24c8cfe7c4739cc43bd8668b057be"
      },
      "cell_type": "markdown",
      "source": "#### Dropping identifier columns as we don't need them anymore."
    },
    {
      "metadata": {
        "trusted": true,
        "_uuid": "5e837661c8880b5bf4205dc263d32fb3b9a75eee"
      },
      "cell_type": "code",
      "source": "data_series = data_series.drop(['item_id', 'shop_id'], axis=1)",
      "execution_count": 13,
      "outputs": []
    },
    {
      "metadata": {
        "_uuid": "a4f0279dc5228c07a85a70631bf0a52044efdbd3"
      },
      "cell_type": "markdown",
      "source": "### Train and validation sets."
    },
    {
      "metadata": {
        "trusted": true,
        "_uuid": "9fa3580649586a0386ab21c9a63110f66128f4e2"
      },
      "cell_type": "code",
      "source": "labels = data_series['label']\ndata_series.drop('label', axis=1, inplace=True)\ntrain, valid, Y_train, Y_valid = train_test_split(data_series, labels.values, test_size=0.10, random_state=0)",
      "execution_count": 14,
      "outputs": []
    },
    {
      "metadata": {
        "_kg_hide-input": true,
        "trusted": true,
        "_uuid": "ac03abac4fb361e40d589f56aa360d2657b190e0"
      },
      "cell_type": "code",
      "source": "print(\"Train set\", train.shape)\nprint(\"Validation set\", valid.shape)\ntrain.head()",
      "execution_count": 15,
      "outputs": [
        {
          "output_type": "stream",
          "text": "Train set (200327, 12)\nValidation set (22259, 12)\n",
          "name": "stdout"
        },
        {
          "output_type": "execute_result",
          "execution_count": 15,
          "data": {
            "text/plain": "        0   1   2   3   4   5   6   7   8   9   10  11\n207604   0   0   0   0   0   0   0   0   0   1   0   0\n45150    0  14   1   0   1   1   0   0   0   0   0   3\n143433   0   0   4   2   1   2   2   1   0   0   0   1\n202144   1   0   2   0   0   1   1   0   0   0   0   0\n136088   0   0   0   0   0   0   0   0   0   0   0   0",
            "text/html": "<div>\n<style scoped>\n    .dataframe tbody tr th:only-of-type {\n        vertical-align: middle;\n    }\n\n    .dataframe tbody tr th {\n        vertical-align: top;\n    }\n\n    .dataframe thead th {\n        text-align: right;\n    }\n</style>\n<table border=\"1\" class=\"dataframe\">\n  <thead>\n    <tr style=\"text-align: right;\">\n      <th></th>\n      <th>0</th>\n      <th>1</th>\n      <th>2</th>\n      <th>3</th>\n      <th>4</th>\n      <th>5</th>\n      <th>6</th>\n      <th>7</th>\n      <th>8</th>\n      <th>9</th>\n      <th>10</th>\n      <th>11</th>\n    </tr>\n  </thead>\n  <tbody>\n    <tr>\n      <th>207604</th>\n      <td>0</td>\n      <td>0</td>\n      <td>0</td>\n      <td>0</td>\n      <td>0</td>\n      <td>0</td>\n      <td>0</td>\n      <td>0</td>\n      <td>0</td>\n      <td>1</td>\n      <td>0</td>\n      <td>0</td>\n    </tr>\n    <tr>\n      <th>45150</th>\n      <td>0</td>\n      <td>14</td>\n      <td>1</td>\n      <td>0</td>\n      <td>1</td>\n      <td>1</td>\n      <td>0</td>\n      <td>0</td>\n      <td>0</td>\n      <td>0</td>\n      <td>0</td>\n      <td>3</td>\n    </tr>\n    <tr>\n      <th>143433</th>\n      <td>0</td>\n      <td>0</td>\n      <td>4</td>\n      <td>2</td>\n      <td>1</td>\n      <td>2</td>\n      <td>2</td>\n      <td>1</td>\n      <td>0</td>\n      <td>0</td>\n      <td>0</td>\n      <td>1</td>\n    </tr>\n    <tr>\n      <th>202144</th>\n      <td>1</td>\n      <td>0</td>\n      <td>2</td>\n      <td>0</td>\n      <td>0</td>\n      <td>1</td>\n      <td>1</td>\n      <td>0</td>\n      <td>0</td>\n      <td>0</td>\n      <td>0</td>\n      <td>0</td>\n    </tr>\n    <tr>\n      <th>136088</th>\n      <td>0</td>\n      <td>0</td>\n      <td>0</td>\n      <td>0</td>\n      <td>0</td>\n      <td>0</td>\n      <td>0</td>\n      <td>0</td>\n      <td>0</td>\n      <td>0</td>\n      <td>0</td>\n      <td>0</td>\n    </tr>\n  </tbody>\n</table>\n</div>"
          },
          "metadata": {}
        }
      ]
    },
    {
      "metadata": {
        "_uuid": "8f6580ca6d2314d7f0b73b1d0da74ded3e22b1bb"
      },
      "cell_type": "markdown",
      "source": "### Reshape data.\n* Time-series shape **(data points, time-steps, features)**."
    },
    {
      "metadata": {
        "trusted": true,
        "_uuid": "2c5e37e8cc7c1566aed88a0b23f894e500da8b1d"
      },
      "cell_type": "code",
      "source": "X_train = train.values.reshape((train.shape[0], train.shape[1], 1))\nX_valid = valid.values.reshape((valid.shape[0], valid.shape[1], 1))\nprint(\"Train set reshaped\", X_train.shape)\nprint(\"Validation set reshaped\", X_valid.shape)",
      "execution_count": 16,
      "outputs": [
        {
          "output_type": "stream",
          "text": "Train set reshaped (200327, 12, 1)\nValidation set reshaped (22259, 12, 1)\n",
          "name": "stdout"
        }
      ]
    },
    {
      "metadata": {
        "_uuid": "8e7efc501e46c65c03b5b3ec510dd2e1b0279acb"
      },
      "cell_type": "markdown",
      "source": "#### First let's begin with how a regular RNN time-series approach could be.\n\n### Regular LSTM model."
    },
    {
      "metadata": {
        "trusted": true,
        "_uuid": "cc0476a8e15f23ccab658e89a521f6328a3a1e7b"
      },
      "cell_type": "code",
      "source": "serie_size =  X_train.shape[1] # 12\nn_features =  X_train.shape[2] # 1\n\nepochs = 20\nbatch = 64\nlr = 0.001\n\nlstm_model = Sequential()\nlstm_model.add(LSTM(10, input_shape=(serie_size, n_features), return_sequences=True))\nlstm_model.add(LSTM(6, activation='relu', return_sequences=True))\nlstm_model.add(LSTM(1, activation='relu'))\nlstm_model.add(Dense(10, kernel_initializer='glorot_normal', activation='relu'))\nlstm_model.add(Dense(10, kernel_initializer='glorot_normal', activation='relu'))\nlstm_model.add(Dense(1))\nlstm_model.summary()\n\nadam = optimizers.Adam(lr)\nlstm_model.compile(loss='mse', optimizer=adam)\nplot_model(lstm_model, show_shapes=True, to_file='regular_lstm.png')",
      "execution_count": 17,
      "outputs": [
        {
          "output_type": "stream",
          "text": "_________________________________________________________________\nLayer (type)                 Output Shape              Param #   \n=================================================================\nlstm_1 (LSTM)                (None, 12, 10)            480       \n_________________________________________________________________\nlstm_2 (LSTM)                (None, 12, 6)             408       \n_________________________________________________________________\nlstm_3 (LSTM)                (None, 1)                 32        \n_________________________________________________________________\ndense_1 (Dense)              (None, 10)                20        \n_________________________________________________________________\ndense_2 (Dense)              (None, 10)                110       \n_________________________________________________________________\ndense_3 (Dense)              (None, 1)                 11        \n=================================================================\nTotal params: 1,061\nTrainable params: 1,061\nNon-trainable params: 0\n_________________________________________________________________\n",
          "name": "stdout"
        }
      ]
    },
    {
      "metadata": {
        "trusted": true,
        "_uuid": "bd6c873dd2ce1088505a803db608d1ba943997bd"
      },
      "cell_type": "code",
      "source": "lstm_history = lstm_model.fit(X_train, Y_train, epochs=epochs, batch_size=batch, validation_data=(X_valid, Y_valid), verbose=2)",
      "execution_count": 18,
      "outputs": [
        {
          "output_type": "stream",
          "text": "Train on 200327 samples, validate on 22259 samples\nEpoch 1/20\n - 129s - loss: 1.6221 - val_loss: 1.6402\nEpoch 2/20\n - 127s - loss: 1.5609 - val_loss: 1.5995\nEpoch 3/20\n - 126s - loss: 1.5343 - val_loss: 1.5848\nEpoch 4/20\n - 127s - loss: 1.5263 - val_loss: 1.5816\nEpoch 5/20\n - 127s - loss: 1.5249 - val_loss: 1.5812\nEpoch 6/20\n - 127s - loss: 1.5248 - val_loss: 1.5812\nEpoch 7/20\n - 127s - loss: 1.5248 - val_loss: 1.5812\nEpoch 8/20\n - 127s - loss: 1.5248 - val_loss: 1.5812\nEpoch 9/20\n - 127s - loss: 1.5248 - val_loss: 1.5812\nEpoch 10/20\n - 127s - loss: 1.5248 - val_loss: 1.5812\nEpoch 11/20\n - 127s - loss: 1.5248 - val_loss: 1.5812\nEpoch 12/20\n - 127s - loss: 1.5248 - val_loss: 1.5812\nEpoch 13/20\n - 127s - loss: 1.5248 - val_loss: 1.5812\nEpoch 14/20\n - 128s - loss: 1.5248 - val_loss: 1.5812\nEpoch 15/20\n - 127s - loss: 1.5248 - val_loss: 1.5812\nEpoch 16/20\n - 127s - loss: 1.5248 - val_loss: 1.5812\nEpoch 17/20\n - 127s - loss: 1.5248 - val_loss: 1.5812\nEpoch 18/20\n - 124s - loss: 1.5248 - val_loss: 1.5812\nEpoch 19/20\n - 124s - loss: 1.5248 - val_loss: 1.5812\nEpoch 20/20\n - 124s - loss: 1.5248 - val_loss: 1.5812\n",
          "name": "stdout"
        }
      ]
    },
    {
      "metadata": {
        "_uuid": "51d7dff8a1c9c35a56274ed622aaeec94b54167a"
      },
      "cell_type": "markdown",
      "source": "### Autoencoder\n* Now we will build an autoencoder to learn how to reconstruct the input, this way it internally learns the best way to represent the input in lower dimensions.\n* The reconstruct model is composed of an encoder and a decoder, the encoder is responsible for learning how to represent the input into lower dimensions and the decoder learns how to rebuild the smaller representations into the input again.\n* Here is a structural representations of an autoencoder:\n <img src=\"https://raw.githubusercontent.com/dimitreOliveira/MachineLearning/master/Kaggle/Predict%20Future%20Sales/Autoencoder_structure.png\" width=\"400\">\n* After the models is trained we can keep only the encoder part and we'll have a model that is able to do what we want.\n\n### LSTM Autoencoder."
    },
    {
      "metadata": {
        "trusted": true,
        "_uuid": "5ff2be02b26b29defb8f72a04d6c8da64ee66b7c",
        "scrolled": false
      },
      "cell_type": "code",
      "source": "encoder_decoder = Sequential()\nencoder_decoder.add(LSTM(serie_size, activation='relu', input_shape=(serie_size, n_features), return_sequences=True))\nencoder_decoder.add(LSTM(6, activation='relu', return_sequences=True))\nencoder_decoder.add(LSTM(1, activation='relu'))\nencoder_decoder.add(RepeatVector(serie_size))\nencoder_decoder.add(LSTM(serie_size, activation='relu', return_sequences=True))\nencoder_decoder.add(TimeDistributed(Dense(1)))\nencoder_decoder.summary()\n\nadam = optimizers.Adam(lr)\nencoder_decoder.compile(loss='mse', optimizer=adam)",
      "execution_count": 19,
      "outputs": [
        {
          "output_type": "stream",
          "text": "_________________________________________________________________\nLayer (type)                 Output Shape              Param #   \n=================================================================\nlstm_4 (LSTM)                (None, 12, 12)            672       \n_________________________________________________________________\nlstm_5 (LSTM)                (None, 12, 6)             456       \n_________________________________________________________________\nlstm_6 (LSTM)                (None, 1)                 32        \n_________________________________________________________________\nrepeat_vector_1 (RepeatVecto (None, 12, 1)             0         \n_________________________________________________________________\nlstm_7 (LSTM)                (None, 12, 12)            672       \n_________________________________________________________________\ntime_distributed_1 (TimeDist (None, 12, 1)             13        \n=================================================================\nTotal params: 1,845\nTrainable params: 1,845\nNon-trainable params: 0\n_________________________________________________________________\n",
          "name": "stdout"
        }
      ]
    },
    {
      "metadata": {
        "trusted": true,
        "_uuid": "63adaa1c1493776404358a915e53683123587df8"
      },
      "cell_type": "code",
      "source": "encoder_decoder_history = encoder_decoder.fit(X_train, X_train, epochs=epochs, batch_size=batch, verbose=2)",
      "execution_count": 20,
      "outputs": [
        {
          "output_type": "stream",
          "text": "Epoch 1/20\n - 161s - loss: 1.2402\nEpoch 2/20\n - 157s - loss: 0.9876\nEpoch 3/20\n - 157s - loss: 0.9182\nEpoch 4/20\n - 158s - loss: 0.8836\nEpoch 5/20\n - 158s - loss: 0.8662\nEpoch 6/20\n - 157s - loss: 0.8550\nEpoch 7/20\n - 158s - loss: 0.8474\nEpoch 8/20\n - 158s - loss: 0.8401\nEpoch 9/20\n - 157s - loss: 0.8335\nEpoch 10/20\n - 156s - loss: 0.8296\nEpoch 11/20\n - 157s - loss: 0.8262\nEpoch 12/20\n - 156s - loss: 0.8218\nEpoch 13/20\n - 156s - loss: 0.8168\nEpoch 14/20\n - 157s - loss: 0.8098\nEpoch 15/20\n - 157s - loss: 0.8021\nEpoch 16/20\n - 156s - loss: 0.7914\nEpoch 17/20\n - 155s - loss: 0.7824\nEpoch 18/20\n - 155s - loss: 0.7768\nEpoch 19/20\n - 156s - loss: 0.7721\nEpoch 20/20\n - 156s - loss: 0.7675\n",
          "name": "stdout"
        }
      ]
    },
    {
      "metadata": {
        "_uuid": "b9a93135fa65c99f60d6b475860d595946fa36ce"
      },
      "cell_type": "markdown",
      "source": "#### You should be aware that the better the autoencoder is able to reconstruct the input the better it internally encodes the input, in other words if we have a good autoencoder we probably will have an equally good encoder.\n#### Let's take a look at the layers of the encoder_decoder model:"
    },
    {
      "metadata": {
        "trusted": true,
        "_uuid": "15dacbee296511b692b9ffacce8b0e4908a043e3"
      },
      "cell_type": "code",
      "source": "rpt_vector_layer = Model(inputs=encoder_decoder.inputs, outputs=encoder_decoder.layers[3].output)\ntime_dist_layer = Model(inputs=encoder_decoder.inputs, outputs=encoder_decoder.layers[5].output)\nencoder_decoder.layers",
      "execution_count": 21,
      "outputs": [
        {
          "output_type": "execute_result",
          "execution_count": 21,
          "data": {
            "text/plain": "[<keras.layers.recurrent.LSTM at 0x7fe90a995908>,\n <keras.layers.recurrent.LSTM at 0x7fe90a995978>,\n <keras.layers.recurrent.LSTM at 0x7fe90a995c18>,\n <keras.layers.core.RepeatVector at 0x7fe90a5bec18>,\n <keras.layers.recurrent.LSTM at 0x7fe904653cf8>,\n <keras.layers.wrappers.TimeDistributed at 0x7fe9040bada0>]"
          },
          "metadata": {}
        }
      ]
    },
    {
      "metadata": {
        "_uuid": "9f890ab6dc39db44614f56c63ae66e9ed8aa5683"
      },
      "cell_type": "markdown",
      "source": "#### About the autoencoder layers\n#### LSTM\n* This is just a regular LSTM layer, a layer that is able to receive sequence data and learn based on it nothing much to talk about."
    },
    {
      "metadata": {
        "_uuid": "8da47713e9298d43d2533f4592acccc00ddca1e7"
      },
      "cell_type": "markdown",
      "source": "#### RepeatVector layer\n* Here is something we don't usually see, this layers basically repeats it's input \"n\" times, the reason to use it is because the last layers from the encoder part (the layer with one neuron) don't return sequences, so it does not outputs a sequenced data, this way we can't just add another LSTM layer after it, we need a way to turn this output into a sequence of the same time-steps of the model input, this is where \"RepeatVector\" layers comes in.\n* Let's see what it outputs."
    },
    {
      "metadata": {
        "trusted": true,
        "_uuid": "48a1f24b0f8b6c64ef7e2c77c72584c0b85a1965",
        "_kg_hide-input": true
      },
      "cell_type": "code",
      "source": "rpt_vector_layer_output = rpt_vector_layer.predict(X_train[:1])\nprint('Repeat vector output shape', rpt_vector_layer_output.shape)\nprint('Repeat vector output sample')\nprint(rpt_vector_layer_output[0])",
      "execution_count": 22,
      "outputs": [
        {
          "output_type": "stream",
          "text": "Repeat vector output shape (1, 12, 1)\nRepeat vector output sample\n[[0.13515839]\n [0.13515839]\n [0.13515839]\n [0.13515839]\n [0.13515839]\n [0.13515839]\n [0.13515839]\n [0.13515839]\n [0.13515839]\n [0.13515839]\n [0.13515839]\n [0.13515839]]\n",
          "name": "stdout"
        }
      ]
    },
    {
      "metadata": {
        "_uuid": "9c504b854e6c9c1b8254ee872c18bffb38c69090"
      },
      "cell_type": "markdown",
      "source": "As you can see this is just the same value repeated some times to match the same shape of the model input.\n\n#### TimeDistributed layer\n* This layer is more common, sometimes is used when you want to mix RNN layers with other kind of layers.\n* We could output the model with another LSTM layer with one neuron and \"return_sequences=True\" parameter, but using a \"TimeDistributed\" layer wrapping a \"Dense\" layer we will have the same weights for each outputted time-step."
    },
    {
      "metadata": {
        "trusted": true,
        "_uuid": "2fdce2f3b27cb4ca1aef856cfe1987c881ff49d0",
        "_kg_hide-input": true
      },
      "cell_type": "code",
      "source": "time_dist_layer_output = time_dist_layer.predict(X_train[:1])\nprint('Time distributed output shape', time_dist_layer_output.shape)\nprint('Time distributed output sample')\nprint(time_dist_layer_output[0])",
      "execution_count": 23,
      "outputs": [
        {
          "output_type": "stream",
          "text": "Time distributed output shape (1, 12, 1)\nTime distributed output sample\n[[0.0690299 ]\n [0.10837664]\n [0.1115761 ]\n [0.10239787]\n [0.09252657]\n [0.08383952]\n [0.07685773]\n [0.07159872]\n [0.06790717]\n [0.06558385]\n [0.06443354]\n [0.06428047]]\n",
          "name": "stdout"
        }
      ]
    },
    {
      "metadata": {
        "_uuid": "19df05eca8d0a3e753468df84c759c1170700650"
      },
      "cell_type": "markdown",
      "source": "[Another good explanation about the used layers](https://machinelearningmastery.com/encoder-decoder-long-short-term-memory-networks/)"
    },
    {
      "metadata": {
        "_uuid": "c9d0dd003dbaac41b7a2dab681b5112571697133"
      },
      "cell_type": "markdown",
      "source": "#### Defining the encoding model.\n* What I want is to encode the whole series into a single value, so I need the output from the layer with a single neuron (in this case it's the third LSTM layer).\n* I'll take only the encoding part of the model and define it as a new one."
    },
    {
      "metadata": {
        "trusted": true,
        "_uuid": "f3d6e03900c87c32819e2689e60b9b56b6d7e8b3"
      },
      "cell_type": "code",
      "source": "encoder = Model(inputs=encoder_decoder.inputs, outputs=encoder_decoder.layers[2].output)\nplot_model(encoder_decoder, show_shapes=True, to_file='encoder_decoder_reconstruct_lstm.png')\nplot_model(encoder, show_shapes=True, to_file='encoder_lstm.png')",
      "execution_count": 24,
      "outputs": []
    },
    {
      "metadata": {
        "_uuid": "ad537909142cdf273ea10de76ba438ee66fc3690"
      },
      "cell_type": "markdown",
      "source": "#### Now let's encode the train and validation time-series."
    },
    {
      "metadata": {
        "trusted": true,
        "_uuid": "3a545acede584748d12a32a15fd6f9d3dfd27529"
      },
      "cell_type": "code",
      "source": "train_encoded = encoder.predict(X_train)\nvalidation_encoded = encoder.predict(X_valid)\nprint('Encoded time-series shape', train_encoded.shape)\nprint('Encoded time-series sample', train_encoded[0])",
      "execution_count": 25,
      "outputs": [
        {
          "output_type": "stream",
          "text": "Encoded time-series shape (200327, 1)\nEncoded time-series sample [0.13515832]\n",
          "name": "stdout"
        }
      ]
    },
    {
      "metadata": {
        "_uuid": "ddce912149f088891b298392c38d9fb37e59dce4"
      },
      "cell_type": "markdown",
      "source": "#### Add new encoded features to the train and validation sets."
    },
    {
      "metadata": {
        "trusted": true,
        "_uuid": "9893ee5967a58ed7babf355dc26a7f1791155ca1"
      },
      "cell_type": "code",
      "source": "train['encoded'] = train_encoded\ntrain['label'] = Y_train\n\nvalid['encoded'] = validation_encoded\nvalid['label'] = Y_valid\n\ntrain.head(10)",
      "execution_count": 26,
      "outputs": [
        {
          "output_type": "execute_result",
          "execution_count": 26,
          "data": {
            "text/plain": "        0   1  2  3  4  5  6  7  8  9  10  11  encoded  label\n207604  0   0  0  0  0  0  0  0  0  1   0   0     0.14      0\n45150   0  14  1  0  1  1  0  0  0  0   0   3     2.76     12\n143433  0   0  4  2  1  2  2  1  0  0   0   1     0.62      1\n202144  1   0  2  0  0  1  1  0  0  0   0   0     0.32      0\n136088  0   0  0  0  0  0  0  0  0  0   0   0     0.06      0\n121675  0   0  0  0  0  1  0  0  0  0   0   0     0.13      0\n185281  0   0  0  0  0  0  0  0  0  0   0   0     0.06      1\n70087   0   0  0  0  0  0  0  0  3  0   1   3     0.61      0\n105249  0   0  0  0  0  0  0  0  0  0   0   0     0.06      0\n183257  0   0  0  0  0  3  0  1  0  0   0   1     0.43      0",
            "text/html": "<div>\n<style scoped>\n    .dataframe tbody tr th:only-of-type {\n        vertical-align: middle;\n    }\n\n    .dataframe tbody tr th {\n        vertical-align: top;\n    }\n\n    .dataframe thead th {\n        text-align: right;\n    }\n</style>\n<table border=\"1\" class=\"dataframe\">\n  <thead>\n    <tr style=\"text-align: right;\">\n      <th></th>\n      <th>0</th>\n      <th>1</th>\n      <th>2</th>\n      <th>3</th>\n      <th>4</th>\n      <th>5</th>\n      <th>6</th>\n      <th>7</th>\n      <th>8</th>\n      <th>9</th>\n      <th>10</th>\n      <th>11</th>\n      <th>encoded</th>\n      <th>label</th>\n    </tr>\n  </thead>\n  <tbody>\n    <tr>\n      <th>207604</th>\n      <td>0</td>\n      <td>0</td>\n      <td>0</td>\n      <td>0</td>\n      <td>0</td>\n      <td>0</td>\n      <td>0</td>\n      <td>0</td>\n      <td>0</td>\n      <td>1</td>\n      <td>0</td>\n      <td>0</td>\n      <td>0.14</td>\n      <td>0</td>\n    </tr>\n    <tr>\n      <th>45150</th>\n      <td>0</td>\n      <td>14</td>\n      <td>1</td>\n      <td>0</td>\n      <td>1</td>\n      <td>1</td>\n      <td>0</td>\n      <td>0</td>\n      <td>0</td>\n      <td>0</td>\n      <td>0</td>\n      <td>3</td>\n      <td>2.76</td>\n      <td>12</td>\n    </tr>\n    <tr>\n      <th>143433</th>\n      <td>0</td>\n      <td>0</td>\n      <td>4</td>\n      <td>2</td>\n      <td>1</td>\n      <td>2</td>\n      <td>2</td>\n      <td>1</td>\n      <td>0</td>\n      <td>0</td>\n      <td>0</td>\n      <td>1</td>\n      <td>0.62</td>\n      <td>1</td>\n    </tr>\n    <tr>\n      <th>202144</th>\n      <td>1</td>\n      <td>0</td>\n      <td>2</td>\n      <td>0</td>\n      <td>0</td>\n      <td>1</td>\n      <td>1</td>\n      <td>0</td>\n      <td>0</td>\n      <td>0</td>\n      <td>0</td>\n      <td>0</td>\n      <td>0.32</td>\n      <td>0</td>\n    </tr>\n    <tr>\n      <th>136088</th>\n      <td>0</td>\n      <td>0</td>\n      <td>0</td>\n      <td>0</td>\n      <td>0</td>\n      <td>0</td>\n      <td>0</td>\n      <td>0</td>\n      <td>0</td>\n      <td>0</td>\n      <td>0</td>\n      <td>0</td>\n      <td>0.06</td>\n      <td>0</td>\n    </tr>\n    <tr>\n      <th>121675</th>\n      <td>0</td>\n      <td>0</td>\n      <td>0</td>\n      <td>0</td>\n      <td>0</td>\n      <td>1</td>\n      <td>0</td>\n      <td>0</td>\n      <td>0</td>\n      <td>0</td>\n      <td>0</td>\n      <td>0</td>\n      <td>0.13</td>\n      <td>0</td>\n    </tr>\n    <tr>\n      <th>185281</th>\n      <td>0</td>\n      <td>0</td>\n      <td>0</td>\n      <td>0</td>\n      <td>0</td>\n      <td>0</td>\n      <td>0</td>\n      <td>0</td>\n      <td>0</td>\n      <td>0</td>\n      <td>0</td>\n      <td>0</td>\n      <td>0.06</td>\n      <td>1</td>\n    </tr>\n    <tr>\n      <th>70087</th>\n      <td>0</td>\n      <td>0</td>\n      <td>0</td>\n      <td>0</td>\n      <td>0</td>\n      <td>0</td>\n      <td>0</td>\n      <td>0</td>\n      <td>3</td>\n      <td>0</td>\n      <td>1</td>\n      <td>3</td>\n      <td>0.61</td>\n      <td>0</td>\n    </tr>\n    <tr>\n      <th>105249</th>\n      <td>0</td>\n      <td>0</td>\n      <td>0</td>\n      <td>0</td>\n      <td>0</td>\n      <td>0</td>\n      <td>0</td>\n      <td>0</td>\n      <td>0</td>\n      <td>0</td>\n      <td>0</td>\n      <td>0</td>\n      <td>0.06</td>\n      <td>0</td>\n    </tr>\n    <tr>\n      <th>183257</th>\n      <td>0</td>\n      <td>0</td>\n      <td>0</td>\n      <td>0</td>\n      <td>0</td>\n      <td>3</td>\n      <td>0</td>\n      <td>1</td>\n      <td>0</td>\n      <td>0</td>\n      <td>0</td>\n      <td>1</td>\n      <td>0.43</td>\n      <td>0</td>\n    </tr>\n  </tbody>\n</table>\n</div>"
          },
          "metadata": {}
        }
      ]
    },
    {
      "metadata": {
        "_uuid": "41752802a4212ff1e105f703a57d10193ed2933e"
      },
      "cell_type": "markdown",
      "source": "#### Now we can use the new encoded feature that is a representation of the whole time-series and train a \"less complex\" model that does not receives sequenced data as input.\n\n### MLP with LSTM encoded feature\n* For the MLP model I'm only using the current month \"item_count\" and the encoded time-series feature from our LSTM encoder model, the idea is that we won't need the whole series because we already have a column that represents the whole series into a single value (it's like a dimensionality reduction)."
    },
    {
      "metadata": {
        "trusted": true,
        "_uuid": "77b3c31ca5dacbc4774fb3845c348c583a015d9e"
      },
      "cell_type": "code",
      "source": "last_month = serie_size - 1\nY_train_encoded = train['label']\ntrain.drop('label', axis=1, inplace=True)\nX_train_encoded = train[[last_month, 'encoded']]\n\nY_valid_encoded = valid['label']\nvalid.drop('label', axis=1, inplace=True)\nX_valid_encoded = valid[[last_month, 'encoded']]\n\nprint(\"Train set\", X_train_encoded.shape)\nprint(\"Validation set\", X_valid_encoded.shape)",
      "execution_count": 27,
      "outputs": [
        {
          "output_type": "stream",
          "text": "Train set (200327, 2)\nValidation set (22259, 2)\n",
          "name": "stdout"
        }
      ]
    },
    {
      "metadata": {
        "trusted": true,
        "_uuid": "e39b4c487ed7fb6fc158d1010f137f7188ff1cb9",
        "_kg_hide-input": true
      },
      "cell_type": "code",
      "source": "X_train_encoded.head()",
      "execution_count": 28,
      "outputs": [
        {
          "output_type": "execute_result",
          "execution_count": 28,
          "data": {
            "text/plain": "        11  encoded\n207604   0     0.14\n45150    3     2.76\n143433   1     0.62\n202144   0     0.32\n136088   0     0.06",
            "text/html": "<div>\n<style scoped>\n    .dataframe tbody tr th:only-of-type {\n        vertical-align: middle;\n    }\n\n    .dataframe tbody tr th {\n        vertical-align: top;\n    }\n\n    .dataframe thead th {\n        text-align: right;\n    }\n</style>\n<table border=\"1\" class=\"dataframe\">\n  <thead>\n    <tr style=\"text-align: right;\">\n      <th></th>\n      <th>11</th>\n      <th>encoded</th>\n    </tr>\n  </thead>\n  <tbody>\n    <tr>\n      <th>207604</th>\n      <td>0</td>\n      <td>0.14</td>\n    </tr>\n    <tr>\n      <th>45150</th>\n      <td>3</td>\n      <td>2.76</td>\n    </tr>\n    <tr>\n      <th>143433</th>\n      <td>1</td>\n      <td>0.62</td>\n    </tr>\n    <tr>\n      <th>202144</th>\n      <td>0</td>\n      <td>0.32</td>\n    </tr>\n    <tr>\n      <th>136088</th>\n      <td>0</td>\n      <td>0.06</td>\n    </tr>\n  </tbody>\n</table>\n</div>"
          },
          "metadata": {}
        }
      ]
    },
    {
      "metadata": {
        "trusted": true,
        "_uuid": "73f2010fd8354fc40a52cda0d44c1b545c117567"
      },
      "cell_type": "code",
      "source": "mlp_model = Sequential()\nmlp_model.add(Dense(10, kernel_initializer='glorot_normal', activation='relu', input_dim=X_train_encoded.shape[1]))\nmlp_model.add(Dense(10, kernel_initializer='glorot_normal', activation='relu'))\nmlp_model.add(Dense(1))\nmlp_model.summary()\n\nadam = optimizers.Adam(lr)\nmlp_model.compile(loss='mse', optimizer=adam)\nplot_model(mlp_model, show_shapes=True, to_file='mlp.png')",
      "execution_count": 29,
      "outputs": [
        {
          "output_type": "stream",
          "text": "_________________________________________________________________\nLayer (type)                 Output Shape              Param #   \n=================================================================\ndense_5 (Dense)              (None, 10)                30        \n_________________________________________________________________\ndense_6 (Dense)              (None, 10)                110       \n_________________________________________________________________\ndense_7 (Dense)              (None, 1)                 11        \n=================================================================\nTotal params: 151\nTrainable params: 151\nNon-trainable params: 0\n_________________________________________________________________\n",
          "name": "stdout"
        }
      ]
    },
    {
      "metadata": {
        "trusted": true,
        "_uuid": "eaa02d75d5021ebefcd878845dcfd2d2efc8aa40",
        "scrolled": false
      },
      "cell_type": "code",
      "source": "mlp_history = mlp_model.fit(X_train_encoded.values, Y_train_encoded.values, epochs=epochs, batch_size=batch, validation_data=(X_valid_encoded, Y_valid_encoded), verbose=2)",
      "execution_count": 30,
      "outputs": [
        {
          "output_type": "stream",
          "text": "Train on 200327 samples, validate on 22259 samples\nEpoch 1/20\n - 6s - loss: 1.1723 - val_loss: 1.1399\nEpoch 2/20\n - 5s - loss: 1.0726 - val_loss: 1.1381\nEpoch 3/20\n - 5s - loss: 1.0710 - val_loss: 1.1366\nEpoch 4/20\n - 6s - loss: 1.0699 - val_loss: 1.1353\nEpoch 5/20\n - 6s - loss: 1.0686 - val_loss: 1.1342\nEpoch 6/20\n - 6s - loss: 1.0677 - val_loss: 1.1333\nEpoch 7/20\n - 6s - loss: 1.0664 - val_loss: 1.1321\nEpoch 8/20\n - 6s - loss: 1.0657 - val_loss: 1.1311\nEpoch 9/20\n - 5s - loss: 1.0648 - val_loss: 1.1301\nEpoch 10/20\n - 6s - loss: 1.0639 - val_loss: 1.1290\nEpoch 11/20\n - 6s - loss: 1.0630 - val_loss: 1.1284\nEpoch 12/20\n - 6s - loss: 1.0626 - val_loss: 1.1282\nEpoch 13/20\n - 5s - loss: 1.0620 - val_loss: 1.1277\nEpoch 14/20\n - 5s - loss: 1.0618 - val_loss: 1.1274\nEpoch 15/20\n - 5s - loss: 1.0614 - val_loss: 1.1268\nEpoch 16/20\n - 6s - loss: 1.0608 - val_loss: 1.1269\nEpoch 17/20\n - 6s - loss: 1.0607 - val_loss: 1.1264\nEpoch 18/20\n - 5s - loss: 1.0605 - val_loss: 1.1261\nEpoch 19/20\n - 6s - loss: 1.0602 - val_loss: 1.1263\nEpoch 20/20\n - 6s - loss: 1.0601 - val_loss: 1.1254\n",
          "name": "stdout"
        }
      ]
    },
    {
      "metadata": {
        "_uuid": "d882dae62437156086c66c49f81f4bc4a9f413c8"
      },
      "cell_type": "markdown",
      "source": "### Comparing models\n* As you can see I tried to build both models with a similar topology (type/number of layers and neurons), so it could make more sense to compare them.\n\n#### Model training"
    },
    {
      "metadata": {
        "trusted": true,
        "_uuid": "0930982fe7cb845c62bcf0b82acda25c9c7fe121",
        "_kg_hide-input": true
      },
      "cell_type": "code",
      "source": "fig, (ax1, ax2) = plt.subplots(1, 2, sharey=True,figsize=(22,7))\n\nax1.plot(lstm_history.history['loss'], label='Train loss')\nax1.plot(lstm_history.history['val_loss'], label='Validation loss')\nax1.legend(loc='best')\nax1.set_title('Regular LSTM')\nax1.set_xlabel('Epochs')\nax1.set_ylabel('MSE')\n\nax2.plot(mlp_history.history['loss'], label='Train loss')\nax2.plot(mlp_history.history['val_loss'], label='Validation loss')\nax2.legend(loc='best')\nax2.set_title('MLP with LSTM encoder')\nax2.set_xlabel('Epochs')\nax2.set_ylabel('MSE')\n\nplt.show()",
      "execution_count": 31,
      "outputs": [
        {
          "output_type": "display_data",
          "data": {
            "text/plain": "<Figure size 1584x504 with 2 Axes>",
            "image/png": "[encoded data removed]"
          },
          "metadata": {
            "needs_background": "light"
          }
        }
      ]
    },
    {
      "metadata": {
        "_uuid": "b7542663bca3bc41620e33ebcbe7490c1b7a3604"
      },
      "cell_type": "markdown",
      "source": "#### Regular LSTM on train and validation."
    },
    {
      "metadata": {
        "trusted": true,
        "_uuid": "844bcb19053a3928125b7afcb7b6e59e65dbf05d",
        "_kg_hide-input": true
      },
      "cell_type": "code",
      "source": "lstm_train_pred = lstm_model.predict(X_train)\nlstm_val_pred = lstm_model.predict(X_valid)\nprint('Train rmse:', np.sqrt(mean_squared_error(Y_train, lstm_train_pred)))\nprint('Validation rmse:', np.sqrt(mean_squared_error(Y_valid, lstm_val_pred)))",
      "execution_count": 32,
      "outputs": [
        {
          "output_type": "stream",
          "text": "Train rmse: 1.2348227372757623\nValidation rmse: 1.2574571121189937\n",
          "name": "stdout"
        }
      ]
    },
    {
      "metadata": {
        "_uuid": "c06d5f66376de8d2ec863e2a47248387e71e7660"
      },
      "cell_type": "markdown",
      "source": "#### MLP with LSTM encoder on train and validation."
    },
    {
      "metadata": {
        "trusted": true,
        "_uuid": "b3c19ee0cf3d1d01a19720f260889292bea8a3cf",
        "_kg_hide-input": true
      },
      "cell_type": "code",
      "source": "mlp_train_pred2 = mlp_model.predict(X_train_encoded.values)\nmlp_val_pred2 = mlp_model.predict(X_valid_encoded.values)\nprint('Train rmse:', np.sqrt(mean_squared_error(Y_train_encoded, mlp_train_pred2)))\nprint('Validation rmse:', np.sqrt(mean_squared_error(Y_valid_encoded, mlp_val_pred2)))",
      "execution_count": 33,
      "outputs": [
        {
          "output_type": "stream",
          "text": "Train rmse: 1.0293323132264867\nValidation rmse: 1.0608571441050185\n",
          "name": "stdout"
        }
      ]
    },
    {
      "metadata": {
        "_uuid": "c78a905f90bad6b2bdeb726e36b10f524ec9d3d3"
      },
      "cell_type": "markdown",
      "source": "### Built test set\n#### Since we have two models I'll build test sets to apply on both of them."
    },
    {
      "metadata": {
        "trusted": true,
        "_uuid": "ba50f3b1f274bc118d5c1d4a3d8feef70fcc38ec"
      },
      "cell_type": "code",
      "source": "latest_records = monthly_series.drop_duplicates(subset=['shop_id', 'item_id'])\nX_test = pd.merge(test, latest_records, on=['shop_id', 'item_id'], how='left', suffixes=['', '_'])\nX_test.fillna(0, inplace=True)\nX_test.drop(['ID', 'item_id', 'shop_id'], axis=1, inplace=True)\nX_test.head()",
      "execution_count": 34,
      "outputs": [
        {
          "output_type": "execute_result",
          "execution_count": 34,
          "data": {
            "text/plain": "    0    1    2    3    4    5    6  ...    27   28   29   30   31   32   33\n0 0.00 0.00 0.00 0.00 0.00 0.00 0.00 ...  0.00 1.00 1.00 1.00 3.00 1.00 0.00\n1 0.00 0.00 0.00 0.00 0.00 0.00 0.00 ...  0.00 0.00 0.00 0.00 0.00 0.00 0.00\n2 0.00 0.00 0.00 0.00 0.00 0.00 0.00 ...  0.00 3.00 2.00 0.00 1.00 3.00 1.00\n3 0.00 0.00 0.00 0.00 0.00 0.00 0.00 ...  0.00 0.00 0.00 0.00 1.00 0.00 0.00\n4 0.00 0.00 0.00 0.00 0.00 0.00 0.00 ...  0.00 0.00 0.00 0.00 0.00 0.00 0.00\n\n[5 rows x 34 columns]",
            "text/html": "<div>\n<style scoped>\n    .dataframe tbody tr th:only-of-type {\n        vertical-align: middle;\n    }\n\n    .dataframe tbody tr th {\n        vertical-align: top;\n    }\n\n    .dataframe thead th {\n        text-align: right;\n    }\n</style>\n<table border=\"1\" class=\"dataframe\">\n  <thead>\n    <tr style=\"text-align: right;\">\n      <th></th>\n      <th>0</th>\n      <th>1</th>\n      <th>2</th>\n      <th>3</th>\n      <th>4</th>\n      <th>5</th>\n      <th>6</th>\n      <th>7</th>\n      <th>8</th>\n      <th>9</th>\n      <th>10</th>\n      <th>11</th>\n      <th>12</th>\n      <th>13</th>\n      <th>14</th>\n      <th>15</th>\n      <th>16</th>\n      <th>17</th>\n      <th>18</th>\n      <th>19</th>\n      <th>20</th>\n      <th>21</th>\n      <th>22</th>\n      <th>23</th>\n      <th>24</th>\n      <th>25</th>\n      <th>26</th>\n      <th>27</th>\n      <th>28</th>\n      <th>29</th>\n      <th>30</th>\n      <th>31</th>\n      <th>32</th>\n      <th>33</th>\n    </tr>\n  </thead>\n  <tbody>\n    <tr>\n      <th>0</th>\n      <td>0.00</td>\n      <td>0.00</td>\n      <td>0.00</td>\n      <td>0.00</td>\n      <td>0.00</td>\n      <td>0.00</td>\n      <td>0.00</td>\n      <td>0.00</td>\n      <td>0.00</td>\n      <td>0.00</td>\n      <td>0.00</td>\n      <td>0.00</td>\n      <td>0.00</td>\n      <td>0.00</td>\n      <td>0.00</td>\n      <td>0.00</td>\n      <td>0.00</td>\n      <td>0.00</td>\n      <td>0.00</td>\n      <td>0.00</td>\n      <td>1.00</td>\n      <td>0.00</td>\n      <td>1.00</td>\n      <td>2.00</td>\n      <td>2.00</td>\n      <td>0.00</td>\n      <td>0.00</td>\n      <td>0.00</td>\n      <td>1.00</td>\n      <td>1.00</td>\n      <td>1.00</td>\n      <td>3.00</td>\n      <td>1.00</td>\n      <td>0.00</td>\n    </tr>\n    <tr>\n      <th>1</th>\n      <td>0.00</td>\n      <td>0.00</td>\n      <td>0.00</td>\n      <td>0.00</td>\n      <td>0.00</td>\n      <td>0.00</td>\n      <td>0.00</td>\n      <td>0.00</td>\n      <td>0.00</td>\n      <td>0.00</td>\n      <td>0.00</td>\n      <td>0.00</td>\n      <td>0.00</td>\n      <td>0.00</td>\n      <td>0.00</td>\n      <td>0.00</td>\n      <td>0.00</td>\n      <td>0.00</td>\n      <td>0.00</td>\n      <td>0.00</td>\n      <td>0.00</td>\n      <td>0.00</td>\n      <td>0.00</td>\n      <td>0.00</td>\n      <td>0.00</td>\n      <td>0.00</td>\n      <td>0.00</td>\n      <td>0.00</td>\n      <td>0.00</td>\n      <td>0.00</td>\n      <td>0.00</td>\n      <td>0.00</td>\n      <td>0.00</td>\n      <td>0.00</td>\n    </tr>\n    <tr>\n      <th>2</th>\n      <td>0.00</td>\n      <td>0.00</td>\n      <td>0.00</td>\n      <td>0.00</td>\n      <td>0.00</td>\n      <td>0.00</td>\n      <td>0.00</td>\n      <td>0.00</td>\n      <td>0.00</td>\n      <td>0.00</td>\n      <td>0.00</td>\n      <td>0.00</td>\n      <td>0.00</td>\n      <td>0.00</td>\n      <td>0.00</td>\n      <td>0.00</td>\n      <td>0.00</td>\n      <td>0.00</td>\n      <td>0.00</td>\n      <td>0.00</td>\n      <td>0.00</td>\n      <td>0.00</td>\n      <td>0.00</td>\n      <td>0.00</td>\n      <td>0.00</td>\n      <td>0.00</td>\n      <td>0.00</td>\n      <td>0.00</td>\n      <td>3.00</td>\n      <td>2.00</td>\n      <td>0.00</td>\n      <td>1.00</td>\n      <td>3.00</td>\n      <td>1.00</td>\n    </tr>\n    <tr>\n      <th>3</th>\n      <td>0.00</td>\n      <td>0.00</td>\n      <td>0.00</td>\n      <td>0.00</td>\n      <td>0.00</td>\n      <td>0.00</td>\n      <td>0.00</td>\n      <td>0.00</td>\n      <td>0.00</td>\n      <td>0.00</td>\n      <td>0.00</td>\n      <td>0.00</td>\n      <td>0.00</td>\n      <td>0.00</td>\n      <td>0.00</td>\n      <td>0.00</td>\n      <td>0.00</td>\n      <td>0.00</td>\n      <td>0.00</td>\n      <td>0.00</td>\n      <td>0.00</td>\n      <td>0.00</td>\n      <td>0.00</td>\n      <td>0.00</td>\n      <td>0.00</td>\n      <td>0.00</td>\n      <td>0.00</td>\n      <td>0.00</td>\n      <td>0.00</td>\n      <td>0.00</td>\n      <td>0.00</td>\n      <td>1.00</td>\n      <td>0.00</td>\n      <td>0.00</td>\n    </tr>\n    <tr>\n      <th>4</th>\n      <td>0.00</td>\n      <td>0.00</td>\n      <td>0.00</td>\n      <td>0.00</td>\n      <td>0.00</td>\n      <td>0.00</td>\n      <td>0.00</td>\n      <td>0.00</td>\n      <td>0.00</td>\n      <td>0.00</td>\n      <td>0.00</td>\n      <td>0.00</td>\n      <td>0.00</td>\n      <td>0.00</td>\n      <td>0.00</td>\n      <td>0.00</td>\n      <td>0.00</td>\n      <td>0.00</td>\n      <td>0.00</td>\n      <td>0.00</td>\n      <td>0.00</td>\n      <td>0.00</td>\n      <td>0.00</td>\n      <td>0.00</td>\n      <td>0.00</td>\n      <td>0.00</td>\n      <td>0.00</td>\n      <td>0.00</td>\n      <td>0.00</td>\n      <td>0.00</td>\n      <td>0.00</td>\n      <td>0.00</td>\n      <td>0.00</td>\n      <td>0.00</td>\n    </tr>\n  </tbody>\n</table>\n</div>"
          },
          "metadata": {}
        }
      ]
    },
    {
      "metadata": {
        "_uuid": "88dac07663f364c3bde17f5fd27d3e313f5af28c"
      },
      "cell_type": "markdown",
      "source": "### Regular LSTM model test predictions\n* For the regular LSTM model we just need the last 12 months, because that's our series input size."
    },
    {
      "metadata": {
        "trusted": true,
        "_uuid": "c1619071697c4ac3be9c795522792657681fc809",
        "_kg_hide-input": true
      },
      "cell_type": "code",
      "source": "X_test = X_test[[(i + (34 - serie_size)) for i in range(serie_size)]]\nX_test.head()",
      "execution_count": 35,
      "outputs": [
        {
          "output_type": "execute_result",
          "execution_count": 35,
          "data": {
            "text/plain": "    22   23   24   25   26   27   28   29   30   31   32   33\n0 1.00 2.00 2.00 0.00 0.00 0.00 1.00 1.00 1.00 3.00 1.00 0.00\n1 0.00 0.00 0.00 0.00 0.00 0.00 0.00 0.00 0.00 0.00 0.00 0.00\n2 0.00 0.00 0.00 0.00 0.00 0.00 3.00 2.00 0.00 1.00 3.00 1.00\n3 0.00 0.00 0.00 0.00 0.00 0.00 0.00 0.00 0.00 1.00 0.00 0.00\n4 0.00 0.00 0.00 0.00 0.00 0.00 0.00 0.00 0.00 0.00 0.00 0.00",
            "text/html": "<div>\n<style scoped>\n    .dataframe tbody tr th:only-of-type {\n        vertical-align: middle;\n    }\n\n    .dataframe tbody tr th {\n        vertical-align: top;\n    }\n\n    .dataframe thead th {\n        text-align: right;\n    }\n</style>\n<table border=\"1\" class=\"dataframe\">\n  <thead>\n    <tr style=\"text-align: right;\">\n      <th></th>\n      <th>22</th>\n      <th>23</th>\n      <th>24</th>\n      <th>25</th>\n      <th>26</th>\n      <th>27</th>\n      <th>28</th>\n      <th>29</th>\n      <th>30</th>\n      <th>31</th>\n      <th>32</th>\n      <th>33</th>\n    </tr>\n  </thead>\n  <tbody>\n    <tr>\n      <th>0</th>\n      <td>1.00</td>\n      <td>2.00</td>\n      <td>2.00</td>\n      <td>0.00</td>\n      <td>0.00</td>\n      <td>0.00</td>\n      <td>1.00</td>\n      <td>1.00</td>\n      <td>1.00</td>\n      <td>3.00</td>\n      <td>1.00</td>\n      <td>0.00</td>\n    </tr>\n    <tr>\n      <th>1</th>\n      <td>0.00</td>\n      <td>0.00</td>\n      <td>0.00</td>\n      <td>0.00</td>\n      <td>0.00</td>\n      <td>0.00</td>\n      <td>0.00</td>\n      <td>0.00</td>\n      <td>0.00</td>\n      <td>0.00</td>\n      <td>0.00</td>\n      <td>0.00</td>\n    </tr>\n    <tr>\n      <th>2</th>\n      <td>0.00</td>\n      <td>0.00</td>\n      <td>0.00</td>\n      <td>0.00</td>\n      <td>0.00</td>\n      <td>0.00</td>\n      <td>3.00</td>\n      <td>2.00</td>\n      <td>0.00</td>\n      <td>1.00</td>\n      <td>3.00</td>\n      <td>1.00</td>\n    </tr>\n    <tr>\n      <th>3</th>\n      <td>0.00</td>\n      <td>0.00</td>\n      <td>0.00</td>\n      <td>0.00</td>\n      <td>0.00</td>\n      <td>0.00</td>\n      <td>0.00</td>\n      <td>0.00</td>\n      <td>0.00</td>\n      <td>1.00</td>\n      <td>0.00</td>\n      <td>0.00</td>\n    </tr>\n    <tr>\n      <th>4</th>\n      <td>0.00</td>\n      <td>0.00</td>\n      <td>0.00</td>\n      <td>0.00</td>\n      <td>0.00</td>\n      <td>0.00</td>\n      <td>0.00</td>\n      <td>0.00</td>\n      <td>0.00</td>\n      <td>0.00</td>\n      <td>0.00</td>\n      <td>0.00</td>\n    </tr>\n  </tbody>\n</table>\n</div>"
          },
          "metadata": {}
        }
      ]
    },
    {
      "metadata": {
        "_uuid": "1b2ab6556c84ccfaaef9a05621d732bdad197989"
      },
      "cell_type": "markdown",
      "source": "### Reshape data.\n* Time-series shape **(data points, time-steps, features)**."
    },
    {
      "metadata": {
        "trusted": true,
        "_uuid": "59de0ac820298b0e319e57ec22df5ec46641278b",
        "_kg_hide-input": true
      },
      "cell_type": "code",
      "source": "X_test_reshaped = X_test.values.reshape((X_test.shape[0], X_test.shape[1], 1))\nprint(X_test_reshaped.shape)",
      "execution_count": 36,
      "outputs": [
        {
          "output_type": "stream",
          "text": "(214200, 12, 1)\n",
          "name": "stdout"
        }
      ]
    },
    {
      "metadata": {
        "_uuid": "f42e9b8c07aa26e1454f35f7f16e8e7e5354e730"
      },
      "cell_type": "markdown",
      "source": "#### Making predictions."
    },
    {
      "metadata": {
        "trusted": true,
        "_uuid": "a5795c5aca18cc9072523d0df3d3a5611896b24d"
      },
      "cell_type": "code",
      "source": "lstm_test_pred = lstm_model.predict(X_test_reshaped)",
      "execution_count": 37,
      "outputs": []
    },
    {
      "metadata": {
        "_uuid": "653b086d81c24a063b20be97736b71a0fc9506d7"
      },
      "cell_type": "markdown",
      "source": " ### MLP with LSTM encoded feature test predictions\n* For the MLP model with the encoded features I'm only using the current month \"item_count\" and the encoded time-series feature from our LSTM encoder model.\n\n#### Encoding the time-series"
    },
    {
      "metadata": {
        "trusted": true,
        "_uuid": "4c32f05942dce7e896bf86048c05f603fb328c60"
      },
      "cell_type": "code",
      "source": "test_encoded = encoder.predict(X_test_reshaped)",
      "execution_count": 38,
      "outputs": []
    },
    {
      "metadata": {
        "_uuid": "78f5d2986f66d91e91ca9848c1cefd9b13a4ba3e"
      },
      "cell_type": "markdown",
      "source": "#### Add encoded features to the test set."
    },
    {
      "metadata": {
        "trusted": true,
        "_uuid": "88a028777a14411cc9e3de789d28621a30408f0e"
      },
      "cell_type": "code",
      "source": "X_test['encoded'] = test_encoded\nX_test.head()",
      "execution_count": 39,
      "outputs": [
        {
          "output_type": "execute_result",
          "execution_count": 39,
          "data": {
            "text/plain": "    22   23   24   25   26   27   28   29   30   31   32   33  encoded\n0 1.00 2.00 2.00 0.00 0.00 0.00 1.00 1.00 1.00 3.00 1.00 0.00     0.63\n1 0.00 0.00 0.00 0.00 0.00 0.00 0.00 0.00 0.00 0.00 0.00 0.00     0.06\n2 0.00 0.00 0.00 0.00 0.00 0.00 3.00 2.00 0.00 1.00 3.00 1.00     0.66\n3 0.00 0.00 0.00 0.00 0.00 0.00 0.00 0.00 0.00 1.00 0.00 0.00     0.14\n4 0.00 0.00 0.00 0.00 0.00 0.00 0.00 0.00 0.00 0.00 0.00 0.00     0.06",
            "text/html": "<div>\n<style scoped>\n    .dataframe tbody tr th:only-of-type {\n        vertical-align: middle;\n    }\n\n    .dataframe tbody tr th {\n        vertical-align: top;\n    }\n\n    .dataframe thead th {\n        text-align: right;\n    }\n</style>\n<table border=\"1\" class=\"dataframe\">\n  <thead>\n    <tr style=\"text-align: right;\">\n      <th></th>\n      <th>22</th>\n      <th>23</th>\n      <th>24</th>\n      <th>25</th>\n      <th>26</th>\n      <th>27</th>\n      <th>28</th>\n      <th>29</th>\n      <th>30</th>\n      <th>31</th>\n      <th>32</th>\n      <th>33</th>\n      <th>encoded</th>\n    </tr>\n  </thead>\n  <tbody>\n    <tr>\n      <th>0</th>\n      <td>1.00</td>\n      <td>2.00</td>\n      <td>2.00</td>\n      <td>0.00</td>\n      <td>0.00</td>\n      <td>0.00</td>\n      <td>1.00</td>\n      <td>1.00</td>\n      <td>1.00</td>\n      <td>3.00</td>\n      <td>1.00</td>\n      <td>0.00</td>\n      <td>0.63</td>\n    </tr>\n    <tr>\n      <th>1</th>\n      <td>0.00</td>\n      <td>0.00</td>\n      <td>0.00</td>\n      <td>0.00</td>\n      <td>0.00</td>\n      <td>0.00</td>\n      <td>0.00</td>\n      <td>0.00</td>\n      <td>0.00</td>\n      <td>0.00</td>\n      <td>0.00</td>\n      <td>0.00</td>\n      <td>0.06</td>\n    </tr>\n    <tr>\n      <th>2</th>\n      <td>0.00</td>\n      <td>0.00</td>\n      <td>0.00</td>\n      <td>0.00</td>\n      <td>0.00</td>\n      <td>0.00</td>\n      <td>3.00</td>\n      <td>2.00</td>\n      <td>0.00</td>\n      <td>1.00</td>\n      <td>3.00</td>\n      <td>1.00</td>\n      <td>0.66</td>\n    </tr>\n    <tr>\n      <th>3</th>\n      <td>0.00</td>\n      <td>0.00</td>\n      <td>0.00</td>\n      <td>0.00</td>\n      <td>0.00</td>\n      <td>0.00</td>\n      <td>0.00</td>\n      <td>0.00</td>\n      <td>0.00</td>\n      <td>1.00</td>\n      <td>0.00</td>\n      <td>0.00</td>\n      <td>0.14</td>\n    </tr>\n    <tr>\n      <th>4</th>\n      <td>0.00</td>\n      <td>0.00</td>\n      <td>0.00</td>\n      <td>0.00</td>\n      <td>0.00</td>\n      <td>0.00</td>\n      <td>0.00</td>\n      <td>0.00</td>\n      <td>0.00</td>\n      <td>0.00</td>\n      <td>0.00</td>\n      <td>0.00</td>\n      <td>0.06</td>\n    </tr>\n  </tbody>\n</table>\n</div>"
          },
          "metadata": {}
        }
      ]
    },
    {
      "metadata": {
        "trusted": true,
        "_uuid": "43f908c12553d5492978e93f59c95b73268fa798"
      },
      "cell_type": "code",
      "source": "X_test_encoded = X_test[[33, 'encoded']]\nprint(\"Train set\", X_test_encoded.shape)\nX_test_encoded.head()",
      "execution_count": 40,
      "outputs": [
        {
          "output_type": "stream",
          "text": "Train set (214200, 2)\n",
          "name": "stdout"
        },
        {
          "output_type": "execute_result",
          "execution_count": 40,
          "data": {
            "text/plain": "    33  encoded\n0 0.00     0.63\n1 0.00     0.06\n2 1.00     0.66\n3 0.00     0.14\n4 0.00     0.06",
            "text/html": "<div>\n<style scoped>\n    .dataframe tbody tr th:only-of-type {\n        vertical-align: middle;\n    }\n\n    .dataframe tbody tr th {\n        vertical-align: top;\n    }\n\n    .dataframe thead th {\n        text-align: right;\n    }\n</style>\n<table border=\"1\" class=\"dataframe\">\n  <thead>\n    <tr style=\"text-align: right;\">\n      <th></th>\n      <th>33</th>\n      <th>encoded</th>\n    </tr>\n  </thead>\n  <tbody>\n    <tr>\n      <th>0</th>\n      <td>0.00</td>\n      <td>0.63</td>\n    </tr>\n    <tr>\n      <th>1</th>\n      <td>0.00</td>\n      <td>0.06</td>\n    </tr>\n    <tr>\n      <th>2</th>\n      <td>1.00</td>\n      <td>0.66</td>\n    </tr>\n    <tr>\n      <th>3</th>\n      <td>0.00</td>\n      <td>0.14</td>\n    </tr>\n    <tr>\n      <th>4</th>\n      <td>0.00</td>\n      <td>0.06</td>\n    </tr>\n  </tbody>\n</table>\n</div>"
          },
          "metadata": {}
        }
      ]
    },
    {
      "metadata": {
        "_uuid": "c595f7a5f954a9e15c9d3189e9b809d32ca14abf"
      },
      "cell_type": "markdown",
      "source": "#### Making predictions."
    },
    {
      "metadata": {
        "trusted": true,
        "_uuid": "8596bb8b6f8905fdda825451d221e9b58e8d21e1"
      },
      "cell_type": "code",
      "source": "mlp_test_pred = mlp_model.predict(X_test_encoded)",
      "execution_count": 41,
      "outputs": []
    },
    {
      "metadata": {
        "_uuid": "0e6bbd8adf786e86b3565470373851300e3d4d78"
      },
      "cell_type": "markdown",
      "source": "#### Predictions from the regular LSTM model."
    },
    {
      "metadata": {
        "trusted": true,
        "_uuid": "3bd83a7c4152f672e3ee4865da6fd61748b5f6b8",
        "_kg_hide-input": true
      },
      "cell_type": "code",
      "source": "lstm_prediction = pd.DataFrame(test['ID'], columns=['ID'])\nlstm_prediction['item_cnt_month'] = lstm_test_pred.clip(0., 20.)\nlstm_prediction.to_csv('lstm_submission.csv', index=False)\nlstm_prediction.head(10)",
      "execution_count": 42,
      "outputs": [
        {
          "output_type": "execute_result",
          "execution_count": 42,
          "data": {
            "text/plain": "   ID  item_cnt_month\n0   0            0.38\n1   1            0.38\n2   2            0.38\n3   3            0.38\n4   4            0.38\n5   5            0.38\n6   6            0.38\n7   7            0.38\n8   8            0.38\n9   9            0.38",
            "text/html": "<div>\n<style scoped>\n    .dataframe tbody tr th:only-of-type {\n        vertical-align: middle;\n    }\n\n    .dataframe tbody tr th {\n        vertical-align: top;\n    }\n\n    .dataframe thead th {\n        text-align: right;\n    }\n</style>\n<table border=\"1\" class=\"dataframe\">\n  <thead>\n    <tr style=\"text-align: right;\">\n      <th></th>\n      <th>ID</th>\n      <th>item_cnt_month</th>\n    </tr>\n  </thead>\n  <tbody>\n    <tr>\n      <th>0</th>\n      <td>0</td>\n      <td>0.38</td>\n    </tr>\n    <tr>\n      <th>1</th>\n      <td>1</td>\n      <td>0.38</td>\n    </tr>\n    <tr>\n      <th>2</th>\n      <td>2</td>\n      <td>0.38</td>\n    </tr>\n    <tr>\n      <th>3</th>\n      <td>3</td>\n      <td>0.38</td>\n    </tr>\n    <tr>\n      <th>4</th>\n      <td>4</td>\n      <td>0.38</td>\n    </tr>\n    <tr>\n      <th>5</th>\n      <td>5</td>\n      <td>0.38</td>\n    </tr>\n    <tr>\n      <th>6</th>\n      <td>6</td>\n      <td>0.38</td>\n    </tr>\n    <tr>\n      <th>7</th>\n      <td>7</td>\n      <td>0.38</td>\n    </tr>\n    <tr>\n      <th>8</th>\n      <td>8</td>\n      <td>0.38</td>\n    </tr>\n    <tr>\n      <th>9</th>\n      <td>9</td>\n      <td>0.38</td>\n    </tr>\n  </tbody>\n</table>\n</div>"
          },
          "metadata": {}
        }
      ]
    },
    {
      "metadata": {
        "_uuid": "f95a651994bacb87e78359ecd7583554342b6660"
      },
      "cell_type": "markdown",
      "source": "#### Predictions from the MLP model with LSTM encodded feature ."
    },
    {
      "metadata": {
        "trusted": true,
        "_uuid": "b28761903b6ce8fc59131dd2d57a29bf76ff1add",
        "_kg_hide-input": true
      },
      "cell_type": "code",
      "source": "mlp_prediction = pd.DataFrame(test['ID'], columns=['ID'])\nmlp_prediction['item_cnt_month'] = mlp_test_pred.clip(0., 20.)\nmlp_prediction.to_csv('mlp_submission.csv', index=False)\nmlp_prediction.head(10)",
      "execution_count": 43,
      "outputs": [
        {
          "output_type": "execute_result",
          "execution_count": 43,
          "data": {
            "text/plain": "   ID  item_cnt_month\n0   0            0.48\n1   1            0.16\n2   2            0.63\n3   3            0.17\n4   4            0.16\n5   5            0.57\n6   6            0.89\n7   7            0.35\n8   8            1.12\n9   9            0.16",
            "text/html": "<div>\n<style scoped>\n    .dataframe tbody tr th:only-of-type {\n        vertical-align: middle;\n    }\n\n    .dataframe tbody tr th {\n        vertical-align: top;\n    }\n\n    .dataframe thead th {\n        text-align: right;\n    }\n</style>\n<table border=\"1\" class=\"dataframe\">\n  <thead>\n    <tr style=\"text-align: right;\">\n      <th></th>\n      <th>ID</th>\n      <th>item_cnt_month</th>\n    </tr>\n  </thead>\n  <tbody>\n    <tr>\n      <th>0</th>\n      <td>0</td>\n      <td>0.48</td>\n    </tr>\n    <tr>\n      <th>1</th>\n      <td>1</td>\n      <td>0.16</td>\n    </tr>\n    <tr>\n      <th>2</th>\n      <td>2</td>\n      <td>0.63</td>\n    </tr>\n    <tr>\n      <th>3</th>\n      <td>3</td>\n      <td>0.17</td>\n    </tr>\n    <tr>\n      <th>4</th>\n      <td>4</td>\n      <td>0.16</td>\n    </tr>\n    <tr>\n      <th>5</th>\n      <td>5</td>\n      <td>0.57</td>\n    </tr>\n    <tr>\n      <th>6</th>\n      <td>6</td>\n      <td>0.89</td>\n    </tr>\n    <tr>\n      <th>7</th>\n      <td>7</td>\n      <td>0.35</td>\n    </tr>\n    <tr>\n      <th>8</th>\n      <td>8</td>\n      <td>1.12</td>\n    </tr>\n    <tr>\n      <th>9</th>\n      <td>9</td>\n      <td>0.16</td>\n    </tr>\n  </tbody>\n</table>\n</div>"
          },
          "metadata": {}
        }
      ]
    },
    {
      "metadata": {
        "_uuid": "c8f980a4d9abb038f83d317ea6c80ebdf127b002"
      },
      "cell_type": "markdown",
      "source": "Just a disclaimer, you absolutely can get better results on any of the used models,  I did not spent too much time tuning the models hyper parameters, as this is just for demonstration purpose, so if you want to give the code a try, you should surely tune a little more, if you get better results or any good insight about the models or architecture please let me know."
    }
  ],
  "metadata": {
    "kernelspec": {
      "display_name": "Python 3",
      "language": "python",
      "name": "python3"
    },
    "language_info": {
      "name": "python",
      "version": "3.6.6",
      "mimetype": "text/x-python",
      "codemirror_mode": {
        "name": "ipython",
        "version": 3
      },
      "pygments_lexer": "ipython3",
      "nbconvert_exporter": "python",
      "file_extension": ".py"
    }
  },
  "nbformat": 4,
  "nbformat_minor": 1
}