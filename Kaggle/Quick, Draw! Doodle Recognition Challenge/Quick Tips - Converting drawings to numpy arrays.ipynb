{
  "cells": [
    {
      "metadata": {
        "_uuid": "fbbd08adf945810e393b1ee5589a71d6a9603527"
      },
      "cell_type": "markdown",
      "source": "### Here I'll show one pretty simple way to convert the \"drawings\" into a numpy array that you can use to train your models.\n\n### Dependencies"
    },
    {
      "metadata": {
        "_uuid": "8f2839f25d086af736a60e9eeb907d3b93b6e0e5",
        "_cell_guid": "b1076dfc-b9ad-4769-8c92-a6c4dae69d19",
        "trusted": true
      },
      "cell_type": "code",
      "source": "import os\nimport ast\nimport cv2\nimport numpy as np\nimport pandas as pd\nimport matplotlib.pyplot as plt",
      "execution_count": 1,
      "outputs": []
    },
    {
      "metadata": {
        "_cell_guid": "79c7e3d0-c299-4dcb-8224-4455121ee9b0",
        "collapsed": true,
        "_uuid": "d629ff2d2480ee46fbb7e2d37f6b5fab8052498a",
        "trusted": false
      },
      "cell_type": "markdown",
      "source": "### Load data"
    },
    {
      "metadata": {
        "trusted": true,
        "_uuid": "1873f6484de7b01000a640973951b63a3c84fb53"
      },
      "cell_type": "code",
      "source": "train = pd.DataFrame()\nfor file in os.listdir('../input/train_simplified/'):\n    train = train.append(pd.read_csv('../input/train_simplified/' + file, index_col='key_id', nrows=1))",
      "execution_count": 2,
      "outputs": []
    },
    {
      "metadata": {
        "trusted": true,
        "_uuid": "6dc86fbe18e8cffbbc07a7334b44163f7152fd19"
      },
      "cell_type": "code",
      "source": "# You may choose the shape you want.\ndef drawing_to_np(drawing, shape=(64, 64)):\n    # evaluates the drawing array\n    drawing = eval(drawing)\n    fig, ax = plt.subplots()\n    # Close figure so it won't get displayed while transforming the set\n    plt.close(fig)\n    for x,y in drawing:\n        ax.plot(x, y, marker='.')\n        ax.axis('off')        \n    fig.canvas.draw()\n    # Convert images to numpy array\n    np_drawing = np.array(fig.canvas.renderer._renderer)\n    # If you want to take only one channel, you can try somethin like:\n    # np_drawing = np_drawing[:, :, 1]    \n    return cv2.resize(np_drawing, shape) # Resize array",
      "execution_count": 3,
      "outputs": []
    },
    {
      "metadata": {
        "_uuid": "842ad1bd83e753820f7cfe4600486619b3f8a775"
      },
      "cell_type": "markdown",
      "source": "### Applying the function"
    },
    {
      "metadata": {
        "trusted": true,
        "_uuid": "e51d70a7f91d3a8d4deaf2d1b3e2500ad2ba3563",
        "_kg_hide-output": true
      },
      "cell_type": "code",
      "source": "# One way you could apply the transformation to you dataset.\ntrain['drawing_np'] = train['drawing'].map(drawing_to_np)\ntrain['drawing_np2'] = train['drawing'].apply(drawing_to_np)",
      "execution_count": 4,
      "outputs": []
    },
    {
      "metadata": {
        "trusted": true,
        "_uuid": "a81aade735617c85dc34d7f005e17bed550eca5a",
        "_kg_hide-input": true
      },
      "cell_type": "code",
      "source": "train.head(10)",
      "execution_count": 5,
      "outputs": [
        {
          "output_type": "execute_result",
          "execution_count": 5,
          "data": {
            "text/plain": "                 countrycode                        ...                                                                drawing_np2\nkey_id                                              ...                                                                           \n4745881255411712          US                        ...                          [[[255, 255, 255, 0], [255, 255, 255, 0], [255...\n5546137161302016          GB                        ...                          [[[255, 255, 255, 0], [255, 255, 255, 0], [255...\n4801185506656256          BR                        ...                          [[[255, 255, 255, 0], [255, 255, 255, 0], [255...\n5223042911305728          US                        ...                          [[[255, 255, 255, 0], [255, 255, 255, 0], [255...\n4848879067463680          US                        ...                          [[[255, 255, 255, 0], [255, 255, 255, 0], [255...\n5480798142595072          US                        ...                          [[[255, 255, 255, 0], [255, 255, 255, 0], [255...\n5566648650039296          AU                        ...                          [[[255, 255, 255, 0], [255, 255, 255, 0], [255...\n6141147657273344          US                        ...                          [[[255, 255, 255, 0], [255, 255, 255, 0], [255...\n4551521905672192          IT                        ...                          [[[255, 255, 255, 0], [255, 255, 255, 0], [255...\n5140225019871232          SE                        ...                          [[[255, 255, 255, 0], [255, 255, 255, 0], [255...\n\n[10 rows x 7 columns]",
            "text/html": "<div>\n<style scoped>\n    .dataframe tbody tr th:only-of-type {\n        vertical-align: middle;\n    }\n\n    .dataframe tbody tr th {\n        vertical-align: top;\n    }\n\n    .dataframe thead th {\n        text-align: right;\n    }\n</style>\n<table border=\"1\" class=\"dataframe\">\n  <thead>\n    <tr style=\"text-align: right;\">\n      <th></th>\n      <th>countrycode</th>\n      <th>drawing</th>\n      <th>recognized</th>\n      <th>timestamp</th>\n      <th>word</th>\n      <th>drawing_np</th>\n      <th>drawing_np2</th>\n    </tr>\n    <tr>\n      <th>key_id</th>\n      <th></th>\n      <th></th>\n      <th></th>\n      <th></th>\n      <th></th>\n      <th></th>\n      <th></th>\n    </tr>\n  </thead>\n  <tbody>\n    <tr>\n      <th>4745881255411712</th>\n      <td>US</td>\n      <td>[[[92, 91, 82, 69, 64, 56, 28, 15, 6, 0, 1, 18...</td>\n      <td>True</td>\n      <td>2017-03-10 13:46:31.635970</td>\n      <td>sleeping bag</td>\n      <td>[[[255, 255, 255, 0], [255, 255, 255, 0], [255...</td>\n      <td>[[[255, 255, 255, 0], [255, 255, 255, 0], [255...</td>\n    </tr>\n    <tr>\n      <th>5546137161302016</th>\n      <td>GB</td>\n      <td>[[[28, 110, 126, 106, 59, 37, 32, 25], [168, 1...</td>\n      <td>True</td>\n      <td>2017-03-29 12:39:34.815400</td>\n      <td>house plant</td>\n      <td>[[[255, 255, 255, 0], [255, 255, 255, 0], [255...</td>\n      <td>[[[255, 255, 255, 0], [255, 255, 255, 0], [255...</td>\n    </tr>\n    <tr>\n      <th>4801185506656256</th>\n      <td>BR</td>\n      <td>[[[48, 119, 208, 222, 228, 209, 175, 80, 25, 7...</td>\n      <td>True</td>\n      <td>2017-01-26 00:40:23.964940</td>\n      <td>bathtub</td>\n      <td>[[[255, 255, 255, 0], [255, 255, 255, 0], [255...</td>\n      <td>[[[255, 255, 255, 0], [255, 255, 255, 0], [255...</td>\n    </tr>\n    <tr>\n      <th>5223042911305728</th>\n      <td>US</td>\n      <td>[[[4, 0, 2], [202, 98, 24]], [[1, 12, 10, 25, ...</td>\n      <td>True</td>\n      <td>2017-03-18 02:52:34.909590</td>\n      <td>key</td>\n      <td>[[[255, 255, 255, 0], [255, 255, 255, 0], [255...</td>\n      <td>[[[255, 255, 255, 0], [255, 255, 255, 0], [255...</td>\n    </tr>\n    <tr>\n      <th>4848879067463680</th>\n      <td>US</td>\n      <td>[[[69, 32, 19, 7, 0, 18, 55, 86, 145, 196, 209...</td>\n      <td>True</td>\n      <td>2017-03-06 15:00:27.328800</td>\n      <td>triangle</td>\n      <td>[[[255, 255, 255, 0], [255, 255, 255, 0], [255...</td>\n      <td>[[[255, 255, 255, 0], [255, 255, 255, 0], [255...</td>\n    </tr>\n    <tr>\n      <th>5480798142595072</th>\n      <td>US</td>\n      <td>[[[38, 25, 13, 4, 0, 4, 12, 25, 32, 30], [29, ...</td>\n      <td>True</td>\n      <td>2017-03-05 13:27:18.160120</td>\n      <td>grapes</td>\n      <td>[[[255, 255, 255, 0], [255, 255, 255, 0], [255...</td>\n      <td>[[[255, 255, 255, 0], [255, 255, 255, 0], [255...</td>\n    </tr>\n    <tr>\n      <th>5566648650039296</th>\n      <td>AU</td>\n      <td>[[[121, 112, 99, 86, 67, 53, 51, 57, 68, 83, 9...</td>\n      <td>True</td>\n      <td>2017-03-26 07:09:16.547070</td>\n      <td>monkey</td>\n      <td>[[[255, 255, 255, 0], [255, 255, 255, 0], [255...</td>\n      <td>[[[255, 255, 255, 0], [255, 255, 255, 0], [255...</td>\n    </tr>\n    <tr>\n      <th>6141147657273344</th>\n      <td>US</td>\n      <td>[[[7, 253, 255, 253, 250, 226, 187, 90, 1, 13,...</td>\n      <td>True</td>\n      <td>2017-01-25 16:22:32.336700</td>\n      <td>television</td>\n      <td>[[[255, 255, 255, 0], [255, 255, 255, 0], [255...</td>\n      <td>[[[255, 255, 255, 0], [255, 255, 255, 0], [255...</td>\n    </tr>\n    <tr>\n      <th>4551521905672192</th>\n      <td>IT</td>\n      <td>[[[125, 125], [197, 197]], [[7, 0, 4, 28, 104,...</td>\n      <td>True</td>\n      <td>2017-03-11 13:01:38.075500</td>\n      <td>door</td>\n      <td>[[[255, 255, 255, 0], [255, 255, 255, 0], [255...</td>\n      <td>[[[255, 255, 255, 0], [255, 255, 255, 0], [255...</td>\n    </tr>\n    <tr>\n      <th>5140225019871232</th>\n      <td>SE</td>\n      <td>[[[0, 27, 72, 98, 189, 242, 255, 255, 252, 255...</td>\n      <td>True</td>\n      <td>2017-03-09 19:45:44.356600</td>\n      <td>drill</td>\n      <td>[[[255, 255, 255, 0], [255, 255, 255, 0], [255...</td>\n      <td>[[[255, 255, 255, 0], [255, 255, 255, 0], [255...</td>\n    </tr>\n  </tbody>\n</table>\n</div>"
          },
          "metadata": {}
        }
      ]
    },
    {
      "metadata": {
        "_uuid": "eed3a9683dde045d232aa56b53d08d5fc83bb1b1"
      },
      "cell_type": "markdown",
      "source": "### Let's look at the new features.\n\nFirst the original drawing"
    },
    {
      "metadata": {
        "trusted": true,
        "_uuid": "be8ed354256a29d6f578dbf7f8cd20bdc411b271"
      },
      "cell_type": "code",
      "source": "drawings = [ast.literal_eval(pts) for pts in train['drawing'].head(1).values]\n\nplt.figure(figsize=(10, 10))\nfor i, drawing in enumerate(drawings):\n    plt.subplot(330 + (i+1))\n    for x,y in drawing:\n        plt.plot(x, y, marker='.')\n        plt.axis('off')",
      "execution_count": 6,
      "outputs": [
        {
          "output_type": "display_data",
          "data": {
            "text/plain": "<Figure size 720x720 with 1 Axes>",
            "image/png": "[encoded data removed]"
          },
          "metadata": {}
        }
      ]
    },
    {
      "metadata": {
        "_uuid": "d8fb8eeb5d2b6e7b466db123c961a116fa778d1b"
      },
      "cell_type": "markdown",
      "source": "Now the drawing with the generated with the function applied with the 1st form."
    },
    {
      "metadata": {
        "trusted": true,
        "_uuid": "2bb1298c26bfb3f3c421e500b5f8199d35e9e518"
      },
      "cell_type": "code",
      "source": "# Function to plot images.\ndef plot_image(image_array):\n    fig2 = plt.figure()\n    ax2 = fig2.add_subplot(111, frameon=False)\n    ax2.imshow(image_array)\n    plt.axis('off')\n    plt.show()\n    print('Image shape:', image_array.shape)\n\nsample_1 = train['drawing_np'].values[0]\nplot_image(sample_1)",
      "execution_count": 7,
      "outputs": [
        {
          "output_type": "display_data",
          "data": {
            "text/plain": "<Figure size 432x288 with 1 Axes>",
            "image/png": "[encoded data removed]"
          },
          "metadata": {}
        },
        {
          "output_type": "stream",
          "text": "Image shape: (64, 64, 4)\n",
          "name": "stdout"
        }
      ]
    },
    {
      "metadata": {
        "_uuid": "eb19b4bd6f6005e7cd2b8b9a23d2856e3f05983e"
      },
      "cell_type": "markdown",
      "source": "Now the drawing with the generated with the function applied with the 2nd form."
    },
    {
      "metadata": {
        "trusted": true,
        "_uuid": "7622db47b12129381a02f5d97c8b72228fa66b65"
      },
      "cell_type": "code",
      "source": "sample_2 = train['drawing_np2'].values[0]\nplot_image(sample_2)",
      "execution_count": 8,
      "outputs": [
        {
          "output_type": "display_data",
          "data": {
            "text/plain": "<Figure size 432x288 with 1 Axes>",
            "image/png": "[encoded data removed]"
          },
          "metadata": {}
        },
        {
          "output_type": "stream",
          "text": "Image shape: (64, 64, 4)\n",
          "name": "stdout"
        }
      ]
    },
    {
      "metadata": {
        "_uuid": "efb8329fb578dbc8cb7e0c03ffc0d023785107f1"
      },
      "cell_type": "markdown",
      "source": "Now you can use your new features to feed your models, good luck!"
    }
  ],
  "metadata": {
    "kernelspec": {
      "display_name": "Python 3",
      "language": "python",
      "name": "python3"
    },
    "language_info": {
      "name": "python",
      "version": "3.6.6",
      "mimetype": "text/x-python",
      "codemirror_mode": {
        "name": "ipython",
        "version": 3
      },
      "pygments_lexer": "ipython3",
      "nbconvert_exporter": "python",
      "file_extension": ".py"
    }
  },
  "nbformat": 4,
  "nbformat_minor": 1
}