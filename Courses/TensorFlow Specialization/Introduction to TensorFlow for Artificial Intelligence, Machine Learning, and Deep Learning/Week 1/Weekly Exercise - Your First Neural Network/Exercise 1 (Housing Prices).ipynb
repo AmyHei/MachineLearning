{
 "cells": [
  {
   "cell_type": "markdown",
   "metadata": {
    "id": "mw2VBrBcgvGa",
    "colab_type": "text"
   },
   "source": [
    "In this exercise you'll try to build a neural network that predicts the price of a house according to a simple formula.\n",
    "\n",
    "So, imagine if house pricing was as easy as a house costs 50k + 50k per bedroom, so that a 1 bedroom house costs 100k, a 2 bedroom house costs 150k etc.\n",
    "\n",
    "How would you create a neural network that learns this relationship so that it would predict a 7 bedroom house as costing close to 400k etc.\n",
    "\n",
    "Hint: Your network might work better if you scale the house price down. You don't have to give the answer 400...it might be better to create something that predicts the number 4, and then your answer is in the 'hundreds of thousands' etc."
   ]
  },
  {
   "cell_type": "code",
   "execution_count": 0,
   "metadata": {
    "id": "yyOfxQWwtnZh",
    "colab_type": "code",
    "colab": {}
   },
   "outputs": [],
   "source": [
    "import tensorflow as tf\n",
    "import numpy as np\n",
    "from tensorflow import keras"
   ]
  },
  {
   "cell_type": "code",
   "execution_count": 2,
   "metadata": {
    "id": "-jIm07uWtpLZ",
    "colab_type": "code",
    "colab": {
     "base_uri": "https://localhost:8080/",
     "height": 139.0
    },
    "outputId": "2acf6ce7-b502-4a36-b343-7ce8aba71f95"
   },
   "outputs": [
    {
     "name": "stdout",
     "output_type": "stream",
     "text": [
      "WARNING:tensorflow:From /usr/local/lib/python3.6/dist-packages/tensorflow/python/ops/resource_variable_ops.py:435: colocate_with (from tensorflow.python.framework.ops) is deprecated and will be removed in a future version.\n",
      "Instructions for updating:\n",
      "Colocations handled automatically by placer.\n",
      "WARNING:tensorflow:From /usr/local/lib/python3.6/dist-packages/tensorflow/python/keras/utils/losses_utils.py:170: to_float (from tensorflow.python.ops.math_ops) is deprecated and will be removed in a future version.\n",
      "Instructions for updating:\n",
      "Use tf.cast instead.\n"
     ]
    }
   ],
   "source": [
    "model = tf.keras.Sequential([keras.layers.Dense(units=1, input_shape=[1])])\n",
    "model.compile(optimizer='sgd', loss='mean_squared_error')"
   ]
  },
  {
   "cell_type": "code",
   "execution_count": 0,
   "metadata": {
    "id": "rG2Vqc87tqYK",
    "colab_type": "code",
    "colab": {}
   },
   "outputs": [],
   "source": [
    "xs = np.asarray([x for x in range(10)])\n",
    "ys = np.asarray([(0.5 + (x * 0.5)) for x in xs])"
   ]
  },
  {
   "cell_type": "code",
   "execution_count": 4,
   "metadata": {
    "id": "S5XuT95Qtrsy",
    "colab_type": "code",
    "colab": {
     "base_uri": "https://localhost:8080/",
     "height": 1805.0
    },
    "outputId": "3e074750-681b-4682-e508-4d9716c55e43"
   },
   "outputs": [
    {
     "name": "stdout",
     "output_type": "stream",
     "text": [
      "WARNING:tensorflow:From /usr/local/lib/python3.6/dist-packages/tensorflow/python/ops/math_ops.py:3066: to_int32 (from tensorflow.python.ops.math_ops) is deprecated and will be removed in a future version.\n",
      "Instructions for updating:\n",
      "Use tf.cast instead.\n",
      "Epoch 1/50\n",
      "10/10 [==============================] - 0s 9ms/sample - loss: 35.1503\n",
      "Epoch 2/50\n",
      "10/10 [==============================] - 0s 204us/sample - loss: 6.1795\n",
      "Epoch 3/50\n",
      "10/10 [==============================] - 0s 300us/sample - loss: 1.1732\n",
      "Epoch 4/50\n",
      "10/10 [==============================] - 0s 142us/sample - loss: 0.3071\n",
      "Epoch 5/50\n",
      "10/10 [==============================] - 0s 171us/sample - loss: 0.1563\n",
      "Epoch 6/50\n",
      "10/10 [==============================] - 0s 123us/sample - loss: 0.1291\n",
      "Epoch 7/50\n",
      "10/10 [==============================] - 0s 164us/sample - loss: 0.1232\n",
      "Epoch 8/50\n",
      "10/10 [==============================] - 0s 236us/sample - loss: 0.1211\n",
      "Epoch 9/50\n",
      "10/10 [==============================] - 0s 256us/sample - loss: 0.1196\n",
      "Epoch 10/50\n",
      "10/10 [==============================] - 0s 223us/sample - loss: 0.1182\n",
      "Epoch 11/50\n",
      "10/10 [==============================] - 0s 151us/sample - loss: 0.1169\n",
      "Epoch 12/50\n",
      "10/10 [==============================] - 0s 200us/sample - loss: 0.1156\n",
      "Epoch 13/50\n",
      "10/10 [==============================] - 0s 194us/sample - loss: 0.1143\n",
      "Epoch 14/50\n",
      "10/10 [==============================] - 0s 252us/sample - loss: 0.1130\n",
      "Epoch 15/50\n",
      "10/10 [==============================] - 0s 307us/sample - loss: 0.1117\n",
      "Epoch 16/50\n",
      "10/10 [==============================] - 0s 279us/sample - loss: 0.1105\n",
      "Epoch 17/50\n",
      "10/10 [==============================] - 0s 264us/sample - loss: 0.1092\n",
      "Epoch 18/50\n",
      "10/10 [==============================] - 0s 234us/sample - loss: 0.1080\n",
      "Epoch 19/50\n",
      "10/10 [==============================] - 0s 337us/sample - loss: 0.1068\n",
      "Epoch 20/50\n",
      "10/10 [==============================] - 0s 175us/sample - loss: 0.1056\n",
      "Epoch 21/50\n",
      "10/10 [==============================] - 0s 241us/sample - loss: 0.1044\n",
      "Epoch 22/50\n",
      "10/10 [==============================] - 0s 202us/sample - loss: 0.1032\n",
      "Epoch 23/50\n",
      "10/10 [==============================] - 0s 172us/sample - loss: 0.1020\n",
      "Epoch 24/50\n",
      "10/10 [==============================] - 0s 344us/sample - loss: 0.1009\n",
      "Epoch 25/50\n",
      "10/10 [==============================] - 0s 182us/sample - loss: 0.0998\n",
      "Epoch 26/50\n",
      "10/10 [==============================] - 0s 230us/sample - loss: 0.0986\n",
      "Epoch 27/50\n",
      "10/10 [==============================] - 0s 296us/sample - loss: 0.0975\n",
      "Epoch 28/50\n",
      "10/10 [==============================] - 0s 324us/sample - loss: 0.0964\n",
      "Epoch 29/50\n",
      "10/10 [==============================] - 0s 431us/sample - loss: 0.0953\n",
      "Epoch 30/50\n",
      "10/10 [==============================] - 0s 308us/sample - loss: 0.0943\n",
      "Epoch 31/50\n",
      "10/10 [==============================] - 0s 377us/sample - loss: 0.0932\n",
      "Epoch 32/50\n",
      "10/10 [==============================] - 0s 142us/sample - loss: 0.0922\n",
      "Epoch 33/50\n",
      "10/10 [==============================] - 0s 199us/sample - loss: 0.0911\n",
      "Epoch 34/50\n",
      "10/10 [==============================] - 0s 212us/sample - loss: 0.0901\n",
      "Epoch 35/50\n",
      "10/10 [==============================] - 0s 216us/sample - loss: 0.0891\n",
      "Epoch 36/50\n",
      "10/10 [==============================] - 0s 197us/sample - loss: 0.0881\n",
      "Epoch 37/50\n",
      "10/10 [==============================] - 0s 207us/sample - loss: 0.0871\n",
      "Epoch 38/50\n",
      "10/10 [==============================] - 0s 296us/sample - loss: 0.0861\n",
      "Epoch 39/50\n",
      "10/10 [==============================] - 0s 167us/sample - loss: 0.0851\n",
      "Epoch 40/50\n",
      "10/10 [==============================] - 0s 177us/sample - loss: 0.0842\n",
      "Epoch 41/50\n",
      "10/10 [==============================] - 0s 203us/sample - loss: 0.0832\n",
      "Epoch 42/50\n",
      "10/10 [==============================] - 0s 143us/sample - loss: 0.0823\n",
      "Epoch 43/50\n",
      "10/10 [==============================] - 0s 149us/sample - loss: 0.0814\n",
      "Epoch 44/50\n",
      "10/10 [==============================] - 0s 116us/sample - loss: 0.0804\n",
      "Epoch 45/50\n",
      "10/10 [==============================] - 0s 131us/sample - loss: 0.0795\n",
      "Epoch 46/50\n",
      "10/10 [==============================] - 0s 166us/sample - loss: 0.0786\n",
      "Epoch 47/50\n",
      "10/10 [==============================] - 0s 164us/sample - loss: 0.0778\n",
      "Epoch 48/50\n",
      "10/10 [==============================] - 0s 152us/sample - loss: 0.0769\n",
      "Epoch 49/50\n",
      "10/10 [==============================] - 0s 168us/sample - loss: 0.0760\n",
      "Epoch 50/50\n",
      "10/10 [==============================] - 0s 138us/sample - loss: 0.0752\n"
     ]
    },
    {
     "data": {
      "text/plain": [
       "<tensorflow.python.keras.callbacks.History at 0x7fdf667bdb00>"
      ]
     },
     "execution_count": 4,
     "metadata": {
      "tags": []
     },
     "output_type": "execute_result"
    }
   ],
   "source": [
    "model.fit(xs, ys, epochs=50)"
   ]
  },
  {
   "cell_type": "code",
   "execution_count": 5,
   "metadata": {
    "id": "PUNO2E6SeURH",
    "colab_type": "code",
    "colab": {
     "base_uri": "https://localhost:8080/",
     "height": 34.0
    },
    "outputId": "72e83710-110d-4f39-dd03-0a4a95d24b5c"
   },
   "outputs": [
    {
     "name": "stdout",
     "output_type": "stream",
     "text": [
      "[[4.0589285]]\n"
     ]
    }
   ],
   "source": [
    "print(model.predict([7.0]))"
   ]
  }
 ],
 "metadata": {
  "colab": {
   "name": "Exercise 1 - House Prices - Question.ipynb",
   "version": "0.3.2",
   "provenance": []
  },
  "kernelspec": {
   "name": "python3",
   "display_name": "Python 3"
  }
 },
 "nbformat": 4,
 "nbformat_minor": 0
}