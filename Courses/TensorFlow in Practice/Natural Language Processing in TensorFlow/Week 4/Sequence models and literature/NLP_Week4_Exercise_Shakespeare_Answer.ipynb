{
  "nbformat": 4,
  "nbformat_minor": 0,
  "metadata": {
    "colab": {
      "name": "NLP_Week4_Exercise_Shakespeare_Answer.ipynb",
      "version": "0.3.2",
      "provenance": []
    },
    "kernelspec": {
      "name": "python2",
      "display_name": "Python 2"
    },
    "accelerator": "GPU"
  },
  "cells": [
    {
      "cell_type": "code",
      "metadata": {
        "id": "BOwsuGQQY9OL",
        "colab_type": "code",
        "colab": {}
      },
      "source": [
        "from tensorflow.keras.preprocessing.sequence import pad_sequences\n",
        "from tensorflow.keras.layers import Embedding, LSTM, Dense, Dropout, Bidirectional\n",
        "from tensorflow.keras.preprocessing.text import Tokenizer\n",
        "from tensorflow.keras.models import Sequential\n",
        "from tensorflow.keras.optimizers import Adam\n",
        "from tensorflow.keras import regularizers\n",
        "import tensorflow.keras.utils as ku \n",
        "import numpy as np "
      ],
      "execution_count": 0,
      "outputs": []
    },
    {
      "cell_type": "code",
      "metadata": {
        "colab_type": "code",
        "id": "PRnDnCW-Z7qv",
        "colab": {
          "base_uri": "https://localhost:8080/",
          "height": 204
        },
        "outputId": "888633f4-b88d-4f56-c6a3-cca6f61a1788"
      },
      "source": [
        "tokenizer = Tokenizer()\n",
        "!wget --no-check-certificate \\\n",
        "    https://storage.googleapis.com/laurencemoroney-blog.appspot.com/sonnets.txt \\\n",
        "    -O /tmp/sonnets.txt\n",
        "data = open('/tmp/sonnets.txt').read()\n",
        "\n",
        "corpus = data.lower().split(\"\\n\")\n",
        "\n",
        "\n",
        "tokenizer.fit_on_texts(corpus)\n",
        "total_words = len(tokenizer.word_index) + 1\n",
        "\n",
        "# create input sequences using list of tokens\n",
        "input_sequences = []\n",
        "for line in corpus:\n",
        "\ttoken_list = tokenizer.texts_to_sequences([line])[0]\n",
        "\tfor i in range(1, len(token_list)):\n",
        "\t\tn_gram_sequence = token_list[:i+1]\n",
        "\t\tinput_sequences.append(n_gram_sequence)\n",
        "\n",
        "\n",
        "# pad sequences \n",
        "max_sequence_len = max([len(x) for x in input_sequences])\n",
        "input_sequences = np.array(pad_sequences(input_sequences, maxlen=max_sequence_len, padding='pre'))\n",
        "\n",
        "# create predictors and label\n",
        "predictors, label = input_sequences[:,:-1],input_sequences[:,-1]\n",
        "\n",
        "label = ku.to_categorical(label, num_classes=total_words)"
      ],
      "execution_count": 2,
      "outputs": [
        {
          "output_type": "stream",
          "text": [
            "--2019-07-22 00:15:10--  https://storage.googleapis.com/laurencemoroney-blog.appspot.com/sonnets.txt\n",
            "Resolving storage.googleapis.com (storage.googleapis.com)... 74.125.142.128, 2607:f8b0:400e:c08::80\n",
            "Connecting to storage.googleapis.com (storage.googleapis.com)|74.125.142.128|:443... connected.\n",
            "HTTP request sent, awaiting response... 200 OK\n",
            "Length: 93578 (91K) [text/plain]\n",
            "Saving to: ‘/tmp/sonnets.txt’\n",
            "\n",
            "\r/tmp/sonnets.txt      0%[                    ]       0  --.-KB/s               \r/tmp/sonnets.txt    100%[===================>]  91.38K  --.-KB/s    in 0.001s  \n",
            "\n",
            "2019-07-22 00:15:10 (101 MB/s) - ‘/tmp/sonnets.txt’ saved [93578/93578]\n",
            "\n"
          ],
          "name": "stdout"
        }
      ]
    },
    {
      "cell_type": "code",
      "metadata": {
        "id": "w9vH8Y59ajYL",
        "colab_type": "code",
        "colab": {
          "base_uri": "https://localhost:8080/",
          "height": 666
        },
        "outputId": "19bd23e9-0cc7-4e79-9205-0d342632d264"
      },
      "source": [
        "model = Sequential()\n",
        "model.add(Embedding(total_words, 100, input_length=max_sequence_len-1))\n",
        "model.add(Bidirectional(LSTM(150, return_sequences = True)))\n",
        "model.add(Dropout(0.2))\n",
        "model.add(LSTM(100))\n",
        "model.add(Dense(total_words/2, activation='relu', kernel_regularizer=regularizers.l2(0.01)))\n",
        "model.add(Dense(total_words, activation='softmax'))\n",
        "model.compile(loss='categorical_crossentropy', optimizer='adam', metrics=['accuracy'])\n",
        "print(model.summary())\n"
      ],
      "execution_count": 3,
      "outputs": [
        {
          "output_type": "stream",
          "text": [
            "WARNING: Logging before flag parsing goes to stderr.\n",
            "W0722 00:15:12.369858 140406950029184 deprecation.py:506] From /usr/local/lib/python2.7/dist-packages/tensorflow/python/keras/initializers.py:119: calling __init__ (from tensorflow.python.ops.init_ops) with dtype is deprecated and will be removed in a future version.\n",
            "Instructions for updating:\n",
            "Call initializer instance with the dtype argument instead of passing it to the constructor\n",
            "W0722 00:15:12.400454 140406950029184 deprecation.py:506] From /usr/local/lib/python2.7/dist-packages/tensorflow/python/ops/init_ops.py:1251: calling __init__ (from tensorflow.python.ops.init_ops) with dtype is deprecated and will be removed in a future version.\n",
            "Instructions for updating:\n",
            "Call initializer instance with the dtype argument instead of passing it to the constructor\n",
            "W0722 00:15:12.407007 140406950029184 deprecation.py:506] From /usr/local/lib/python2.7/dist-packages/tensorflow/python/ops/init_ops.py:97: calling __init__ (from tensorflow.python.ops.init_ops) with dtype is deprecated and will be removed in a future version.\n",
            "Instructions for updating:\n",
            "Call initializer instance with the dtype argument instead of passing it to the constructor\n",
            "W0722 00:15:12.408432 140406950029184 deprecation.py:506] From /usr/local/lib/python2.7/dist-packages/tensorflow/python/ops/init_ops.py:97: calling __init__ (from tensorflow.python.ops.init_ops) with dtype is deprecated and will be removed in a future version.\n",
            "Instructions for updating:\n",
            "Call initializer instance with the dtype argument instead of passing it to the constructor\n",
            "W0722 00:15:12.410936 140406950029184 deprecation.py:506] From /usr/local/lib/python2.7/dist-packages/tensorflow/python/ops/init_ops.py:97: calling __init__ (from tensorflow.python.ops.init_ops) with dtype is deprecated and will be removed in a future version.\n",
            "Instructions for updating:\n",
            "Call initializer instance with the dtype argument instead of passing it to the constructor\n"
          ],
          "name": "stderr"
        },
        {
          "output_type": "stream",
          "text": [
            "Model: \"sequential\"\n",
            "_________________________________________________________________\n",
            "Layer (type)                 Output Shape              Param #   \n",
            "=================================================================\n",
            "embedding (Embedding)        (None, 10, 100)           321100    \n",
            "_________________________________________________________________\n",
            "bidirectional (Bidirectional (None, 10, 300)           301200    \n",
            "_________________________________________________________________\n",
            "dropout (Dropout)            (None, 10, 300)           0         \n",
            "_________________________________________________________________\n",
            "lstm_1 (LSTM)                (None, 100)               160400    \n",
            "_________________________________________________________________\n",
            "dense (Dense)                (None, 1605)              162105    \n",
            "_________________________________________________________________\n",
            "dense_1 (Dense)              (None, 3211)              5156866   \n",
            "=================================================================\n",
            "Total params: 6,101,671\n",
            "Trainable params: 6,101,671\n",
            "Non-trainable params: 0\n",
            "_________________________________________________________________\n",
            "None\n"
          ],
          "name": "stdout"
        }
      ]
    },
    {
      "cell_type": "code",
      "metadata": {
        "id": "AIg2f1HBxqof",
        "colab_type": "code",
        "colab": {
          "base_uri": "https://localhost:8080/",
          "height": 1000
        },
        "outputId": "d8ad56cf-6fd4-46f7-a42e-25c79d695dc2"
      },
      "source": [
        " history = model.fit(predictors, label, epochs=100, verbose=1)"
      ],
      "execution_count": 4,
      "outputs": [
        {
          "output_type": "stream",
          "text": [
            "W0722 00:15:13.362025 140406950029184 deprecation.py:323] From /usr/local/lib/python2.7/dist-packages/tensorflow/python/ops/math_grad.py:1250: where (from tensorflow.python.ops.array_ops) is deprecated and will be removed in a future version.\n",
            "Instructions for updating:\n",
            "Use tf.where in 2.0, which has the same broadcast rule as np.where\n"
          ],
          "name": "stderr"
        },
        {
          "output_type": "stream",
          "text": [
            "Epoch 1/100\n",
            "15462/15462 [==============================] - 27s 2ms/sample - loss: 6.9013 - acc: 0.0215\n",
            "Epoch 2/100\n",
            "15462/15462 [==============================] - 25s 2ms/sample - loss: 6.5052 - acc: 0.0218\n",
            "Epoch 3/100\n",
            "15462/15462 [==============================] - 25s 2ms/sample - loss: 6.3827 - acc: 0.0261\n",
            "Epoch 4/100\n",
            "15462/15462 [==============================] - 25s 2ms/sample - loss: 6.2656 - acc: 0.0279\n",
            "Epoch 5/100\n",
            "15462/15462 [==============================] - 25s 2ms/sample - loss: 6.1781 - acc: 0.0338\n",
            "Epoch 6/100\n",
            "15462/15462 [==============================] - 25s 2ms/sample - loss: 6.0963 - acc: 0.0396\n",
            "Epoch 7/100\n",
            "15462/15462 [==============================] - 25s 2ms/sample - loss: 6.0158 - acc: 0.0416\n",
            "Epoch 8/100\n",
            "15462/15462 [==============================] - 25s 2ms/sample - loss: 5.9346 - acc: 0.0430\n",
            "Epoch 9/100\n",
            "15462/15462 [==============================] - 25s 2ms/sample - loss: 5.8425 - acc: 0.0484\n",
            "Epoch 10/100\n",
            "15462/15462 [==============================] - 25s 2ms/sample - loss: 5.7434 - acc: 0.0550\n",
            "Epoch 11/100\n",
            "15462/15462 [==============================] - 25s 2ms/sample - loss: 5.6445 - acc: 0.0585\n",
            "Epoch 12/100\n",
            "15462/15462 [==============================] - 25s 2ms/sample - loss: 5.5472 - acc: 0.0639\n",
            "Epoch 13/100\n",
            "15462/15462 [==============================] - 25s 2ms/sample - loss: 5.4451 - acc: 0.0728\n",
            "Epoch 14/100\n",
            "15462/15462 [==============================] - 25s 2ms/sample - loss: 5.3441 - acc: 0.0777\n",
            "Epoch 15/100\n",
            "15462/15462 [==============================] - 25s 2ms/sample - loss: 5.2398 - acc: 0.0864\n",
            "Epoch 16/100\n",
            "15462/15462 [==============================] - 25s 2ms/sample - loss: 5.1377 - acc: 0.0919\n",
            "Epoch 17/100\n",
            "15462/15462 [==============================] - 25s 2ms/sample - loss: 5.0390 - acc: 0.1021\n",
            "Epoch 18/100\n",
            "15462/15462 [==============================] - 25s 2ms/sample - loss: 4.9400 - acc: 0.1103\n",
            "Epoch 19/100\n",
            "15462/15462 [==============================] - 25s 2ms/sample - loss: 4.8363 - acc: 0.1206\n",
            "Epoch 20/100\n",
            "15462/15462 [==============================] - 25s 2ms/sample - loss: 4.7377 - acc: 0.1276\n",
            "Epoch 21/100\n",
            "15462/15462 [==============================] - 25s 2ms/sample - loss: 4.6423 - acc: 0.1385\n",
            "Epoch 22/100\n",
            "15462/15462 [==============================] - 25s 2ms/sample - loss: 4.5367 - acc: 0.1473\n",
            "Epoch 23/100\n",
            "15462/15462 [==============================] - 24s 2ms/sample - loss: 4.4308 - acc: 0.1630\n",
            "Epoch 24/100\n",
            "15462/15462 [==============================] - 25s 2ms/sample - loss: 4.3284 - acc: 0.1728\n",
            "Epoch 25/100\n",
            "15462/15462 [==============================] - 25s 2ms/sample - loss: 4.2239 - acc: 0.1870\n",
            "Epoch 26/100\n",
            "15462/15462 [==============================] - 25s 2ms/sample - loss: 4.1204 - acc: 0.2022\n",
            "Epoch 27/100\n",
            "15462/15462 [==============================] - 25s 2ms/sample - loss: 4.0272 - acc: 0.2105\n",
            "Epoch 28/100\n",
            "15462/15462 [==============================] - 25s 2ms/sample - loss: 3.9185 - acc: 0.2279\n",
            "Epoch 29/100\n",
            "15462/15462 [==============================] - 24s 2ms/sample - loss: 3.8176 - acc: 0.2419\n",
            "Epoch 30/100\n",
            "15462/15462 [==============================] - 24s 2ms/sample - loss: 3.7135 - acc: 0.2579\n",
            "Epoch 31/100\n",
            "15462/15462 [==============================] - 25s 2ms/sample - loss: 3.6222 - acc: 0.2763\n",
            "Epoch 32/100\n",
            "15462/15462 [==============================] - 25s 2ms/sample - loss: 3.5330 - acc: 0.2956\n",
            "Epoch 33/100\n",
            "15462/15462 [==============================] - 25s 2ms/sample - loss: 3.4387 - acc: 0.3116\n",
            "Epoch 34/100\n",
            "15462/15462 [==============================] - 25s 2ms/sample - loss: 3.3555 - acc: 0.3341\n",
            "Epoch 35/100\n",
            "15462/15462 [==============================] - 25s 2ms/sample - loss: 3.2705 - acc: 0.3549\n",
            "Epoch 36/100\n",
            "15462/15462 [==============================] - 25s 2ms/sample - loss: 3.1813 - acc: 0.3691\n",
            "Epoch 37/100\n",
            "15462/15462 [==============================] - 25s 2ms/sample - loss: 3.1076 - acc: 0.3911\n",
            "Epoch 38/100\n",
            "15462/15462 [==============================] - 25s 2ms/sample - loss: 3.0346 - acc: 0.4053\n",
            "Epoch 39/100\n",
            "15462/15462 [==============================] - 25s 2ms/sample - loss: 2.9560 - acc: 0.4181\n",
            "Epoch 40/100\n",
            "15462/15462 [==============================] - 25s 2ms/sample - loss: 2.8829 - acc: 0.4338\n",
            "Epoch 41/100\n",
            "15462/15462 [==============================] - 25s 2ms/sample - loss: 2.8135 - acc: 0.4542\n",
            "Epoch 42/100\n",
            "15462/15462 [==============================] - 25s 2ms/sample - loss: 2.7512 - acc: 0.4661\n",
            "Epoch 43/100\n",
            "15462/15462 [==============================] - 25s 2ms/sample - loss: 2.6918 - acc: 0.4829\n",
            "Epoch 44/100\n",
            "15462/15462 [==============================] - 25s 2ms/sample - loss: 2.6308 - acc: 0.4997\n",
            "Epoch 45/100\n",
            "15462/15462 [==============================] - 25s 2ms/sample - loss: 2.5622 - acc: 0.5140\n",
            "Epoch 46/100\n",
            "15462/15462 [==============================] - 25s 2ms/sample - loss: 2.5100 - acc: 0.5254\n",
            "Epoch 47/100\n",
            "15462/15462 [==============================] - 25s 2ms/sample - loss: 2.4536 - acc: 0.5360\n",
            "Epoch 48/100\n",
            "15462/15462 [==============================] - 25s 2ms/sample - loss: 2.4043 - acc: 0.5483\n",
            "Epoch 49/100\n",
            "15462/15462 [==============================] - 25s 2ms/sample - loss: 2.3591 - acc: 0.5607\n",
            "Epoch 50/100\n",
            "15462/15462 [==============================] - 25s 2ms/sample - loss: 2.3162 - acc: 0.5708\n",
            "Epoch 51/100\n",
            "15462/15462 [==============================] - 25s 2ms/sample - loss: 2.2617 - acc: 0.5808\n",
            "Epoch 52/100\n",
            "15462/15462 [==============================] - 25s 2ms/sample - loss: 2.2068 - acc: 0.5904\n",
            "Epoch 53/100\n",
            "15462/15462 [==============================] - 25s 2ms/sample - loss: 2.1665 - acc: 0.6035\n",
            "Epoch 54/100\n",
            "15462/15462 [==============================] - 25s 2ms/sample - loss: 2.1208 - acc: 0.6112\n",
            "Epoch 55/100\n",
            "15462/15462 [==============================] - 25s 2ms/sample - loss: 2.0967 - acc: 0.6125\n",
            "Epoch 56/100\n",
            "15462/15462 [==============================] - 25s 2ms/sample - loss: 2.0390 - acc: 0.6275\n",
            "Epoch 57/100\n",
            "15462/15462 [==============================] - 25s 2ms/sample - loss: 1.9913 - acc: 0.6431\n",
            "Epoch 58/100\n",
            "15462/15462 [==============================] - 25s 2ms/sample - loss: 1.9855 - acc: 0.6423\n",
            "Epoch 59/100\n",
            "15462/15462 [==============================] - 25s 2ms/sample - loss: 1.9466 - acc: 0.6496\n",
            "Epoch 60/100\n",
            "15462/15462 [==============================] - 25s 2ms/sample - loss: 1.8964 - acc: 0.6574\n",
            "Epoch 61/100\n",
            "15462/15462 [==============================] - 25s 2ms/sample - loss: 1.8683 - acc: 0.6649\n",
            "Epoch 62/100\n",
            "15462/15462 [==============================] - 25s 2ms/sample - loss: 1.8336 - acc: 0.6763\n",
            "Epoch 63/100\n",
            "15462/15462 [==============================] - 25s 2ms/sample - loss: 1.7970 - acc: 0.6780\n",
            "Epoch 64/100\n",
            "15462/15462 [==============================] - 25s 2ms/sample - loss: 1.7728 - acc: 0.6856\n",
            "Epoch 65/100\n",
            "15462/15462 [==============================] - 25s 2ms/sample - loss: 1.7393 - acc: 0.6883\n",
            "Epoch 66/100\n",
            "15462/15462 [==============================] - 25s 2ms/sample - loss: 1.7020 - acc: 0.7029\n",
            "Epoch 67/100\n",
            "15462/15462 [==============================] - 25s 2ms/sample - loss: 1.6853 - acc: 0.7046\n",
            "Epoch 68/100\n",
            "15462/15462 [==============================] - 25s 2ms/sample - loss: 1.6713 - acc: 0.7040\n",
            "Epoch 69/100\n",
            "15462/15462 [==============================] - 25s 2ms/sample - loss: 1.6294 - acc: 0.7145\n",
            "Epoch 70/100\n",
            "15462/15462 [==============================] - 25s 2ms/sample - loss: 1.5966 - acc: 0.7240\n",
            "Epoch 71/100\n",
            "15462/15462 [==============================] - 25s 2ms/sample - loss: 1.5897 - acc: 0.7191\n",
            "Epoch 72/100\n",
            "15462/15462 [==============================] - 25s 2ms/sample - loss: 1.5502 - acc: 0.7278\n",
            "Epoch 73/100\n",
            "15462/15462 [==============================] - 25s 2ms/sample - loss: 1.5256 - acc: 0.7325\n",
            "Epoch 74/100\n",
            "15462/15462 [==============================] - 25s 2ms/sample - loss: 1.5115 - acc: 0.7370\n",
            "Epoch 75/100\n",
            "15462/15462 [==============================] - 25s 2ms/sample - loss: 1.4992 - acc: 0.7414\n",
            "Epoch 76/100\n",
            "15462/15462 [==============================] - 25s 2ms/sample - loss: 1.4813 - acc: 0.7429\n",
            "Epoch 77/100\n",
            "15462/15462 [==============================] - 25s 2ms/sample - loss: 1.4606 - acc: 0.7469\n",
            "Epoch 78/100\n",
            "15462/15462 [==============================] - 25s 2ms/sample - loss: 1.4451 - acc: 0.7488\n",
            "Epoch 79/100\n",
            "15462/15462 [==============================] - 25s 2ms/sample - loss: 1.4150 - acc: 0.7558\n",
            "Epoch 80/100\n",
            "15462/15462 [==============================] - 25s 2ms/sample - loss: 1.3877 - acc: 0.7614\n",
            "Epoch 81/100\n",
            "15462/15462 [==============================] - 25s 2ms/sample - loss: 1.3904 - acc: 0.7590\n",
            "Epoch 82/100\n",
            "15462/15462 [==============================] - 25s 2ms/sample - loss: 1.3700 - acc: 0.7628\n",
            "Epoch 83/100\n",
            "15462/15462 [==============================] - 25s 2ms/sample - loss: 1.3626 - acc: 0.7634\n",
            "Epoch 84/100\n",
            "15462/15462 [==============================] - 25s 2ms/sample - loss: 1.3290 - acc: 0.7734\n",
            "Epoch 85/100\n",
            "15462/15462 [==============================] - 25s 2ms/sample - loss: 1.3261 - acc: 0.7716\n",
            "Epoch 86/100\n",
            "15462/15462 [==============================] - 25s 2ms/sample - loss: 1.3151 - acc: 0.7714\n",
            "Epoch 87/100\n",
            "15462/15462 [==============================] - 25s 2ms/sample - loss: 1.2975 - acc: 0.7745\n",
            "Epoch 88/100\n",
            "15462/15462 [==============================] - 25s 2ms/sample - loss: 1.2787 - acc: 0.7758\n",
            "Epoch 89/100\n",
            "15462/15462 [==============================] - 25s 2ms/sample - loss: 1.2640 - acc: 0.7833\n",
            "Epoch 90/100\n",
            "15462/15462 [==============================] - 25s 2ms/sample - loss: 1.2547 - acc: 0.7830\n",
            "Epoch 91/100\n",
            "15462/15462 [==============================] - 25s 2ms/sample - loss: 1.2569 - acc: 0.7793\n",
            "Epoch 92/100\n",
            "15462/15462 [==============================] - 25s 2ms/sample - loss: 1.2214 - acc: 0.7870\n",
            "Epoch 93/100\n",
            "15462/15462 [==============================] - 25s 2ms/sample - loss: 1.2098 - acc: 0.7901\n",
            "Epoch 94/100\n",
            "15462/15462 [==============================] - 25s 2ms/sample - loss: 1.1970 - acc: 0.7917\n",
            "Epoch 95/100\n",
            "15462/15462 [==============================] - 25s 2ms/sample - loss: 1.1964 - acc: 0.7916\n",
            "Epoch 96/100\n",
            "15462/15462 [==============================] - 25s 2ms/sample - loss: 1.1853 - acc: 0.7932\n",
            "Epoch 97/100\n",
            "15462/15462 [==============================] - 25s 2ms/sample - loss: 1.1704 - acc: 0.7959\n",
            "Epoch 98/100\n",
            "15462/15462 [==============================] - 25s 2ms/sample - loss: 1.1680 - acc: 0.7968\n",
            "Epoch 99/100\n",
            "15462/15462 [==============================] - 25s 2ms/sample - loss: 1.1474 - acc: 0.8014\n",
            "Epoch 100/100\n",
            "15462/15462 [==============================] - 25s 2ms/sample - loss: 1.1435 - acc: 0.7995\n"
          ],
          "name": "stdout"
        }
      ]
    },
    {
      "cell_type": "code",
      "metadata": {
        "id": "1fXTEO3GJ282",
        "colab_type": "code",
        "colab": {
          "base_uri": "https://localhost:8080/",
          "height": 545
        },
        "outputId": "fe0eeea5-aac1-40f5-c0fb-415e468f3581"
      },
      "source": [
        "import matplotlib.pyplot as plt\n",
        "acc = history.history['acc']\n",
        "loss = history.history['loss']\n",
        "\n",
        "epochs = range(len(acc))\n",
        "\n",
        "plt.plot(epochs, acc, 'b', label='Training accuracy')\n",
        "plt.title('Training accuracy')\n",
        "\n",
        "plt.figure()\n",
        "\n",
        "plt.plot(epochs, loss, 'b', label='Training Loss')\n",
        "plt.title('Training loss')\n",
        "plt.legend()\n",
        "\n",
        "plt.show()"
      ],
      "execution_count": 5,
      "outputs": [
        {
          "output_type": "display_data",
          "data": {
            "image/png": "[encoded data removed]",
            "text/plain": [
              "<Figure size 432x288 with 1 Axes>"
            ]
          },
          "metadata": {
            "tags": []
          }
        },
        {
          "output_type": "display_data",
          "data": {
            "image/png": "[encoded data removed]",
            "text/plain": [
              "<Figure size 432x288 with 1 Axes>"
            ]
          },
          "metadata": {
            "tags": []
          }
        }
      ]
    },
    {
      "cell_type": "code",
      "metadata": {
        "id": "6Vc6PHgxa6Hm",
        "colab_type": "code",
        "colab": {
          "base_uri": "https://localhost:8080/",
          "height": 54
        },
        "outputId": "51eefda2-c6b9-452a-cace-10e5e18cf95d"
      },
      "source": [
        "seed_text = \"Help me Obi Wan Kenobi, you're my only hope\"\n",
        "next_words = 100\n",
        "  \n",
        "for _ in range(next_words):\n",
        "\ttoken_list = tokenizer.texts_to_sequences([seed_text])[0]\n",
        "\ttoken_list = pad_sequences([token_list], maxlen=max_sequence_len-1, padding='pre')\n",
        "\tpredicted = model.predict_classes(token_list, verbose=0)\n",
        "\toutput_word = \"\"\n",
        "\tfor word, index in tokenizer.word_index.items():\n",
        "\t\tif index == predicted:\n",
        "\t\t\toutput_word = word\n",
        "\t\t\tbreak\n",
        "\tseed_text += \" \" + output_word\n",
        "print(seed_text)"
      ],
      "execution_count": 6,
      "outputs": [
        {
          "output_type": "stream",
          "text": [
            "Help me Obi Wan Kenobi, you're my only hope another time his help live new ' to ye ye blind bettering skill a date spring ' with live night to give bear kings begin car warm'd bow subscribes light burn'd outworn taken open rotten wantonness rage right state back new quite happy fled lies brought in thee new worth with loss with old worth live more and rare seen her same sky slain old thing dead last in thee die now strange ride days wide tend rotten scope can ride room burn'd new near forgot can free twain level new new new new fall with things ill ill ill\n"
          ],
          "name": "stdout"
        }
      ]
    }
  ]
}