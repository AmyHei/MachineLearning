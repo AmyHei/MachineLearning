{
  "nbformat": 4,
  "nbformat_minor": 0,
  "metadata": {
    "colab": {
      "name": "NLP Course - Week 3 Exercise Answer.ipynb",
      "version": "0.3.2",
      "provenance": []
    },
    "kernelspec": {
      "name": "python3",
      "display_name": "Python 3"
    },
    "accelerator": "GPU"
  },
  "cells": [
    {
      "cell_type": "code",
      "metadata": {
        "id": "hmA6EzkQJ5jt",
        "colab_type": "code",
        "colab": {}
      },
      "source": [
        "import json\n",
        "import tensorflow as tf\n",
        "import csv\n",
        "import random\n",
        "import numpy as np\n",
        "\n",
        "from tensorflow.keras.preprocessing.text import Tokenizer\n",
        "from tensorflow.keras.preprocessing.sequence import pad_sequences\n",
        "from tensorflow.keras.utils import to_categorical\n",
        "from tensorflow.keras import regularizers\n",
        "\n",
        "\n",
        "embedding_dim = 100\n",
        "max_length = 16\n",
        "trunc_type='post'\n",
        "padding_type='post'\n",
        "oov_tok = \"<OOV>\"\n",
        "training_size=160000\n",
        "test_portion=.1\n",
        "\n",
        "corpus = []\n"
      ],
      "execution_count": 0,
      "outputs": []
    },
    {
      "cell_type": "code",
      "metadata": {
        "id": "bM0l_dORKqE0",
        "colab_type": "code",
        "outputId": "13752980-a523-4fa2-9ded-c7e6e1e0e1b1",
        "colab": {
          "base_uri": "https://localhost:8080/",
          "height": 204
        }
      },
      "source": [
        "\n",
        "# Note that I cleaned the Stanford dataset to remove LATIN1 encoding to make it easier for Python CSV reader\n",
        "# You can do that yourself with:\n",
        "# iconv -f LATIN1 -t UTF8 training.1600000.processed.noemoticon.csv -o training_cleaned.csv\n",
        "# I then hosted it on my site to make it easier to use in this notebook\n",
        "\n",
        "!wget --no-check-certificate \\\n",
        "    https://storage.googleapis.com/laurencemoroney-blog.appspot.com/training_cleaned.csv \\\n",
        "    -O /tmp/training_cleaned.csv\n",
        "\n",
        "num_sentences = 0\n",
        "\n",
        "with open(\"/tmp/training_cleaned.csv\") as csvfile:\n",
        "    reader = csv.reader(csvfile, delimiter=',')\n",
        "    for row in reader:\n",
        "        list_item=[]\n",
        "        list_item.append(row[5])\n",
        "        this_label=row[0]\n",
        "        if this_label=='0':\n",
        "            list_item.append(0)\n",
        "        else:\n",
        "            list_item.append(1)\n",
        "        num_sentences = num_sentences + 1\n",
        "        corpus.append(list_item)\n",
        "\n",
        "\n"
      ],
      "execution_count": 2,
      "outputs": [
        {
          "output_type": "stream",
          "text": [
            "--2019-07-21 23:43:58--  https://storage.googleapis.com/laurencemoroney-blog.appspot.com/training_cleaned.csv\n",
            "Resolving storage.googleapis.com (storage.googleapis.com)... 108.177.126.128, 2a00:1450:4013:c01::80\n",
            "Connecting to storage.googleapis.com (storage.googleapis.com)|108.177.126.128|:443... connected.\n",
            "HTTP request sent, awaiting response... 200 OK\n",
            "Length: 238942690 (228M) [application/octet-stream]\n",
            "Saving to: ‘/tmp/training_cleaned.csv’\n",
            "\n",
            "/tmp/training_clean 100%[===================>] 227.87M  48.4MB/s    in 4.7s    \n",
            "\n",
            "2019-07-21 23:44:08 (48.4 MB/s) - ‘/tmp/training_cleaned.csv’ saved [238942690/238942690]\n",
            "\n"
          ],
          "name": "stdout"
        }
      ]
    },
    {
      "cell_type": "code",
      "metadata": {
        "id": "3kxblBUjEUX-",
        "colab_type": "code",
        "outputId": "5762a95f-3c3a-4678-f3ba-474e2afa724c",
        "colab": {
          "base_uri": "https://localhost:8080/",
          "height": 68
        }
      },
      "source": [
        "print(num_sentences)\n",
        "print(len(corpus))\n",
        "print(corpus[1])\n",
        "\n",
        "# Expected Output:\n",
        "# 1600000\n",
        "# 1600000\n",
        "# [\"is upset that he can't update his Facebook by texting it... and might cry as a result  School today also. Blah!\", 0]"
      ],
      "execution_count": 3,
      "outputs": [
        {
          "output_type": "stream",
          "text": [
            "1600000\n",
            "1600000\n",
            "[\"is upset that he can't update his Facebook by texting it... and might cry as a result  School today also. Blah!\", 0]\n"
          ],
          "name": "stdout"
        }
      ]
    },
    {
      "cell_type": "code",
      "metadata": {
        "id": "ohOGz24lsNAD",
        "colab_type": "code",
        "colab": {}
      },
      "source": [
        "sentences=[]\n",
        "labels=[]\n",
        "random.shuffle(corpus)\n",
        "for x in range(training_size):\n",
        "    sentences.append(corpus[x][0])\n",
        "    labels.append(corpus[x][1])\n",
        "\n",
        "\n",
        "tokenizer = Tokenizer()\n",
        "tokenizer.fit_on_texts(sentences)\n",
        "\n",
        "word_index = tokenizer.word_index\n",
        "vocab_size=len(word_index)\n",
        "\n",
        "sequences = tokenizer.texts_to_sequences(sentences)\n",
        "padded = pad_sequences(sequences, maxlen=max_length, padding=padding_type, truncating=trunc_type)\n",
        "\n",
        "split = int(test_portion * training_size)\n",
        "\n",
        "test_sequences = padded[0:split]\n",
        "training_sequences = padded[split:training_size]\n",
        "test_labels = labels[0:split]\n",
        "training_labels = labels[split:training_size]"
      ],
      "execution_count": 0,
      "outputs": []
    },
    {
      "cell_type": "code",
      "metadata": {
        "id": "gIrtRem1En3N",
        "colab_type": "code",
        "outputId": "075d54f7-3a6a-40b2-e1c5-0278f1c84874",
        "colab": {
          "base_uri": "https://localhost:8080/",
          "height": 51
        }
      },
      "source": [
        "print(vocab_size)\n",
        "print(word_index['i'])\n",
        "# Expected Output\n",
        "# 138858\n",
        "# 1"
      ],
      "execution_count": 5,
      "outputs": [
        {
          "output_type": "stream",
          "text": [
            "138404\n",
            "1\n"
          ],
          "name": "stdout"
        }
      ]
    },
    {
      "cell_type": "code",
      "metadata": {
        "id": "C1zdgJkusRh0",
        "colab_type": "code",
        "outputId": "39f3543c-63ca-4e1b-a1a3-94efa779e39d",
        "colab": {
          "base_uri": "https://localhost:8080/",
          "height": 204
        }
      },
      "source": [
        "# Note this is the 100 dimension version of GloVe from Stanford\n",
        "# I unzipped and hosted it on my site to make this notebook easier\n",
        "!wget --no-check-certificate \\\n",
        "    https://storage.googleapis.com/laurencemoroney-blog.appspot.com/glove.6B.100d.txt \\\n",
        "    -O /tmp/glove.6B.100d.txt\n",
        "embeddings_index = {};\n",
        "with open('/tmp/glove.6B.100d.txt') as f:\n",
        "    for line in f:\n",
        "        values = line.split();\n",
        "        word = values[0];\n",
        "        coefs = np.asarray(values[1:], dtype='float32');\n",
        "        embeddings_index[word] = coefs;\n",
        "\n",
        "embeddings_matrix = np.zeros((vocab_size+1, embedding_dim));\n",
        "for word, i in word_index.items():\n",
        "    embedding_vector = embeddings_index.get(word);\n",
        "    if embedding_vector is not None:\n",
        "        embeddings_matrix[i] = embedding_vector;"
      ],
      "execution_count": 6,
      "outputs": [
        {
          "output_type": "stream",
          "text": [
            "--2019-07-21 23:44:25--  https://storage.googleapis.com/laurencemoroney-blog.appspot.com/glove.6B.100d.txt\n",
            "Resolving storage.googleapis.com (storage.googleapis.com)... 108.177.126.128, 2a00:1450:4013:c01::80\n",
            "Connecting to storage.googleapis.com (storage.googleapis.com)|108.177.126.128|:443... connected.\n",
            "HTTP request sent, awaiting response... 200 OK\n",
            "Length: 347116733 (331M) [text/plain]\n",
            "Saving to: ‘/tmp/glove.6B.100d.txt’\n",
            "\n",
            "/tmp/glove.6B.100d. 100%[===================>] 331.04M  61.4MB/s    in 5.4s    \n",
            "\n",
            "2019-07-21 23:44:31 (61.4 MB/s) - ‘/tmp/glove.6B.100d.txt’ saved [347116733/347116733]\n",
            "\n"
          ],
          "name": "stdout"
        }
      ]
    },
    {
      "cell_type": "code",
      "metadata": {
        "id": "71NLk_lpFLNt",
        "colab_type": "code",
        "outputId": "491d532c-3bcd-4f5d-80c8-00dc674cce9c",
        "colab": {
          "base_uri": "https://localhost:8080/",
          "height": 34
        }
      },
      "source": [
        "print(len(embeddings_matrix))\n",
        "# Expected Output\n",
        "# 138859"
      ],
      "execution_count": 7,
      "outputs": [
        {
          "output_type": "stream",
          "text": [
            "138405\n"
          ],
          "name": "stdout"
        }
      ]
    },
    {
      "cell_type": "code",
      "metadata": {
        "colab_type": "code",
        "id": "iKKvbuEBOGFz",
        "colab": {
          "base_uri": "https://localhost:8080/",
          "height": 1000
        },
        "outputId": "5df01369-6cc0-43d6-aba6-5899f62b0b4a"
      },
      "source": [
        "model = tf.keras.Sequential([\n",
        "    tf.keras.layers.Embedding(vocab_size+1, embedding_dim, input_length=max_length, weights=[embeddings_matrix], trainable=False),\n",
        "    tf.keras.layers.Dropout(0.2),\n",
        "    tf.keras.layers.Conv1D(64, 5, activation='relu'),\n",
        "    tf.keras.layers.MaxPooling1D(pool_size=4),\n",
        "    tf.keras.layers.LSTM(64),\n",
        "    tf.keras.layers.Dense(1, activation='sigmoid')\n",
        "])\n",
        "model.compile(loss='binary_crossentropy',optimizer='adam',metrics=['accuracy'])\n",
        "model.summary()\n",
        "\n",
        "num_epochs = 50\n",
        "history = model.fit(training_sequences, training_labels, epochs=num_epochs, validation_data=(test_sequences, test_labels), verbose=2)\n",
        "\n",
        "print(\"Training Complete\")\n"
      ],
      "execution_count": 8,
      "outputs": [
        {
          "output_type": "stream",
          "text": [
            "WARNING: Logging before flag parsing goes to stderr.\n",
            "W0721 23:44:41.213338 139667716290432 deprecation.py:506] From /usr/local/lib/python3.6/dist-packages/tensorflow/python/keras/initializers.py:119: calling RandomUniform.__init__ (from tensorflow.python.ops.init_ops) with dtype is deprecated and will be removed in a future version.\n",
            "Instructions for updating:\n",
            "Call initializer instance with the dtype argument instead of passing it to the constructor\n",
            "W0721 23:44:41.217038 139667716290432 deprecation.py:506] From /usr/local/lib/python3.6/dist-packages/tensorflow/python/ops/init_ops.py:1251: calling VarianceScaling.__init__ (from tensorflow.python.ops.init_ops) with dtype is deprecated and will be removed in a future version.\n",
            "Instructions for updating:\n",
            "Call initializer instance with the dtype argument instead of passing it to the constructor\n",
            "W0721 23:44:44.479472 139667716290432 deprecation.py:323] From /usr/local/lib/python3.6/dist-packages/tensorflow/python/ops/nn_impl.py:180: add_dispatch_support.<locals>.wrapper (from tensorflow.python.ops.array_ops) is deprecated and will be removed in a future version.\n",
            "Instructions for updating:\n",
            "Use tf.where in 2.0, which has the same broadcast rule as np.where\n"
          ],
          "name": "stderr"
        },
        {
          "output_type": "stream",
          "text": [
            "Model: \"sequential\"\n",
            "_________________________________________________________________\n",
            "Layer (type)                 Output Shape              Param #   \n",
            "=================================================================\n",
            "embedding (Embedding)        (None, 16, 100)           13840500  \n",
            "_________________________________________________________________\n",
            "dropout (Dropout)            (None, 16, 100)           0         \n",
            "_________________________________________________________________\n",
            "conv1d (Conv1D)              (None, 12, 64)            32064     \n",
            "_________________________________________________________________\n",
            "max_pooling1d (MaxPooling1D) (None, 3, 64)             0         \n",
            "_________________________________________________________________\n",
            "lstm (LSTM)                  (None, 64)                33024     \n",
            "_________________________________________________________________\n",
            "dense (Dense)                (None, 1)                 65        \n",
            "=================================================================\n",
            "Total params: 13,905,653\n",
            "Trainable params: 65,153\n",
            "Non-trainable params: 13,840,500\n",
            "_________________________________________________________________\n",
            "Train on 144000 samples, validate on 16000 samples\n",
            "Epoch 1/50\n",
            "144000/144000 - 40s - loss: 0.5679 - acc: 0.6996 - val_loss: 0.5322 - val_acc: 0.7299\n",
            "Epoch 2/50\n",
            "144000/144000 - 36s - loss: 0.5270 - acc: 0.7342 - val_loss: 0.5189 - val_acc: 0.7366\n",
            "Epoch 3/50\n",
            "144000/144000 - 36s - loss: 0.5114 - acc: 0.7438 - val_loss: 0.5139 - val_acc: 0.7408\n",
            "Epoch 4/50\n",
            "144000/144000 - 36s - loss: 0.4993 - acc: 0.7522 - val_loss: 0.5120 - val_acc: 0.7444\n",
            "Epoch 5/50\n",
            "144000/144000 - 36s - loss: 0.4917 - acc: 0.7593 - val_loss: 0.5073 - val_acc: 0.7455\n",
            "Epoch 6/50\n",
            "144000/144000 - 36s - loss: 0.4843 - acc: 0.7626 - val_loss: 0.5134 - val_acc: 0.7454\n",
            "Epoch 7/50\n",
            "144000/144000 - 36s - loss: 0.4787 - acc: 0.7661 - val_loss: 0.5039 - val_acc: 0.7487\n",
            "Epoch 8/50\n",
            "144000/144000 - 36s - loss: 0.4747 - acc: 0.7682 - val_loss: 0.5039 - val_acc: 0.7480\n",
            "Epoch 9/50\n",
            "144000/144000 - 36s - loss: 0.4694 - acc: 0.7717 - val_loss: 0.5114 - val_acc: 0.7491\n",
            "Epoch 10/50\n",
            "144000/144000 - 36s - loss: 0.4650 - acc: 0.7752 - val_loss: 0.5124 - val_acc: 0.7468\n",
            "Epoch 11/50\n",
            "144000/144000 - 36s - loss: 0.4622 - acc: 0.7769 - val_loss: 0.5176 - val_acc: 0.7474\n",
            "Epoch 12/50\n",
            "144000/144000 - 36s - loss: 0.4587 - acc: 0.7789 - val_loss: 0.5097 - val_acc: 0.7503\n",
            "Epoch 13/50\n",
            "144000/144000 - 36s - loss: 0.4562 - acc: 0.7797 - val_loss: 0.5089 - val_acc: 0.7498\n",
            "Epoch 14/50\n",
            "144000/144000 - 36s - loss: 0.4538 - acc: 0.7810 - val_loss: 0.5140 - val_acc: 0.7487\n",
            "Epoch 15/50\n",
            "144000/144000 - 36s - loss: 0.4535 - acc: 0.7819 - val_loss: 0.5181 - val_acc: 0.7434\n",
            "Epoch 16/50\n",
            "144000/144000 - 36s - loss: 0.4507 - acc: 0.7841 - val_loss: 0.5171 - val_acc: 0.7451\n",
            "Epoch 17/50\n",
            "144000/144000 - 36s - loss: 0.4488 - acc: 0.7847 - val_loss: 0.5140 - val_acc: 0.7460\n",
            "Epoch 18/50\n",
            "144000/144000 - 36s - loss: 0.4463 - acc: 0.7863 - val_loss: 0.5147 - val_acc: 0.7466\n",
            "Epoch 19/50\n",
            "144000/144000 - 36s - loss: 0.4460 - acc: 0.7874 - val_loss: 0.5170 - val_acc: 0.7462\n",
            "Epoch 20/50\n",
            "144000/144000 - 36s - loss: 0.4438 - acc: 0.7874 - val_loss: 0.5187 - val_acc: 0.7467\n",
            "Epoch 21/50\n",
            "144000/144000 - 36s - loss: 0.4445 - acc: 0.7853 - val_loss: 0.5179 - val_acc: 0.7468\n",
            "Epoch 22/50\n",
            "144000/144000 - 36s - loss: 0.4424 - acc: 0.7876 - val_loss: 0.5147 - val_acc: 0.7464\n",
            "Epoch 23/50\n",
            "144000/144000 - 36s - loss: 0.4423 - acc: 0.7888 - val_loss: 0.5171 - val_acc: 0.7461\n",
            "Epoch 24/50\n",
            "144000/144000 - 36s - loss: 0.4405 - acc: 0.7897 - val_loss: 0.5232 - val_acc: 0.7424\n",
            "Epoch 25/50\n",
            "144000/144000 - 36s - loss: 0.4403 - acc: 0.7897 - val_loss: 0.5168 - val_acc: 0.7451\n",
            "Epoch 26/50\n",
            "144000/144000 - 36s - loss: 0.4395 - acc: 0.7894 - val_loss: 0.5181 - val_acc: 0.7473\n",
            "Epoch 27/50\n",
            "144000/144000 - 35s - loss: 0.4372 - acc: 0.7911 - val_loss: 0.5177 - val_acc: 0.7444\n",
            "Epoch 28/50\n",
            "144000/144000 - 36s - loss: 0.4367 - acc: 0.7916 - val_loss: 0.5198 - val_acc: 0.7449\n",
            "Epoch 29/50\n",
            "144000/144000 - 35s - loss: 0.4366 - acc: 0.7920 - val_loss: 0.5188 - val_acc: 0.7459\n",
            "Epoch 30/50\n",
            "144000/144000 - 36s - loss: 0.4364 - acc: 0.7923 - val_loss: 0.5233 - val_acc: 0.7459\n",
            "Epoch 31/50\n",
            "144000/144000 - 35s - loss: 0.4352 - acc: 0.7925 - val_loss: 0.5222 - val_acc: 0.7461\n",
            "Epoch 32/50\n",
            "144000/144000 - 35s - loss: 0.4347 - acc: 0.7927 - val_loss: 0.5276 - val_acc: 0.7427\n",
            "Epoch 33/50\n",
            "144000/144000 - 35s - loss: 0.4360 - acc: 0.7921 - val_loss: 0.5197 - val_acc: 0.7424\n",
            "Epoch 34/50\n",
            "144000/144000 - 35s - loss: 0.4336 - acc: 0.7940 - val_loss: 0.5200 - val_acc: 0.7431\n",
            "Epoch 35/50\n",
            "144000/144000 - 36s - loss: 0.4350 - acc: 0.7927 - val_loss: 0.5231 - val_acc: 0.7448\n",
            "Epoch 36/50\n",
            "144000/144000 - 36s - loss: 0.4346 - acc: 0.7931 - val_loss: 0.5210 - val_acc: 0.7486\n",
            "Epoch 37/50\n",
            "144000/144000 - 36s - loss: 0.4339 - acc: 0.7934 - val_loss: 0.5226 - val_acc: 0.7418\n",
            "Epoch 38/50\n",
            "144000/144000 - 36s - loss: 0.4346 - acc: 0.7931 - val_loss: 0.5255 - val_acc: 0.7440\n",
            "Epoch 39/50\n",
            "144000/144000 - 36s - loss: 0.4320 - acc: 0.7945 - val_loss: 0.5235 - val_acc: 0.7435\n",
            "Epoch 40/50\n",
            "144000/144000 - 36s - loss: 0.4311 - acc: 0.7951 - val_loss: 0.5241 - val_acc: 0.7437\n",
            "Epoch 41/50\n",
            "144000/144000 - 36s - loss: 0.4320 - acc: 0.7942 - val_loss: 0.5249 - val_acc: 0.7451\n",
            "Epoch 42/50\n",
            "144000/144000 - 36s - loss: 0.4319 - acc: 0.7944 - val_loss: 0.5257 - val_acc: 0.7437\n",
            "Epoch 43/50\n",
            "144000/144000 - 36s - loss: 0.4307 - acc: 0.7938 - val_loss: 0.5227 - val_acc: 0.7427\n",
            "Epoch 44/50\n",
            "144000/144000 - 36s - loss: 0.4311 - acc: 0.7956 - val_loss: 0.5272 - val_acc: 0.7380\n",
            "Epoch 45/50\n",
            "144000/144000 - 36s - loss: 0.4310 - acc: 0.7955 - val_loss: 0.5243 - val_acc: 0.7402\n",
            "Epoch 46/50\n",
            "144000/144000 - 36s - loss: 0.4309 - acc: 0.7946 - val_loss: 0.5301 - val_acc: 0.7434\n",
            "Epoch 47/50\n",
            "144000/144000 - 36s - loss: 0.4326 - acc: 0.7938 - val_loss: 0.5209 - val_acc: 0.7412\n",
            "Epoch 48/50\n",
            "144000/144000 - 36s - loss: 0.4301 - acc: 0.7950 - val_loss: 0.5222 - val_acc: 0.7423\n",
            "Epoch 49/50\n",
            "144000/144000 - 36s - loss: 0.4293 - acc: 0.7952 - val_loss: 0.5359 - val_acc: 0.7421\n",
            "Epoch 50/50\n",
            "144000/144000 - 36s - loss: 0.4295 - acc: 0.7951 - val_loss: 0.5206 - val_acc: 0.7469\n",
            "Training Complete\n"
          ],
          "name": "stdout"
        }
      ]
    },
    {
      "cell_type": "code",
      "metadata": {
        "id": "qxju4ItJKO8F",
        "colab_type": "code",
        "colab": {
          "base_uri": "https://localhost:8080/",
          "height": 607
        },
        "outputId": "ead4a4bd-db7b-4c22-efc4-752b29845026"
      },
      "source": [
        "import matplotlib.image  as mpimg\n",
        "import matplotlib.pyplot as plt\n",
        "\n",
        "#-----------------------------------------------------------\n",
        "# Retrieve a list of list results on training and test data\n",
        "# sets for each training epoch\n",
        "#-----------------------------------------------------------\n",
        "acc=history.history['acc']\n",
        "val_acc=history.history['val_acc']\n",
        "loss=history.history['loss']\n",
        "val_loss=history.history['val_loss']\n",
        "\n",
        "epochs=range(len(acc)) # Get number of epochs\n",
        "\n",
        "#------------------------------------------------\n",
        "# Plot training and validation accuracy per epoch\n",
        "#------------------------------------------------\n",
        "plt.plot(epochs, acc, 'r')\n",
        "plt.plot(epochs, val_acc, 'b')\n",
        "plt.title('Training and validation accuracy')\n",
        "plt.xlabel(\"Epochs\")\n",
        "plt.ylabel(\"Accuracy\")\n",
        "plt.legend([\"Accuracy\", \"Validation Accuracy\"])\n",
        "\n",
        "plt.figure()\n",
        "\n",
        "#------------------------------------------------\n",
        "# Plot training and validation loss per epoch\n",
        "#------------------------------------------------\n",
        "plt.plot(epochs, loss, 'r')\n",
        "plt.plot(epochs, val_loss, 'b')\n",
        "plt.title('Training and validation loss')\n",
        "plt.xlabel(\"Epochs\")\n",
        "plt.ylabel(\"Loss\")\n",
        "plt.legend([\"Loss\", \"Validation Loss\"])\n",
        "\n",
        "plt.figure()\n",
        "\n",
        "\n",
        "# Expected Output\n",
        "# A chart where the validation loss does not increase sharply!"
      ],
      "execution_count": 9,
      "outputs": [
        {
          "output_type": "execute_result",
          "data": {
            "text/plain": [
              "<Figure size 432x288 with 0 Axes>"
            ]
          },
          "metadata": {
            "tags": []
          },
          "execution_count": 9
        },
        {
          "output_type": "display_data",
          "data": {
            "image/png": "[encoded data removed]",
            "text/plain": [
              "<Figure size 432x288 with 1 Axes>"
            ]
          },
          "metadata": {
            "tags": []
          }
        },
        {
          "output_type": "display_data",
          "data": {
            "image/png": "[encoded data removed]",
            "text/plain": [
              "<Figure size 432x288 with 1 Axes>"
            ]
          },
          "metadata": {
            "tags": []
          }
        },
        {
          "output_type": "display_data",
          "data": {
            "text/plain": [
              "<Figure size 432x288 with 0 Axes>"
            ]
          },
          "metadata": {
            "tags": []
          }
        }
      ]
    }
  ]
}