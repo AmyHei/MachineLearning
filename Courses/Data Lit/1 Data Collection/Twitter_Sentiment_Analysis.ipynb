{
  "nbformat": 4,
  "nbformat_minor": 0,
  "metadata": {
    "colab": {
      "name": "Twitter Sentiment Analysis.ipynb",
      "version": "0.3.2",
      "provenance": [],
      "collapsed_sections": []
    },
    "kernelspec": {
      "name": "python3",
      "display_name": "Python 3"
    }
  },
  "cells": [
    {
      "metadata": {
        "id": "t103vzBrUQqD",
        "colab_type": "text"
      },
      "cell_type": "markdown",
      "source": [
        "# Twitter Sentiment Analysis"
      ]
    },
    {
      "metadata": {
        "id": "nMx2UqrJFyw-",
        "colab_type": "code",
        "outputId": "8b280fa5-1153-4078-af1c-064d8ccbe39e",
        "colab": {
          "base_uri": "https://localhost:8080/",
          "height": 289
        }
      },
      "cell_type": "code",
      "source": [
        "!pip install pandas\n",
        "!pip install tweepy\n",
        "!pip install vaderSentiment"
      ],
      "execution_count": 1,
      "outputs": [
        {
          "output_type": "stream",
          "text": [
            "Requirement already satisfied: pandas in /usr/local/lib/python3.6/dist-packages (0.22.0)\n",
            "Requirement already satisfied: python-dateutil>=2 in /usr/local/lib/python3.6/dist-packages (from pandas) (2.5.3)\n",
            "Requirement already satisfied: pytz>=2011k in /usr/local/lib/python3.6/dist-packages (from pandas) (2018.9)\n",
            "Requirement already satisfied: numpy>=1.9.0 in /usr/local/lib/python3.6/dist-packages (from pandas) (1.14.6)\n",
            "Requirement already satisfied: six>=1.5 in /usr/local/lib/python3.6/dist-packages (from python-dateutil>=2->pandas) (1.11.0)\n",
            "Requirement already satisfied: tweepy in /usr/local/lib/python3.6/dist-packages (3.6.0)\n",
            "Requirement already satisfied: six>=1.10.0 in /usr/local/lib/python3.6/dist-packages (from tweepy) (1.11.0)\n",
            "Requirement already satisfied: requests-oauthlib>=0.7.0 in /usr/local/lib/python3.6/dist-packages (from tweepy) (1.2.0)\n",
            "Requirement already satisfied: PySocks>=1.5.7 in /usr/local/lib/python3.6/dist-packages (from tweepy) (1.6.8)\n",
            "Requirement already satisfied: requests>=2.11.1 in /usr/local/lib/python3.6/dist-packages (from tweepy) (2.18.4)\n",
            "Requirement already satisfied: oauthlib>=3.0.0 in /usr/local/lib/python3.6/dist-packages (from requests-oauthlib>=0.7.0->tweepy) (3.0.1)\n",
            "Requirement already satisfied: idna<2.7,>=2.5 in /usr/local/lib/python3.6/dist-packages (from requests>=2.11.1->tweepy) (2.6)\n",
            "Requirement already satisfied: chardet<3.1.0,>=3.0.2 in /usr/local/lib/python3.6/dist-packages (from requests>=2.11.1->tweepy) (3.0.4)\n",
            "Requirement already satisfied: urllib3<1.23,>=1.21.1 in /usr/local/lib/python3.6/dist-packages (from requests>=2.11.1->tweepy) (1.22)\n",
            "Requirement already satisfied: certifi>=2017.4.17 in /usr/local/lib/python3.6/dist-packages (from requests>=2.11.1->tweepy) (2018.11.29)\n",
            "Requirement already satisfied: vaderSentiment in /usr/local/lib/python3.6/dist-packages (3.2.1)\n"
          ],
          "name": "stdout"
        }
      ]
    },
    {
      "metadata": {
        "id": "OIbPzsT8f5X3",
        "colab_type": "text"
      },
      "cell_type": "markdown",
      "source": [
        "### Dependencies"
      ]
    },
    {
      "metadata": {
        "id": "VldzdttbGRT6",
        "colab_type": "code",
        "outputId": "5fba484e-74e7-41fd-e463-931e7268fa04",
        "colab": {
          "base_uri": "https://localhost:8080/",
          "height": 85
        }
      },
      "cell_type": "code",
      "source": [
        "import nltk\n",
        "import tweepy\n",
        "import warnings\n",
        "import numpy as np\n",
        "import pandas as pd\n",
        "import seaborn as sns\n",
        "import matplotlib.pyplot as plt\n",
        "from nltk.sentiment.vader import SentimentIntensityAnalyzer\n",
        "\n",
        "%matplotlib inline\n",
        "nltk.download('vader_lexicon')\n",
        "warnings.filterwarnings(\"ignore\")"
      ],
      "execution_count": 2,
      "outputs": [
        {
          "output_type": "stream",
          "text": [
            "[nltk_data] Downloading package vader_lexicon to /root/nltk_data...\n",
            "[nltk_data]   Package vader_lexicon is already up-to-date!\n"
          ],
          "name": "stdout"
        },
        {
          "output_type": "stream",
          "text": [
            "/usr/local/lib/python3.6/dist-packages/nltk/twitter/__init__.py:20: UserWarning: The twython library has not been installed. Some functionality from the twitter package will not be available.\n",
            "  warnings.warn(\"The twython library has not been installed. \"\n"
          ],
          "name": "stderr"
        }
      ]
    },
    {
      "metadata": {
        "id": "wmVdvr6RUMje",
        "colab_type": "text"
      },
      "cell_type": "markdown",
      "source": [
        "### Parameters\n",
        "* Twitter variabels can be created here: http://apps.twitter.com"
      ]
    },
    {
      "metadata": {
        "id": "xoeDu5guGo-N",
        "colab_type": "code",
        "colab": {}
      },
      "cell_type": "code",
      "source": [
        "# My Twitter API Authentication Variables\n",
        "consumer_key = ''\n",
        "consumer_secret = ''\n",
        "access_token = ''\n",
        "access_token_secret = ''\n",
        "\n",
        "twitter_search_phrase = 'Donald Trump'\n",
        "number_of_tweets = 1000"
      ],
      "execution_count": 0,
      "outputs": []
    },
    {
      "metadata": {
        "id": "5XzZbKNffya9",
        "colab_type": "text"
      },
      "cell_type": "markdown",
      "source": [
        "### Twitter authentication"
      ]
    },
    {
      "metadata": {
        "id": "AOvW-jv3fv7u",
        "colab_type": "code",
        "colab": {}
      },
      "cell_type": "code",
      "source": [
        "auth = tweepy.OAuthHandler(consumer_key, consumer_secret)\n",
        "auth.set_access_token(access_token, access_token_secret)\n",
        "api = tweepy.API(auth)"
      ],
      "execution_count": 0,
      "outputs": []
    },
    {
      "metadata": {
        "id": "yish2OPj8k4Z",
        "colab_type": "text"
      },
      "cell_type": "markdown",
      "source": [
        "### Fetch data and create dataset"
      ]
    },
    {
      "metadata": {
        "id": "i41rn4KkG-iz",
        "colab_type": "code",
        "colab": {}
      },
      "cell_type": "code",
      "source": [
        "tweets = api.search(twitter_search_phrase, count=number_of_tweets)\n",
        "data = pd.DataFrame(data=[tweet.text for tweet in tweets], columns=['Tweets'])"
      ],
      "execution_count": 0,
      "outputs": []
    },
    {
      "metadata": {
        "id": "sUv5zyNHgG2V",
        "colab_type": "code",
        "colab": {
          "base_uri": "https://localhost:8080/",
          "height": 376
        },
        "outputId": "40920067-02b5-4041-f85b-35c2dd192c87"
      },
      "cell_type": "code",
      "source": [
        "display(data.head(10))\n",
        "print(tweets[0].created_at)"
      ],
      "execution_count": 6,
      "outputs": [
        {
          "output_type": "display_data",
          "data": {
            "text/html": [
              "<div>\n",
              "<style scoped>\n",
              "    .dataframe tbody tr th:only-of-type {\n",
              "        vertical-align: middle;\n",
              "    }\n",
              "\n",
              "    .dataframe tbody tr th {\n",
              "        vertical-align: top;\n",
              "    }\n",
              "\n",
              "    .dataframe thead th {\n",
              "        text-align: right;\n",
              "    }\n",
              "</style>\n",
              "<table border=\"1\" class=\"dataframe\">\n",
              "  <thead>\n",
              "    <tr style=\"text-align: right;\">\n",
              "      <th></th>\n",
              "      <th>Tweets</th>\n",
              "    </tr>\n",
              "  </thead>\n",
              "  <tbody>\n",
              "    <tr>\n",
              "      <th>0</th>\n",
              "      <td>@eugenegu @realDonaldTrump Hello sir can you p...</td>\n",
              "    </tr>\n",
              "    <tr>\n",
              "      <th>1</th>\n",
              "      <td>RT @angela_rye: Donald Trump just MIGHT be cal...</td>\n",
              "    </tr>\n",
              "    <tr>\n",
              "      <th>2</th>\n",
              "      <td>RT @noticias4vision: John Bolton, el asesor de...</td>\n",
              "    </tr>\n",
              "    <tr>\n",
              "      <th>3</th>\n",
              "      <td>RT @adamcbest: If you are a conservative conde...</td>\n",
              "    </tr>\n",
              "    <tr>\n",
              "      <th>4</th>\n",
              "      <td>RT @matthewjdowd: I ask GOP folks who are sayi...</td>\n",
              "    </tr>\n",
              "    <tr>\n",
              "      <th>5</th>\n",
              "      <td>RT @robreiner: Every day the idiot makes the c...</td>\n",
              "    </tr>\n",
              "    <tr>\n",
              "      <th>6</th>\n",
              "      <td>@RealSaavedra The liberal MSM is the enemy. I ...</td>\n",
              "    </tr>\n",
              "    <tr>\n",
              "      <th>7</th>\n",
              "      <td>RT @B52Malmet: Donald claims his Intel team “g...</td>\n",
              "    </tr>\n",
              "    <tr>\n",
              "      <th>8</th>\n",
              "      <td>RT @robreiner: Every day the idiot makes the c...</td>\n",
              "    </tr>\n",
              "    <tr>\n",
              "      <th>9</th>\n",
              "      <td>RT @MarkSimoneNY: Russia donated $0 to Donald ...</td>\n",
              "    </tr>\n",
              "  </tbody>\n",
              "</table>\n",
              "</div>"
            ],
            "text/plain": [
              "                                              Tweets\n",
              "0  @eugenegu @realDonaldTrump Hello sir can you p...\n",
              "1  RT @angela_rye: Donald Trump just MIGHT be cal...\n",
              "2  RT @noticias4vision: John Bolton, el asesor de...\n",
              "3  RT @adamcbest: If you are a conservative conde...\n",
              "4  RT @matthewjdowd: I ask GOP folks who are sayi...\n",
              "5  RT @robreiner: Every day the idiot makes the c...\n",
              "6  @RealSaavedra The liberal MSM is the enemy. I ...\n",
              "7  RT @B52Malmet: Donald claims his Intel team “g...\n",
              "8  RT @robreiner: Every day the idiot makes the c...\n",
              "9  RT @MarkSimoneNY: Russia donated $0 to Donald ..."
            ]
          },
          "metadata": {
            "tags": []
          }
        },
        {
          "output_type": "stream",
          "text": [
            "2019-02-02 02:02:40\n"
          ],
          "name": "stdout"
        }
      ]
    },
    {
      "metadata": {
        "id": "Q_LQAhXV8oug",
        "colab_type": "text"
      },
      "cell_type": "markdown",
      "source": [
        "### Apply sentiment analysis and process dataset"
      ]
    },
    {
      "metadata": {
        "id": "4l9xCtv4luhm",
        "colab_type": "code",
        "colab": {}
      },
      "cell_type": "code",
      "source": [
        "sid = SentimentIntensityAnalyzer()\n",
        "\n",
        "listy = []\n",
        "\n",
        "for index, row in data.iterrows():\n",
        "  ss = sid.polarity_scores(row[\"Tweets\"])\n",
        "  listy.append(ss)\n",
        "  \n",
        "se = pd.Series(listy)"
      ],
      "execution_count": 0,
      "outputs": []
    },
    {
      "metadata": {
        "id": "kQiYGQEqIZ3w",
        "colab_type": "code",
        "colab": {}
      },
      "cell_type": "code",
      "source": [
        "data['polarity'] = se.values\n",
        "data['negative'] = data['polarity'].apply(lambda x: x['neg'])\n",
        "data['neutral'] = data['polarity'].apply(lambda x: x['neu'])\n",
        "data['positive'] = data['polarity'].apply(lambda x: x['pos'])\n",
        "data['compound'] = data['polarity'].apply(lambda x: x['compound'])"
      ],
      "execution_count": 0,
      "outputs": []
    },
    {
      "metadata": {
        "id": "fsw060URgLiW",
        "colab_type": "code",
        "colab": {
          "base_uri": "https://localhost:8080/",
          "height": 359
        },
        "outputId": "d7aad3d5-b961-4b3b-e073-9ddf339a58d5"
      },
      "cell_type": "code",
      "source": [
        "display(data.head(10))"
      ],
      "execution_count": 9,
      "outputs": [
        {
          "output_type": "display_data",
          "data": {
            "text/html": [
              "<div>\n",
              "<style scoped>\n",
              "    .dataframe tbody tr th:only-of-type {\n",
              "        vertical-align: middle;\n",
              "    }\n",
              "\n",
              "    .dataframe tbody tr th {\n",
              "        vertical-align: top;\n",
              "    }\n",
              "\n",
              "    .dataframe thead th {\n",
              "        text-align: right;\n",
              "    }\n",
              "</style>\n",
              "<table border=\"1\" class=\"dataframe\">\n",
              "  <thead>\n",
              "    <tr style=\"text-align: right;\">\n",
              "      <th></th>\n",
              "      <th>Tweets</th>\n",
              "      <th>polarity</th>\n",
              "      <th>negative</th>\n",
              "      <th>neutral</th>\n",
              "      <th>positive</th>\n",
              "      <th>compound</th>\n",
              "    </tr>\n",
              "  </thead>\n",
              "  <tbody>\n",
              "    <tr>\n",
              "      <th>0</th>\n",
              "      <td>@eugenegu @realDonaldTrump Hello sir can you p...</td>\n",
              "      <td>{'neg': 0.0, 'neu': 0.874, 'pos': 0.126, 'comp...</td>\n",
              "      <td>0.000</td>\n",
              "      <td>0.874</td>\n",
              "      <td>0.126</td>\n",
              "      <td>0.3182</td>\n",
              "    </tr>\n",
              "    <tr>\n",
              "      <th>1</th>\n",
              "      <td>RT @angela_rye: Donald Trump just MIGHT be cal...</td>\n",
              "      <td>{'neg': 0.0, 'neu': 1.0, 'pos': 0.0, 'compound...</td>\n",
              "      <td>0.000</td>\n",
              "      <td>1.000</td>\n",
              "      <td>0.000</td>\n",
              "      <td>0.0000</td>\n",
              "    </tr>\n",
              "    <tr>\n",
              "      <th>2</th>\n",
              "      <td>RT @noticias4vision: John Bolton, el asesor de...</td>\n",
              "      <td>{'neg': 0.0, 'neu': 1.0, 'pos': 0.0, 'compound...</td>\n",
              "      <td>0.000</td>\n",
              "      <td>1.000</td>\n",
              "      <td>0.000</td>\n",
              "      <td>0.0000</td>\n",
              "    </tr>\n",
              "    <tr>\n",
              "      <th>3</th>\n",
              "      <td>RT @adamcbest: If you are a conservative conde...</td>\n",
              "      <td>{'neg': 0.0, 'neu': 0.884, 'pos': 0.116, 'comp...</td>\n",
              "      <td>0.000</td>\n",
              "      <td>0.884</td>\n",
              "      <td>0.116</td>\n",
              "      <td>0.3612</td>\n",
              "    </tr>\n",
              "    <tr>\n",
              "      <th>4</th>\n",
              "      <td>RT @matthewjdowd: I ask GOP folks who are sayi...</td>\n",
              "      <td>{'neg': 0.094, 'neu': 0.906, 'pos': 0.0, 'comp...</td>\n",
              "      <td>0.094</td>\n",
              "      <td>0.906</td>\n",
              "      <td>0.000</td>\n",
              "      <td>-0.3400</td>\n",
              "    </tr>\n",
              "    <tr>\n",
              "      <th>5</th>\n",
              "      <td>RT @robreiner: Every day the idiot makes the c...</td>\n",
              "      <td>{'neg': 0.357, 'neu': 0.643, 'pos': 0.0, 'comp...</td>\n",
              "      <td>0.357</td>\n",
              "      <td>0.643</td>\n",
              "      <td>0.000</td>\n",
              "      <td>-0.8779</td>\n",
              "    </tr>\n",
              "    <tr>\n",
              "      <th>6</th>\n",
              "      <td>@RealSaavedra The liberal MSM is the enemy. I ...</td>\n",
              "      <td>{'neg': 0.232, 'neu': 0.639, 'pos': 0.129, 'co...</td>\n",
              "      <td>0.232</td>\n",
              "      <td>0.639</td>\n",
              "      <td>0.129</td>\n",
              "      <td>-0.3777</td>\n",
              "    </tr>\n",
              "    <tr>\n",
              "      <th>7</th>\n",
              "      <td>RT @B52Malmet: Donald claims his Intel team “g...</td>\n",
              "      <td>{'neg': 0.0, 'neu': 1.0, 'pos': 0.0, 'compound...</td>\n",
              "      <td>0.000</td>\n",
              "      <td>1.000</td>\n",
              "      <td>0.000</td>\n",
              "      <td>0.0000</td>\n",
              "    </tr>\n",
              "    <tr>\n",
              "      <th>8</th>\n",
              "      <td>RT @robreiner: Every day the idiot makes the c...</td>\n",
              "      <td>{'neg': 0.357, 'neu': 0.643, 'pos': 0.0, 'comp...</td>\n",
              "      <td>0.357</td>\n",
              "      <td>0.643</td>\n",
              "      <td>0.000</td>\n",
              "      <td>-0.8779</td>\n",
              "    </tr>\n",
              "    <tr>\n",
              "      <th>9</th>\n",
              "      <td>RT @MarkSimoneNY: Russia donated $0 to Donald ...</td>\n",
              "      <td>{'neg': 0.0, 'neu': 1.0, 'pos': 0.0, 'compound...</td>\n",
              "      <td>0.000</td>\n",
              "      <td>1.000</td>\n",
              "      <td>0.000</td>\n",
              "      <td>0.0000</td>\n",
              "    </tr>\n",
              "  </tbody>\n",
              "</table>\n",
              "</div>"
            ],
            "text/plain": [
              "                                              Tweets  \\\n",
              "0  @eugenegu @realDonaldTrump Hello sir can you p...   \n",
              "1  RT @angela_rye: Donald Trump just MIGHT be cal...   \n",
              "2  RT @noticias4vision: John Bolton, el asesor de...   \n",
              "3  RT @adamcbest: If you are a conservative conde...   \n",
              "4  RT @matthewjdowd: I ask GOP folks who are sayi...   \n",
              "5  RT @robreiner: Every day the idiot makes the c...   \n",
              "6  @RealSaavedra The liberal MSM is the enemy. I ...   \n",
              "7  RT @B52Malmet: Donald claims his Intel team “g...   \n",
              "8  RT @robreiner: Every day the idiot makes the c...   \n",
              "9  RT @MarkSimoneNY: Russia donated $0 to Donald ...   \n",
              "\n",
              "                                            polarity  negative  neutral  \\\n",
              "0  {'neg': 0.0, 'neu': 0.874, 'pos': 0.126, 'comp...     0.000    0.874   \n",
              "1  {'neg': 0.0, 'neu': 1.0, 'pos': 0.0, 'compound...     0.000    1.000   \n",
              "2  {'neg': 0.0, 'neu': 1.0, 'pos': 0.0, 'compound...     0.000    1.000   \n",
              "3  {'neg': 0.0, 'neu': 0.884, 'pos': 0.116, 'comp...     0.000    0.884   \n",
              "4  {'neg': 0.094, 'neu': 0.906, 'pos': 0.0, 'comp...     0.094    0.906   \n",
              "5  {'neg': 0.357, 'neu': 0.643, 'pos': 0.0, 'comp...     0.357    0.643   \n",
              "6  {'neg': 0.232, 'neu': 0.639, 'pos': 0.129, 'co...     0.232    0.639   \n",
              "7  {'neg': 0.0, 'neu': 1.0, 'pos': 0.0, 'compound...     0.000    1.000   \n",
              "8  {'neg': 0.357, 'neu': 0.643, 'pos': 0.0, 'comp...     0.357    0.643   \n",
              "9  {'neg': 0.0, 'neu': 1.0, 'pos': 0.0, 'compound...     0.000    1.000   \n",
              "\n",
              "   positive  compound  \n",
              "0     0.126    0.3182  \n",
              "1     0.000    0.0000  \n",
              "2     0.000    0.0000  \n",
              "3     0.116    0.3612  \n",
              "4     0.000   -0.3400  \n",
              "5     0.000   -0.8779  \n",
              "6     0.129   -0.3777  \n",
              "7     0.000    0.0000  \n",
              "8     0.000   -0.8779  \n",
              "9     0.000    0.0000  "
            ]
          },
          "metadata": {
            "tags": []
          }
        }
      ]
    },
    {
      "metadata": {
        "id": "LD2rGuH4lGNO",
        "colab_type": "text"
      },
      "cell_type": "markdown",
      "source": [
        "### Overall sentiment"
      ]
    },
    {
      "metadata": {
        "id": "DKaAvWHQjgjo",
        "colab_type": "code",
        "colab": {
          "base_uri": "https://localhost:8080/",
          "height": 173
        },
        "outputId": "61a83f2d-41a9-41a5-fb0a-6bef92e3af99"
      },
      "cell_type": "code",
      "source": [
        "agg_sentiment = data.agg({'negative' : ['min', 'mean', 'max', 'sum'], 'neutral' : ['min', 'mean', 'max', 'sum'], 'positive' : ['min', 'mean', 'max', 'sum'], 'compound' : ['min', 'mean', 'max', 'sum']})\n",
        "display(agg_sentiment)"
      ],
      "execution_count": 10,
      "outputs": [
        {
          "output_type": "display_data",
          "data": {
            "text/html": [
              "<div>\n",
              "<style scoped>\n",
              "    .dataframe tbody tr th:only-of-type {\n",
              "        vertical-align: middle;\n",
              "    }\n",
              "\n",
              "    .dataframe tbody tr th {\n",
              "        vertical-align: top;\n",
              "    }\n",
              "\n",
              "    .dataframe thead th {\n",
              "        text-align: right;\n",
              "    }\n",
              "</style>\n",
              "<table border=\"1\" class=\"dataframe\">\n",
              "  <thead>\n",
              "    <tr style=\"text-align: right;\">\n",
              "      <th></th>\n",
              "      <th>negative</th>\n",
              "      <th>neutral</th>\n",
              "      <th>positive</th>\n",
              "      <th>compound</th>\n",
              "    </tr>\n",
              "  </thead>\n",
              "  <tbody>\n",
              "    <tr>\n",
              "      <th>min</th>\n",
              "      <td>0.00000</td>\n",
              "      <td>0.35100</td>\n",
              "      <td>0.00000</td>\n",
              "      <td>-0.877900</td>\n",
              "    </tr>\n",
              "    <tr>\n",
              "      <th>mean</th>\n",
              "      <td>0.07583</td>\n",
              "      <td>0.86235</td>\n",
              "      <td>0.06176</td>\n",
              "      <td>-0.048303</td>\n",
              "    </tr>\n",
              "    <tr>\n",
              "      <th>max</th>\n",
              "      <td>0.64900</td>\n",
              "      <td>1.00000</td>\n",
              "      <td>0.38800</td>\n",
              "      <td>0.804300</td>\n",
              "    </tr>\n",
              "    <tr>\n",
              "      <th>sum</th>\n",
              "      <td>7.58300</td>\n",
              "      <td>86.23500</td>\n",
              "      <td>6.17600</td>\n",
              "      <td>-4.830300</td>\n",
              "    </tr>\n",
              "  </tbody>\n",
              "</table>\n",
              "</div>"
            ],
            "text/plain": [
              "      negative   neutral  positive  compound\n",
              "min    0.00000   0.35100   0.00000 -0.877900\n",
              "mean   0.07583   0.86235   0.06176 -0.048303\n",
              "max    0.64900   1.00000   0.38800  0.804300\n",
              "sum    7.58300  86.23500   6.17600 -4.830300"
            ]
          },
          "metadata": {
            "tags": []
          }
        }
      ]
    },
    {
      "metadata": {
        "id": "vbPPN-X05lGC",
        "colab_type": "text"
      },
      "cell_type": "markdown",
      "source": [
        "### Lowest sentiment value by type"
      ]
    },
    {
      "metadata": {
        "id": "FgsZ6fh2nk7R",
        "colab_type": "code",
        "colab": {
          "base_uri": "https://localhost:8080/",
          "height": 369
        },
        "outputId": "f5763467-2ccc-4966-e08a-bb16be344d27"
      },
      "cell_type": "code",
      "source": [
        "f, ax = plt.subplots(figsize=(7, 5))\n",
        "sns.barplot(x=list(agg_sentiment.columns), y=agg_sentiment.loc['min'].values, palette=\"dark\")\n",
        "ax.set_ylabel(\"Lowest sentiment\")\n",
        "plt.tight_layout(h_pad=2)\n",
        "plt.show()"
      ],
      "execution_count": 11,
      "outputs": [
        {
          "output_type": "display_data",
          "data": {
            "image/png": "[encoded data removed]",
            "text/plain": [
              "<Figure size 504x360 with 1 Axes>"
            ]
          },
          "metadata": {
            "tags": []
          }
        }
      ]
    },
    {
      "metadata": {
        "id": "JFU2JVrc5r65",
        "colab_type": "text"
      },
      "cell_type": "markdown",
      "source": [
        "### Mean sentiment value by type"
      ]
    },
    {
      "metadata": {
        "id": "MKhhnYONnw6p",
        "colab_type": "code",
        "colab": {
          "base_uri": "https://localhost:8080/",
          "height": 369
        },
        "outputId": "975efcde-18bf-4538-ee5c-c6142210c602"
      },
      "cell_type": "code",
      "source": [
        "f, ax = plt.subplots(figsize=(7, 5))\n",
        "sns.barplot(x=list(agg_sentiment.columns), y=agg_sentiment.loc['mean'].values, palette=\"dark\")\n",
        "ax.set_ylabel(\"Lowest sentiment\")\n",
        "plt.tight_layout(h_pad=2)\n",
        "plt.show()"
      ],
      "execution_count": 12,
      "outputs": [
        {
          "output_type": "display_data",
          "data": {
            "image/png": "[encoded data removed]",
            "text/plain": [
              "<Figure size 504x360 with 1 Axes>"
            ]
          },
          "metadata": {
            "tags": []
          }
        }
      ]
    },
    {
      "metadata": {
        "id": "aqBctcpB5szp",
        "colab_type": "text"
      },
      "cell_type": "markdown",
      "source": [
        "### Maximum sentiment value by type"
      ]
    },
    {
      "metadata": {
        "id": "2OKX2caW5pBf",
        "colab_type": "code",
        "colab": {
          "base_uri": "https://localhost:8080/",
          "height": 369
        },
        "outputId": "8e11fade-f571-4777-f42e-2c80601561ff"
      },
      "cell_type": "code",
      "source": [
        "f, ax = plt.subplots(figsize=(7, 5))\n",
        "sns.barplot(x=list(agg_sentiment.columns), y=agg_sentiment.loc['max'].values, palette=\"dark\")\n",
        "ax.set_ylabel(\"Lowest sentiment\")\n",
        "plt.tight_layout(h_pad=2)\n",
        "plt.show()"
      ],
      "execution_count": 13,
      "outputs": [
        {
          "output_type": "display_data",
          "data": {
            "image/png": "[encoded data removed]",
            "text/plain": [
              "<Figure size 504x360 with 1 Axes>"
            ]
          },
          "metadata": {
            "tags": []
          }
        }
      ]
    },
    {
      "metadata": {
        "id": "NFERiyBy5tQh",
        "colab_type": "text"
      },
      "cell_type": "markdown",
      "source": [
        "### Overall sentiment value by type"
      ]
    },
    {
      "metadata": {
        "id": "_H8nvRdI5rYF",
        "colab_type": "code",
        "colab": {
          "base_uri": "https://localhost:8080/",
          "height": 369
        },
        "outputId": "6ff847f9-d20b-40e1-9955-b4f746992d05"
      },
      "cell_type": "code",
      "source": [
        "f, ax = plt.subplots(figsize=(7, 5))\n",
        "sns.barplot(x=list(agg_sentiment.columns), y=agg_sentiment.loc['sum'].values, palette=\"dark\")\n",
        "ax.set_ylabel(\"Lowest sentiment\")\n",
        "plt.tight_layout(h_pad=2)\n",
        "plt.show()"
      ],
      "execution_count": 14,
      "outputs": [
        {
          "output_type": "display_data",
          "data": {
            "image/png": "[encoded data removed]",
            "text/plain": [
              "<Figure size 504x360 with 1 Axes>"
            ]
          },
          "metadata": {
            "tags": []
          }
        }
      ]
    }
  ]
}