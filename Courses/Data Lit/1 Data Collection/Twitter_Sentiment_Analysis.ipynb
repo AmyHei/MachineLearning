{
  "nbformat": 4,
  "nbformat_minor": 0,
  "metadata": {
    "colab": {
      "name": "Twitter Sentiment Analysis.ipynb",
      "version": "0.3.2",
      "provenance": [],
      "collapsed_sections": []
    },
    "kernelspec": {
      "name": "python3",
      "display_name": "Python 3"
    }
  },
  "cells": [
    {
      "metadata": {
        "id": "t103vzBrUQqD",
        "colab_type": "text"
      },
      "cell_type": "markdown",
      "source": [
        "# Twitter Sentiment Analysis"
      ]
    },
    {
      "metadata": {
        "id": "OIbPzsT8f5X3",
        "colab_type": "text"
      },
      "cell_type": "markdown",
      "source": [
        "### Dependencies"
      ]
    },
    {
      "metadata": {
        "id": "sJfbP-W8_HOw",
        "colab_type": "code",
        "colab": {}
      },
      "cell_type": "code",
      "source": [
        "# !pip install pandas\n",
        "# !pip install tweepy\n",
        "# !pip install vaderSentiment"
      ],
      "execution_count": 0,
      "outputs": []
    },
    {
      "metadata": {
        "id": "VldzdttbGRT6",
        "colab_type": "code",
        "outputId": "c4fbc4c7-2d45-42b3-82c0-0cfc905a480a",
        "colab": {
          "base_uri": "https://localhost:8080/",
          "height": 102
        }
      },
      "cell_type": "code",
      "source": [
        "import nltk\n",
        "import tweepy\n",
        "import warnings\n",
        "import numpy as np\n",
        "import pandas as pd\n",
        "import seaborn as sns\n",
        "import matplotlib.pyplot as plt\n",
        "from nltk.sentiment.vader import SentimentIntensityAnalyzer\n",
        "\n",
        "%matplotlib inline\n",
        "nltk.download('vader_lexicon')\n",
        "warnings.filterwarnings(\"ignore\")"
      ],
      "execution_count": 0,
      "outputs": [
        {
          "output_type": "stream",
          "text": [
            "[nltk_data] Downloading package vader_lexicon to /root/nltk_data...\n",
            "[nltk_data]   Package vader_lexicon is already up-to-date!\n"
          ],
          "name": "stdout"
        },
        {
          "output_type": "stream",
          "text": [
            "/usr/local/lib/python3.6/dist-packages/nltk/twitter/__init__.py:20: UserWarning: The twython library has not been installed. Some functionality from the twitter package will not be available.\n",
            "  warnings.warn(\"The twython library has not been installed. \"\n"
          ],
          "name": "stderr"
        },
        {
          "output_type": "execute_result",
          "data": {
            "text/plain": [
              "True"
            ]
          },
          "metadata": {
            "tags": []
          },
          "execution_count": 2
        }
      ]
    },
    {
      "metadata": {
        "id": "wmVdvr6RUMje",
        "colab_type": "text"
      },
      "cell_type": "markdown",
      "source": [
        "### Parameters\n",
        "* Twitter authentication variables can be created here: http://apps.twitter.com"
      ]
    },
    {
      "metadata": {
        "id": "xoeDu5guGo-N",
        "colab_type": "code",
        "colab": {}
      },
      "cell_type": "code",
      "source": [
        "# Twitter API Authentication Variables\n",
        "consumer_key = ''\n",
        "consumer_secret = ''\n",
        "access_token = ''\n",
        "access_token_secret = ''\n",
        "\n",
        "twitter_search_phrase = 'Donald Trump'\n",
        "number_of_tweets = 50000"
      ],
      "execution_count": 0,
      "outputs": []
    },
    {
      "metadata": {
        "id": "5XzZbKNffya9",
        "colab_type": "text"
      },
      "cell_type": "markdown",
      "source": [
        "### Twitter authentication"
      ]
    },
    {
      "metadata": {
        "id": "AOvW-jv3fv7u",
        "colab_type": "code",
        "colab": {}
      },
      "cell_type": "code",
      "source": [
        "auth = tweepy.OAuthHandler(consumer_key, consumer_secret)\n",
        "auth.set_access_token(access_token, access_token_secret)\n",
        "api = tweepy.API(auth)"
      ],
      "execution_count": 0,
      "outputs": []
    },
    {
      "metadata": {
        "id": "yish2OPj8k4Z",
        "colab_type": "text"
      },
      "cell_type": "markdown",
      "source": [
        "### Fetch data and create dataset"
      ]
    },
    {
      "metadata": {
        "id": "i41rn4KkG-iz",
        "colab_type": "code",
        "colab": {}
      },
      "cell_type": "code",
      "source": [
        "tweets = api.search(twitter_search_phrase, count=number_of_tweets)\n",
        "data = pd.DataFrame(data=[tweet.text for tweet in tweets], columns=['Tweets'])"
      ],
      "execution_count": 0,
      "outputs": []
    },
    {
      "metadata": {
        "id": "sUv5zyNHgG2V",
        "colab_type": "code",
        "outputId": "2135f1a9-be5c-465f-f727-25160db1665e",
        "colab": {
          "base_uri": "https://localhost:8080/",
          "height": 376
        }
      },
      "cell_type": "code",
      "source": [
        "display(data.head(10))\n",
        "print(tweets[0].created_at)"
      ],
      "execution_count": 0,
      "outputs": [
        {
          "output_type": "display_data",
          "data": {
            "text/html": [
              "<div>\n",
              "<style scoped>\n",
              "    .dataframe tbody tr th:only-of-type {\n",
              "        vertical-align: middle;\n",
              "    }\n",
              "\n",
              "    .dataframe tbody tr th {\n",
              "        vertical-align: top;\n",
              "    }\n",
              "\n",
              "    .dataframe thead th {\n",
              "        text-align: right;\n",
              "    }\n",
              "</style>\n",
              "<table border=\"1\" class=\"dataframe\">\n",
              "  <thead>\n",
              "    <tr style=\"text-align: right;\">\n",
              "      <th></th>\n",
              "      <th>Tweets</th>\n",
              "    </tr>\n",
              "  </thead>\n",
              "  <tbody>\n",
              "    <tr>\n",
              "      <th>0</th>\n",
              "      <td>RT @Kozmocostello: @AlexMLeo @PrisonPlanet Don...</td>\n",
              "    </tr>\n",
              "    <tr>\n",
              "      <th>1</th>\n",
              "      <td>RT @funder: Investigating Don Jr. Part 1: A fe...</td>\n",
              "    </tr>\n",
              "    <tr>\n",
              "      <th>2</th>\n",
              "      <td>RT @AlbertoRodNews: Marco Rubio: \"La enorme ma...</td>\n",
              "    </tr>\n",
              "    <tr>\n",
              "      <th>3</th>\n",
              "      <td>RT @Tennesseine: Do you think Donald Trump has...</td>\n",
              "    </tr>\n",
              "    <tr>\n",
              "      <th>4</th>\n",
              "      <td>RT @adamcbest: If you are a conservative conde...</td>\n",
              "    </tr>\n",
              "    <tr>\n",
              "      <th>5</th>\n",
              "      <td>Donald Trump is \"Drunk Uncle\" sans the drinkin...</td>\n",
              "    </tr>\n",
              "    <tr>\n",
              "      <th>6</th>\n",
              "      <td>RT @joncoopertweets: Donald Trump claimed on T...</td>\n",
              "    </tr>\n",
              "    <tr>\n",
              "      <th>7</th>\n",
              "      <td>@GovernorVA @jaketapper It was a long time ago...</td>\n",
              "    </tr>\n",
              "    <tr>\n",
              "      <th>8</th>\n",
              "      <td>RT @thebradfordfile: It’s worth noting the onl...</td>\n",
              "    </tr>\n",
              "    <tr>\n",
              "      <th>9</th>\n",
              "      <td>RT @JuddLegum: 1. Donald Trump's reelection ca...</td>\n",
              "    </tr>\n",
              "  </tbody>\n",
              "</table>\n",
              "</div>"
            ],
            "text/plain": [
              "                                              Tweets\n",
              "0  RT @Kozmocostello: @AlexMLeo @PrisonPlanet Don...\n",
              "1  RT @funder: Investigating Don Jr. Part 1: A fe...\n",
              "2  RT @AlbertoRodNews: Marco Rubio: \"La enorme ma...\n",
              "3  RT @Tennesseine: Do you think Donald Trump has...\n",
              "4  RT @adamcbest: If you are a conservative conde...\n",
              "5  Donald Trump is \"Drunk Uncle\" sans the drinkin...\n",
              "6  RT @joncoopertweets: Donald Trump claimed on T...\n",
              "7  @GovernorVA @jaketapper It was a long time ago...\n",
              "8  RT @thebradfordfile: It’s worth noting the onl...\n",
              "9  RT @JuddLegum: 1. Donald Trump's reelection ca..."
            ]
          },
          "metadata": {
            "tags": []
          }
        },
        {
          "output_type": "stream",
          "text": [
            "2019-02-02 02:15:09\n"
          ],
          "name": "stdout"
        }
      ]
    },
    {
      "metadata": {
        "id": "Q_LQAhXV8oug",
        "colab_type": "text"
      },
      "cell_type": "markdown",
      "source": [
        "### Apply sentiment analysis and process dataset"
      ]
    },
    {
      "metadata": {
        "id": "4l9xCtv4luhm",
        "colab_type": "code",
        "colab": {}
      },
      "cell_type": "code",
      "source": [
        "sid = SentimentIntensityAnalyzer()\n",
        "\n",
        "listy = []\n",
        "\n",
        "for index, row in data.iterrows():\n",
        "  ss = sid.polarity_scores(row[\"Tweets\"])\n",
        "  listy.append(ss)\n",
        "  \n",
        "se = pd.Series(listy)"
      ],
      "execution_count": 0,
      "outputs": []
    },
    {
      "metadata": {
        "id": "kQiYGQEqIZ3w",
        "colab_type": "code",
        "colab": {}
      },
      "cell_type": "code",
      "source": [
        "data['polarity'] = se.values\n",
        "data['negative'] = data['polarity'].apply(lambda x: x['neg'])\n",
        "data['neutral'] = data['polarity'].apply(lambda x: x['neu'])\n",
        "data['positive'] = data['polarity'].apply(lambda x: x['pos'])\n",
        "data['compound'] = data['polarity'].apply(lambda x: x['compound'])\n",
        "data.drop('polarity', axis=1, inplace=True)"
      ],
      "execution_count": 0,
      "outputs": []
    },
    {
      "metadata": {
        "id": "fsw060URgLiW",
        "colab_type": "code",
        "outputId": "ed2291b1-b436-4b7e-f59a-087c8f5af14f",
        "colab": {
          "base_uri": "https://localhost:8080/",
          "height": 359
        }
      },
      "cell_type": "code",
      "source": [
        "display(data.head(10))"
      ],
      "execution_count": 21,
      "outputs": [
        {
          "output_type": "display_data",
          "data": {
            "text/html": [
              "<div>\n",
              "<style scoped>\n",
              "    .dataframe tbody tr th:only-of-type {\n",
              "        vertical-align: middle;\n",
              "    }\n",
              "\n",
              "    .dataframe tbody tr th {\n",
              "        vertical-align: top;\n",
              "    }\n",
              "\n",
              "    .dataframe thead th {\n",
              "        text-align: right;\n",
              "    }\n",
              "</style>\n",
              "<table border=\"1\" class=\"dataframe\">\n",
              "  <thead>\n",
              "    <tr style=\"text-align: right;\">\n",
              "      <th></th>\n",
              "      <th>Tweets</th>\n",
              "      <th>negative</th>\n",
              "      <th>neutral</th>\n",
              "      <th>positive</th>\n",
              "      <th>compound</th>\n",
              "    </tr>\n",
              "  </thead>\n",
              "  <tbody>\n",
              "    <tr>\n",
              "      <th>0</th>\n",
              "      <td>RT @Kozmocostello: @AlexMLeo @PrisonPlanet Don...</td>\n",
              "      <td>0.000</td>\n",
              "      <td>0.829</td>\n",
              "      <td>0.171</td>\n",
              "      <td>0.5423</td>\n",
              "    </tr>\n",
              "    <tr>\n",
              "      <th>1</th>\n",
              "      <td>RT @funder: Investigating Don Jr. Part 1: A fe...</td>\n",
              "      <td>0.000</td>\n",
              "      <td>1.000</td>\n",
              "      <td>0.000</td>\n",
              "      <td>0.0000</td>\n",
              "    </tr>\n",
              "    <tr>\n",
              "      <th>2</th>\n",
              "      <td>RT @AlbertoRodNews: Marco Rubio: \"La enorme ma...</td>\n",
              "      <td>0.000</td>\n",
              "      <td>1.000</td>\n",
              "      <td>0.000</td>\n",
              "      <td>0.0000</td>\n",
              "    </tr>\n",
              "    <tr>\n",
              "      <th>3</th>\n",
              "      <td>RT @Tennesseine: Do you think Donald Trump has...</td>\n",
              "      <td>0.000</td>\n",
              "      <td>1.000</td>\n",
              "      <td>0.000</td>\n",
              "      <td>0.0000</td>\n",
              "    </tr>\n",
              "    <tr>\n",
              "      <th>4</th>\n",
              "      <td>RT @adamcbest: If you are a conservative conde...</td>\n",
              "      <td>0.000</td>\n",
              "      <td>0.884</td>\n",
              "      <td>0.116</td>\n",
              "      <td>0.3612</td>\n",
              "    </tr>\n",
              "    <tr>\n",
              "      <th>5</th>\n",
              "      <td>Donald Trump is \"Drunk Uncle\" sans the drinkin...</td>\n",
              "      <td>0.337</td>\n",
              "      <td>0.663</td>\n",
              "      <td>0.000</td>\n",
              "      <td>-0.6808</td>\n",
              "    </tr>\n",
              "    <tr>\n",
              "      <th>6</th>\n",
              "      <td>RT @joncoopertweets: Donald Trump claimed on T...</td>\n",
              "      <td>0.000</td>\n",
              "      <td>0.786</td>\n",
              "      <td>0.214</td>\n",
              "      <td>0.5994</td>\n",
              "    </tr>\n",
              "    <tr>\n",
              "      <th>7</th>\n",
              "      <td>@GovernorVA @jaketapper It was a long time ago...</td>\n",
              "      <td>0.000</td>\n",
              "      <td>1.000</td>\n",
              "      <td>0.000</td>\n",
              "      <td>0.0000</td>\n",
              "    </tr>\n",
              "    <tr>\n",
              "      <th>8</th>\n",
              "      <td>RT @thebradfordfile: It’s worth noting the onl...</td>\n",
              "      <td>0.066</td>\n",
              "      <td>0.742</td>\n",
              "      <td>0.191</td>\n",
              "      <td>0.4939</td>\n",
              "    </tr>\n",
              "    <tr>\n",
              "      <th>9</th>\n",
              "      <td>RT @JuddLegum: 1. Donald Trump's reelection ca...</td>\n",
              "      <td>0.105</td>\n",
              "      <td>0.895</td>\n",
              "      <td>0.000</td>\n",
              "      <td>-0.3804</td>\n",
              "    </tr>\n",
              "  </tbody>\n",
              "</table>\n",
              "</div>"
            ],
            "text/plain": [
              "                                              Tweets  negative  neutral  \\\n",
              "0  RT @Kozmocostello: @AlexMLeo @PrisonPlanet Don...     0.000    0.829   \n",
              "1  RT @funder: Investigating Don Jr. Part 1: A fe...     0.000    1.000   \n",
              "2  RT @AlbertoRodNews: Marco Rubio: \"La enorme ma...     0.000    1.000   \n",
              "3  RT @Tennesseine: Do you think Donald Trump has...     0.000    1.000   \n",
              "4  RT @adamcbest: If you are a conservative conde...     0.000    0.884   \n",
              "5  Donald Trump is \"Drunk Uncle\" sans the drinkin...     0.337    0.663   \n",
              "6  RT @joncoopertweets: Donald Trump claimed on T...     0.000    0.786   \n",
              "7  @GovernorVA @jaketapper It was a long time ago...     0.000    1.000   \n",
              "8  RT @thebradfordfile: It’s worth noting the onl...     0.066    0.742   \n",
              "9  RT @JuddLegum: 1. Donald Trump's reelection ca...     0.105    0.895   \n",
              "\n",
              "   positive  compound  \n",
              "0     0.171    0.5423  \n",
              "1     0.000    0.0000  \n",
              "2     0.000    0.0000  \n",
              "3     0.000    0.0000  \n",
              "4     0.116    0.3612  \n",
              "5     0.000   -0.6808  \n",
              "6     0.214    0.5994  \n",
              "7     0.000    0.0000  \n",
              "8     0.191    0.4939  \n",
              "9     0.000   -0.3804  "
            ]
          },
          "metadata": {
            "tags": []
          }
        }
      ]
    },
    {
      "metadata": {
        "id": "LD2rGuH4lGNO",
        "colab_type": "text"
      },
      "cell_type": "markdown",
      "source": [
        "### Overall sentiment"
      ]
    },
    {
      "metadata": {
        "id": "DKaAvWHQjgjo",
        "colab_type": "code",
        "outputId": "c0d936e6-cf99-41b1-bf9b-17590b47e20e",
        "colab": {
          "base_uri": "https://localhost:8080/",
          "height": 173
        }
      },
      "cell_type": "code",
      "source": [
        "agg_sentiment = data.agg({'negative' : ['min', 'mean', 'max', 'sum'], 'neutral' : ['min', 'mean', 'max', 'sum'], 'positive' : ['min', 'mean', 'max', 'sum'], 'compound' : ['min', 'mean', 'max', 'sum']})\n",
        "display(agg_sentiment)"
      ],
      "execution_count": 0,
      "outputs": [
        {
          "output_type": "display_data",
          "data": {
            "text/html": [
              "<div>\n",
              "<style scoped>\n",
              "    .dataframe tbody tr th:only-of-type {\n",
              "        vertical-align: middle;\n",
              "    }\n",
              "\n",
              "    .dataframe tbody tr th {\n",
              "        vertical-align: top;\n",
              "    }\n",
              "\n",
              "    .dataframe thead th {\n",
              "        text-align: right;\n",
              "    }\n",
              "</style>\n",
              "<table border=\"1\" class=\"dataframe\">\n",
              "  <thead>\n",
              "    <tr style=\"text-align: right;\">\n",
              "      <th></th>\n",
              "      <th>negative</th>\n",
              "      <th>neutral</th>\n",
              "      <th>positive</th>\n",
              "      <th>compound</th>\n",
              "    </tr>\n",
              "  </thead>\n",
              "  <tbody>\n",
              "    <tr>\n",
              "      <th>min</th>\n",
              "      <td>0.00000</td>\n",
              "      <td>0.33900</td>\n",
              "      <td>0.00000</td>\n",
              "      <td>-0.877900</td>\n",
              "    </tr>\n",
              "    <tr>\n",
              "      <th>mean</th>\n",
              "      <td>0.06564</td>\n",
              "      <td>0.85514</td>\n",
              "      <td>0.07918</td>\n",
              "      <td>0.023687</td>\n",
              "    </tr>\n",
              "    <tr>\n",
              "      <th>max</th>\n",
              "      <td>0.36400</td>\n",
              "      <td>1.00000</td>\n",
              "      <td>0.37000</td>\n",
              "      <td>0.874800</td>\n",
              "    </tr>\n",
              "    <tr>\n",
              "      <th>sum</th>\n",
              "      <td>6.56400</td>\n",
              "      <td>85.51400</td>\n",
              "      <td>7.91800</td>\n",
              "      <td>2.368700</td>\n",
              "    </tr>\n",
              "  </tbody>\n",
              "</table>\n",
              "</div>"
            ],
            "text/plain": [
              "      negative   neutral  positive  compound\n",
              "min    0.00000   0.33900   0.00000 -0.877900\n",
              "mean   0.06564   0.85514   0.07918  0.023687\n",
              "max    0.36400   1.00000   0.37000  0.874800\n",
              "sum    6.56400  85.51400   7.91800  2.368700"
            ]
          },
          "metadata": {
            "tags": []
          }
        }
      ]
    },
    {
      "metadata": {
        "id": "vbPPN-X05lGC",
        "colab_type": "text"
      },
      "cell_type": "markdown",
      "source": [
        "### Lowest sentiment value by type"
      ]
    },
    {
      "metadata": {
        "id": "FgsZ6fh2nk7R",
        "colab_type": "code",
        "outputId": "b38078b1-b915-4418-e502-ac63fee30c95",
        "colab": {
          "base_uri": "https://localhost:8080/",
          "height": 369
        }
      },
      "cell_type": "code",
      "source": [
        "def sentiment_agg(labels, values, legend):\n",
        "  f, ax = plt.subplots(figsize=(7, 5))\n",
        "  sns.barplot(x=labels, y=values, palette=\"dark\")\n",
        "  ax.set_ylabel(legend)\n",
        "  plt.tight_layout(h_pad=2)\n",
        "  plt.show()\n",
        "\n",
        "sentiment_agg(list(agg_sentiment.columns), agg_sentiment.loc['min'].values, \"Lowest sentiment\")"
      ],
      "execution_count": 15,
      "outputs": [
        {
          "output_type": "display_data",
          "data": {
            "image/png": "[encoded data removed]",
            "text/plain": [
              "<Figure size 504x360 with 1 Axes>"
            ]
          },
          "metadata": {
            "tags": []
          }
        }
      ]
    },
    {
      "metadata": {
        "id": "JFU2JVrc5r65",
        "colab_type": "text"
      },
      "cell_type": "markdown",
      "source": [
        "### Mean sentiment value by type"
      ]
    },
    {
      "metadata": {
        "id": "MKhhnYONnw6p",
        "colab_type": "code",
        "outputId": "8a6c8c54-5b1a-403e-f034-1f22c3ddda1e",
        "colab": {
          "base_uri": "https://localhost:8080/",
          "height": 369
        }
      },
      "cell_type": "code",
      "source": [
        "sentiment_agg(list(agg_sentiment.columns), agg_sentiment.loc['mean'].values, \"Mean sentiment\")"
      ],
      "execution_count": 16,
      "outputs": [
        {
          "output_type": "display_data",
          "data": {
            "image/png": "[encoded data removed]",
            "text/plain": [
              "<Figure size 504x360 with 1 Axes>"
            ]
          },
          "metadata": {
            "tags": []
          }
        }
      ]
    },
    {
      "metadata": {
        "id": "aqBctcpB5szp",
        "colab_type": "text"
      },
      "cell_type": "markdown",
      "source": [
        "### Maximum sentiment value by type"
      ]
    },
    {
      "metadata": {
        "id": "2OKX2caW5pBf",
        "colab_type": "code",
        "outputId": "45709fce-0e34-4ccf-e64e-797c452fad6a",
        "colab": {
          "base_uri": "https://localhost:8080/",
          "height": 369
        }
      },
      "cell_type": "code",
      "source": [
        "sentiment_agg(list(agg_sentiment.columns), agg_sentiment.loc['max'].values, \"Maximum sentiment\")"
      ],
      "execution_count": 17,
      "outputs": [
        {
          "output_type": "display_data",
          "data": {
            "image/png": "[encoded data removed]",
            "text/plain": [
              "<Figure size 504x360 with 1 Axes>"
            ]
          },
          "metadata": {
            "tags": []
          }
        }
      ]
    },
    {
      "metadata": {
        "id": "NFERiyBy5tQh",
        "colab_type": "text"
      },
      "cell_type": "markdown",
      "source": [
        "### Overall sentiment value by type"
      ]
    },
    {
      "metadata": {
        "id": "_H8nvRdI5rYF",
        "colab_type": "code",
        "outputId": "62ddb555-5190-44ba-eea7-b48cb9765c30",
        "colab": {
          "base_uri": "https://localhost:8080/",
          "height": 369
        }
      },
      "cell_type": "code",
      "source": [
        "sentiment_agg(list(agg_sentiment.columns), agg_sentiment.loc['sum'].values, \"Overall sentiment\")"
      ],
      "execution_count": 18,
      "outputs": [
        {
          "output_type": "display_data",
          "data": {
            "image/png": "[encoded data removed]",
            "text/plain": [
              "<Figure size 504x360 with 1 Axes>"
            ]
          },
          "metadata": {
            "tags": []
          }
        }
      ]
    }
  ]
}
